{
  "cells": [
    {
      "cell_type": "markdown",
      "metadata": {
        "id": "view-in-github",
        "colab_type": "text"
      },
      "source": [
        "<a href=\"https://colab.research.google.com/github/KATTA-00/CO542-Neural-Networks-Labs/blob/main/lab03/E19129_lab03.ipynb\" target=\"_parent\"><img src=\"https://colab.research.google.com/assets/colab-badge.svg\" alt=\"Open In Colab\"/></a>"
      ]
    },
    {
      "cell_type": "markdown",
      "id": "0098314a",
      "metadata": {
        "id": "0098314a"
      },
      "source": [
        "# CO542 - Neural Networks and Fuzzy Systems\n",
        "## E/19/129 - K.H. Gunawardana\n",
        "\n",
        "### Lab 03: Generalized Hebbian Learning (GHL)"
      ]
    },
    {
      "cell_type": "markdown",
      "id": "8f35b8c3",
      "metadata": {
        "id": "8f35b8c3"
      },
      "source": [
        "### **Task 01: GHL for 2D Synthetic Data**"
      ]
    },
    {
      "cell_type": "code",
      "source": [
        "import torch"
      ],
      "metadata": {
        "id": "RhVQpuMQonIW"
      },
      "id": "RhVQpuMQonIW",
      "execution_count": 2,
      "outputs": []
    },
    {
      "cell_type": "code",
      "execution_count": 3,
      "id": "743978df",
      "metadata": {
        "id": "743978df"
      },
      "outputs": [],
      "source": [
        "# Generate 1000 samples from 2D Gaussian (mean=0, std=1)\n",
        "torch.manual_seed(0)\n",
        "X = torch.randn(1000, 2)"
      ]
    },
    {
      "cell_type": "code",
      "source": [
        "X"
      ],
      "metadata": {
        "colab": {
          "base_uri": "https://localhost:8080/"
        },
        "id": "91QTR6zJopwc",
        "outputId": "411535e6-2430-455f-9cb7-9defbb6aabd7"
      },
      "id": "91QTR6zJopwc",
      "execution_count": 4,
      "outputs": [
        {
          "output_type": "execute_result",
          "data": {
            "text/plain": [
              "tensor([[-1.1258, -1.1524],\n",
              "        [-0.2506, -0.4339],\n",
              "        [ 0.8487,  0.6920],\n",
              "        ...,\n",
              "        [ 1.6728, -0.3151],\n",
              "        [-0.2965, -0.3568],\n",
              "        [ 0.0829, -0.5187]])"
            ]
          },
          "metadata": {},
          "execution_count": 4
        }
      ]
    },
    {
      "cell_type": "code",
      "source": [
        "# Center the data (subtract mean)\n",
        "X = X - X.mean(dim=0)"
      ],
      "metadata": {
        "id": "sEEIzu2hokEA"
      },
      "id": "sEEIzu2hokEA",
      "execution_count": 5,
      "outputs": []
    },
    {
      "cell_type": "code",
      "source": [
        "X"
      ],
      "metadata": {
        "colab": {
          "base_uri": "https://localhost:8080/"
        },
        "id": "_XOW4taaosK6",
        "outputId": "43e66752-ade7-473e-a0e9-a1bba05db1bd"
      },
      "id": "_XOW4taaosK6",
      "execution_count": 6,
      "outputs": [
        {
          "output_type": "execute_result",
          "data": {
            "text/plain": [
              "tensor([[-1.1174, -1.1910],\n",
              "        [-0.2421, -0.4726],\n",
              "        [ 0.8572,  0.6533],\n",
              "        ...,\n",
              "        [ 1.6813, -0.3538],\n",
              "        [-0.2881, -0.3955],\n",
              "        [ 0.0914, -0.5574]])"
            ]
          },
          "metadata": {},
          "execution_count": 6
        }
      ]
    },
    {
      "cell_type": "code",
      "source": [
        "# Parameters\n",
        "epochs = 100\n",
        "learning_rate = 0.01\n",
        "n_samples, n_features = X.shape\n",
        "n_components = 2\n",
        "\n",
        "# Initialize weights (random)\n",
        "W = torch.randn(n_components, n_features)\n",
        "\n",
        "# Normalize rows of W\n",
        "W = torch.nn.functional.normalize(W, dim=1)\n",
        "\n",
        "# GHL training loop\n",
        "for epoch in range(epochs):\n",
        "    for x in X:\n",
        "        x = x.view(-1, 1)  # column vector\n",
        "        y = W @ x          # projections\n",
        "\n",
        "        # Update each weight vector using Sanger's rule\n",
        "        for i in range(n_components):\n",
        "            correction = y[i] * (x.T - y[:i+1].T @ W[:i+1])\n",
        "            W[i] += learning_rate * correction.squeeze()\n",
        "\n",
        "    # Optionally: Re-orthonormalize weights every epoch\n",
        "    W = torch.nn.functional.normalize(W, dim=1)"
      ],
      "metadata": {
        "id": "xcTf_hXymexm"
      },
      "id": "xcTf_hXymexm",
      "execution_count": 7,
      "outputs": []
    },
    {
      "cell_type": "code",
      "source": [
        "print(\"Final GHL Weights (each row is a component):\")\n",
        "print(W)"
      ],
      "metadata": {
        "colab": {
          "base_uri": "https://localhost:8080/"
        },
        "id": "qQKeW2i7mh9w",
        "outputId": "30c0513c-fa0a-4bdd-fcec-d2456f8d9001"
      },
      "id": "qQKeW2i7mh9w",
      "execution_count": 8,
      "outputs": [
        {
          "output_type": "stream",
          "name": "stdout",
          "text": [
            "Final GHL Weights (each row is a component):\n",
            "tensor([[ 0.1193,  0.9929],\n",
            "        [-0.9990,  0.0444]])\n"
          ]
        }
      ]
    },
    {
      "cell_type": "code",
      "source": [
        "# Use PyTorch SVD to compute PCA components\n",
        "U, S, Vt = torch.linalg.svd(X.T)\n",
        "print(\"PCA Components (rows):\")\n",
        "print(Vt[:2])  # top 2 principal components"
      ],
      "metadata": {
        "colab": {
          "base_uri": "https://localhost:8080/"
        },
        "id": "MciNzstNmo3p",
        "outputId": "9706bc6f-f346-47ce-bb11-830313448a1a"
      },
      "id": "MciNzstNmo3p",
      "execution_count": 9,
      "outputs": [
        {
          "output_type": "stream",
          "name": "stdout",
          "text": [
            "PCA Components (rows):\n",
            "tensor([[-0.0409, -0.0153,  0.0235,  ..., -0.0029, -0.0132, -0.0163],\n",
            "        [-0.0292, -0.0053,  0.0236,  ...,  0.0542, -0.0071,  0.0055]])\n"
          ]
        }
      ]
    },
    {
      "cell_type": "markdown",
      "source": [
        "### **Questions:**"
      ],
      "metadata": {
        "id": "SW9zEJH-xPqK"
      },
      "id": "SW9zEJH-xPqK"
    },
    {
      "cell_type": "markdown",
      "source": [
        "#### What are the final weight vectors?\n",
        "\n",
        "- Component 1: [0.1193, 0.9929]\n",
        "\n",
        "This vector is pointing mostly in the vertical direction (high weight on the second dimension). It likely corresponds to the first principal component — the direction of maximum variance in the data.\n",
        "\n",
        "- Component 2: [-0.9990, 0.0444]\n",
        "\n",
        "This is roughly orthogonal to the first component and points mostly along the negative x-axis. It corresponds to the second principal component, capturing the remaining variance."
      ],
      "metadata": {
        "id": "a8NjnuEcxWdV"
      },
      "id": "a8NjnuEcxWdV"
    },
    {
      "cell_type": "markdown",
      "source": [
        "#### How do they compare to PCA components?"
      ],
      "metadata": {
        "id": "rYfHAXxgylCC"
      },
      "id": "rYfHAXxgylCC"
    },
    {
      "cell_type": "code",
      "source": [
        "import numpy as np\n",
        "from sklearn.decomposition import PCA\n",
        "import matplotlib.pyplot as plt"
      ],
      "metadata": {
        "id": "3okOq8RMyj98"
      },
      "id": "3okOq8RMyj98",
      "execution_count": 10,
      "outputs": []
    },
    {
      "cell_type": "code",
      "source": [
        "# Step 1: Generate and center 2D synthetic data\n",
        "torch.manual_seed(0)\n",
        "X = torch.randn(1000, 2) @ torch.tensor([[2.0, 0.5], [0.5, 0.2]])  # Add some correlation\n",
        "X_centered = X - X.mean(dim=0)"
      ],
      "metadata": {
        "id": "KTnTUAcVxVqs"
      },
      "id": "KTnTUAcVxVqs",
      "execution_count": 11,
      "outputs": []
    },
    {
      "cell_type": "code",
      "source": [
        "# Step 2: Run PCA on the centered data\n",
        "pca = PCA(n_components=2)\n",
        "pca.fit(X_centered.numpy())"
      ],
      "metadata": {
        "colab": {
          "base_uri": "https://localhost:8080/",
          "height": 80
        },
        "id": "okPEivugzL1i",
        "outputId": "27dd0385-7ce7-4c07-fe6e-31f6e436057a"
      },
      "id": "okPEivugzL1i",
      "execution_count": 12,
      "outputs": [
        {
          "output_type": "execute_result",
          "data": {
            "text/plain": [
              "PCA(n_components=2)"
            ],
            "text/html": [
              "<style>#sk-container-id-1 {\n",
              "  /* Definition of color scheme common for light and dark mode */\n",
              "  --sklearn-color-text: #000;\n",
              "  --sklearn-color-text-muted: #666;\n",
              "  --sklearn-color-line: gray;\n",
              "  /* Definition of color scheme for unfitted estimators */\n",
              "  --sklearn-color-unfitted-level-0: #fff5e6;\n",
              "  --sklearn-color-unfitted-level-1: #f6e4d2;\n",
              "  --sklearn-color-unfitted-level-2: #ffe0b3;\n",
              "  --sklearn-color-unfitted-level-3: chocolate;\n",
              "  /* Definition of color scheme for fitted estimators */\n",
              "  --sklearn-color-fitted-level-0: #f0f8ff;\n",
              "  --sklearn-color-fitted-level-1: #d4ebff;\n",
              "  --sklearn-color-fitted-level-2: #b3dbfd;\n",
              "  --sklearn-color-fitted-level-3: cornflowerblue;\n",
              "\n",
              "  /* Specific color for light theme */\n",
              "  --sklearn-color-text-on-default-background: var(--sg-text-color, var(--theme-code-foreground, var(--jp-content-font-color1, black)));\n",
              "  --sklearn-color-background: var(--sg-background-color, var(--theme-background, var(--jp-layout-color0, white)));\n",
              "  --sklearn-color-border-box: var(--sg-text-color, var(--theme-code-foreground, var(--jp-content-font-color1, black)));\n",
              "  --sklearn-color-icon: #696969;\n",
              "\n",
              "  @media (prefers-color-scheme: dark) {\n",
              "    /* Redefinition of color scheme for dark theme */\n",
              "    --sklearn-color-text-on-default-background: var(--sg-text-color, var(--theme-code-foreground, var(--jp-content-font-color1, white)));\n",
              "    --sklearn-color-background: var(--sg-background-color, var(--theme-background, var(--jp-layout-color0, #111)));\n",
              "    --sklearn-color-border-box: var(--sg-text-color, var(--theme-code-foreground, var(--jp-content-font-color1, white)));\n",
              "    --sklearn-color-icon: #878787;\n",
              "  }\n",
              "}\n",
              "\n",
              "#sk-container-id-1 {\n",
              "  color: var(--sklearn-color-text);\n",
              "}\n",
              "\n",
              "#sk-container-id-1 pre {\n",
              "  padding: 0;\n",
              "}\n",
              "\n",
              "#sk-container-id-1 input.sk-hidden--visually {\n",
              "  border: 0;\n",
              "  clip: rect(1px 1px 1px 1px);\n",
              "  clip: rect(1px, 1px, 1px, 1px);\n",
              "  height: 1px;\n",
              "  margin: -1px;\n",
              "  overflow: hidden;\n",
              "  padding: 0;\n",
              "  position: absolute;\n",
              "  width: 1px;\n",
              "}\n",
              "\n",
              "#sk-container-id-1 div.sk-dashed-wrapped {\n",
              "  border: 1px dashed var(--sklearn-color-line);\n",
              "  margin: 0 0.4em 0.5em 0.4em;\n",
              "  box-sizing: border-box;\n",
              "  padding-bottom: 0.4em;\n",
              "  background-color: var(--sklearn-color-background);\n",
              "}\n",
              "\n",
              "#sk-container-id-1 div.sk-container {\n",
              "  /* jupyter's `normalize.less` sets `[hidden] { display: none; }`\n",
              "     but bootstrap.min.css set `[hidden] { display: none !important; }`\n",
              "     so we also need the `!important` here to be able to override the\n",
              "     default hidden behavior on the sphinx rendered scikit-learn.org.\n",
              "     See: https://github.com/scikit-learn/scikit-learn/issues/21755 */\n",
              "  display: inline-block !important;\n",
              "  position: relative;\n",
              "}\n",
              "\n",
              "#sk-container-id-1 div.sk-text-repr-fallback {\n",
              "  display: none;\n",
              "}\n",
              "\n",
              "div.sk-parallel-item,\n",
              "div.sk-serial,\n",
              "div.sk-item {\n",
              "  /* draw centered vertical line to link estimators */\n",
              "  background-image: linear-gradient(var(--sklearn-color-text-on-default-background), var(--sklearn-color-text-on-default-background));\n",
              "  background-size: 2px 100%;\n",
              "  background-repeat: no-repeat;\n",
              "  background-position: center center;\n",
              "}\n",
              "\n",
              "/* Parallel-specific style estimator block */\n",
              "\n",
              "#sk-container-id-1 div.sk-parallel-item::after {\n",
              "  content: \"\";\n",
              "  width: 100%;\n",
              "  border-bottom: 2px solid var(--sklearn-color-text-on-default-background);\n",
              "  flex-grow: 1;\n",
              "}\n",
              "\n",
              "#sk-container-id-1 div.sk-parallel {\n",
              "  display: flex;\n",
              "  align-items: stretch;\n",
              "  justify-content: center;\n",
              "  background-color: var(--sklearn-color-background);\n",
              "  position: relative;\n",
              "}\n",
              "\n",
              "#sk-container-id-1 div.sk-parallel-item {\n",
              "  display: flex;\n",
              "  flex-direction: column;\n",
              "}\n",
              "\n",
              "#sk-container-id-1 div.sk-parallel-item:first-child::after {\n",
              "  align-self: flex-end;\n",
              "  width: 50%;\n",
              "}\n",
              "\n",
              "#sk-container-id-1 div.sk-parallel-item:last-child::after {\n",
              "  align-self: flex-start;\n",
              "  width: 50%;\n",
              "}\n",
              "\n",
              "#sk-container-id-1 div.sk-parallel-item:only-child::after {\n",
              "  width: 0;\n",
              "}\n",
              "\n",
              "/* Serial-specific style estimator block */\n",
              "\n",
              "#sk-container-id-1 div.sk-serial {\n",
              "  display: flex;\n",
              "  flex-direction: column;\n",
              "  align-items: center;\n",
              "  background-color: var(--sklearn-color-background);\n",
              "  padding-right: 1em;\n",
              "  padding-left: 1em;\n",
              "}\n",
              "\n",
              "\n",
              "/* Toggleable style: style used for estimator/Pipeline/ColumnTransformer box that is\n",
              "clickable and can be expanded/collapsed.\n",
              "- Pipeline and ColumnTransformer use this feature and define the default style\n",
              "- Estimators will overwrite some part of the style using the `sk-estimator` class\n",
              "*/\n",
              "\n",
              "/* Pipeline and ColumnTransformer style (default) */\n",
              "\n",
              "#sk-container-id-1 div.sk-toggleable {\n",
              "  /* Default theme specific background. It is overwritten whether we have a\n",
              "  specific estimator or a Pipeline/ColumnTransformer */\n",
              "  background-color: var(--sklearn-color-background);\n",
              "}\n",
              "\n",
              "/* Toggleable label */\n",
              "#sk-container-id-1 label.sk-toggleable__label {\n",
              "  cursor: pointer;\n",
              "  display: flex;\n",
              "  width: 100%;\n",
              "  margin-bottom: 0;\n",
              "  padding: 0.5em;\n",
              "  box-sizing: border-box;\n",
              "  text-align: center;\n",
              "  align-items: start;\n",
              "  justify-content: space-between;\n",
              "  gap: 0.5em;\n",
              "}\n",
              "\n",
              "#sk-container-id-1 label.sk-toggleable__label .caption {\n",
              "  font-size: 0.6rem;\n",
              "  font-weight: lighter;\n",
              "  color: var(--sklearn-color-text-muted);\n",
              "}\n",
              "\n",
              "#sk-container-id-1 label.sk-toggleable__label-arrow:before {\n",
              "  /* Arrow on the left of the label */\n",
              "  content: \"▸\";\n",
              "  float: left;\n",
              "  margin-right: 0.25em;\n",
              "  color: var(--sklearn-color-icon);\n",
              "}\n",
              "\n",
              "#sk-container-id-1 label.sk-toggleable__label-arrow:hover:before {\n",
              "  color: var(--sklearn-color-text);\n",
              "}\n",
              "\n",
              "/* Toggleable content - dropdown */\n",
              "\n",
              "#sk-container-id-1 div.sk-toggleable__content {\n",
              "  max-height: 0;\n",
              "  max-width: 0;\n",
              "  overflow: hidden;\n",
              "  text-align: left;\n",
              "  /* unfitted */\n",
              "  background-color: var(--sklearn-color-unfitted-level-0);\n",
              "}\n",
              "\n",
              "#sk-container-id-1 div.sk-toggleable__content.fitted {\n",
              "  /* fitted */\n",
              "  background-color: var(--sklearn-color-fitted-level-0);\n",
              "}\n",
              "\n",
              "#sk-container-id-1 div.sk-toggleable__content pre {\n",
              "  margin: 0.2em;\n",
              "  border-radius: 0.25em;\n",
              "  color: var(--sklearn-color-text);\n",
              "  /* unfitted */\n",
              "  background-color: var(--sklearn-color-unfitted-level-0);\n",
              "}\n",
              "\n",
              "#sk-container-id-1 div.sk-toggleable__content.fitted pre {\n",
              "  /* unfitted */\n",
              "  background-color: var(--sklearn-color-fitted-level-0);\n",
              "}\n",
              "\n",
              "#sk-container-id-1 input.sk-toggleable__control:checked~div.sk-toggleable__content {\n",
              "  /* Expand drop-down */\n",
              "  max-height: 200px;\n",
              "  max-width: 100%;\n",
              "  overflow: auto;\n",
              "}\n",
              "\n",
              "#sk-container-id-1 input.sk-toggleable__control:checked~label.sk-toggleable__label-arrow:before {\n",
              "  content: \"▾\";\n",
              "}\n",
              "\n",
              "/* Pipeline/ColumnTransformer-specific style */\n",
              "\n",
              "#sk-container-id-1 div.sk-label input.sk-toggleable__control:checked~label.sk-toggleable__label {\n",
              "  color: var(--sklearn-color-text);\n",
              "  background-color: var(--sklearn-color-unfitted-level-2);\n",
              "}\n",
              "\n",
              "#sk-container-id-1 div.sk-label.fitted input.sk-toggleable__control:checked~label.sk-toggleable__label {\n",
              "  background-color: var(--sklearn-color-fitted-level-2);\n",
              "}\n",
              "\n",
              "/* Estimator-specific style */\n",
              "\n",
              "/* Colorize estimator box */\n",
              "#sk-container-id-1 div.sk-estimator input.sk-toggleable__control:checked~label.sk-toggleable__label {\n",
              "  /* unfitted */\n",
              "  background-color: var(--sklearn-color-unfitted-level-2);\n",
              "}\n",
              "\n",
              "#sk-container-id-1 div.sk-estimator.fitted input.sk-toggleable__control:checked~label.sk-toggleable__label {\n",
              "  /* fitted */\n",
              "  background-color: var(--sklearn-color-fitted-level-2);\n",
              "}\n",
              "\n",
              "#sk-container-id-1 div.sk-label label.sk-toggleable__label,\n",
              "#sk-container-id-1 div.sk-label label {\n",
              "  /* The background is the default theme color */\n",
              "  color: var(--sklearn-color-text-on-default-background);\n",
              "}\n",
              "\n",
              "/* On hover, darken the color of the background */\n",
              "#sk-container-id-1 div.sk-label:hover label.sk-toggleable__label {\n",
              "  color: var(--sklearn-color-text);\n",
              "  background-color: var(--sklearn-color-unfitted-level-2);\n",
              "}\n",
              "\n",
              "/* Label box, darken color on hover, fitted */\n",
              "#sk-container-id-1 div.sk-label.fitted:hover label.sk-toggleable__label.fitted {\n",
              "  color: var(--sklearn-color-text);\n",
              "  background-color: var(--sklearn-color-fitted-level-2);\n",
              "}\n",
              "\n",
              "/* Estimator label */\n",
              "\n",
              "#sk-container-id-1 div.sk-label label {\n",
              "  font-family: monospace;\n",
              "  font-weight: bold;\n",
              "  display: inline-block;\n",
              "  line-height: 1.2em;\n",
              "}\n",
              "\n",
              "#sk-container-id-1 div.sk-label-container {\n",
              "  text-align: center;\n",
              "}\n",
              "\n",
              "/* Estimator-specific */\n",
              "#sk-container-id-1 div.sk-estimator {\n",
              "  font-family: monospace;\n",
              "  border: 1px dotted var(--sklearn-color-border-box);\n",
              "  border-radius: 0.25em;\n",
              "  box-sizing: border-box;\n",
              "  margin-bottom: 0.5em;\n",
              "  /* unfitted */\n",
              "  background-color: var(--sklearn-color-unfitted-level-0);\n",
              "}\n",
              "\n",
              "#sk-container-id-1 div.sk-estimator.fitted {\n",
              "  /* fitted */\n",
              "  background-color: var(--sklearn-color-fitted-level-0);\n",
              "}\n",
              "\n",
              "/* on hover */\n",
              "#sk-container-id-1 div.sk-estimator:hover {\n",
              "  /* unfitted */\n",
              "  background-color: var(--sklearn-color-unfitted-level-2);\n",
              "}\n",
              "\n",
              "#sk-container-id-1 div.sk-estimator.fitted:hover {\n",
              "  /* fitted */\n",
              "  background-color: var(--sklearn-color-fitted-level-2);\n",
              "}\n",
              "\n",
              "/* Specification for estimator info (e.g. \"i\" and \"?\") */\n",
              "\n",
              "/* Common style for \"i\" and \"?\" */\n",
              "\n",
              ".sk-estimator-doc-link,\n",
              "a:link.sk-estimator-doc-link,\n",
              "a:visited.sk-estimator-doc-link {\n",
              "  float: right;\n",
              "  font-size: smaller;\n",
              "  line-height: 1em;\n",
              "  font-family: monospace;\n",
              "  background-color: var(--sklearn-color-background);\n",
              "  border-radius: 1em;\n",
              "  height: 1em;\n",
              "  width: 1em;\n",
              "  text-decoration: none !important;\n",
              "  margin-left: 0.5em;\n",
              "  text-align: center;\n",
              "  /* unfitted */\n",
              "  border: var(--sklearn-color-unfitted-level-1) 1pt solid;\n",
              "  color: var(--sklearn-color-unfitted-level-1);\n",
              "}\n",
              "\n",
              ".sk-estimator-doc-link.fitted,\n",
              "a:link.sk-estimator-doc-link.fitted,\n",
              "a:visited.sk-estimator-doc-link.fitted {\n",
              "  /* fitted */\n",
              "  border: var(--sklearn-color-fitted-level-1) 1pt solid;\n",
              "  color: var(--sklearn-color-fitted-level-1);\n",
              "}\n",
              "\n",
              "/* On hover */\n",
              "div.sk-estimator:hover .sk-estimator-doc-link:hover,\n",
              ".sk-estimator-doc-link:hover,\n",
              "div.sk-label-container:hover .sk-estimator-doc-link:hover,\n",
              ".sk-estimator-doc-link:hover {\n",
              "  /* unfitted */\n",
              "  background-color: var(--sklearn-color-unfitted-level-3);\n",
              "  color: var(--sklearn-color-background);\n",
              "  text-decoration: none;\n",
              "}\n",
              "\n",
              "div.sk-estimator.fitted:hover .sk-estimator-doc-link.fitted:hover,\n",
              ".sk-estimator-doc-link.fitted:hover,\n",
              "div.sk-label-container:hover .sk-estimator-doc-link.fitted:hover,\n",
              ".sk-estimator-doc-link.fitted:hover {\n",
              "  /* fitted */\n",
              "  background-color: var(--sklearn-color-fitted-level-3);\n",
              "  color: var(--sklearn-color-background);\n",
              "  text-decoration: none;\n",
              "}\n",
              "\n",
              "/* Span, style for the box shown on hovering the info icon */\n",
              ".sk-estimator-doc-link span {\n",
              "  display: none;\n",
              "  z-index: 9999;\n",
              "  position: relative;\n",
              "  font-weight: normal;\n",
              "  right: .2ex;\n",
              "  padding: .5ex;\n",
              "  margin: .5ex;\n",
              "  width: min-content;\n",
              "  min-width: 20ex;\n",
              "  max-width: 50ex;\n",
              "  color: var(--sklearn-color-text);\n",
              "  box-shadow: 2pt 2pt 4pt #999;\n",
              "  /* unfitted */\n",
              "  background: var(--sklearn-color-unfitted-level-0);\n",
              "  border: .5pt solid var(--sklearn-color-unfitted-level-3);\n",
              "}\n",
              "\n",
              ".sk-estimator-doc-link.fitted span {\n",
              "  /* fitted */\n",
              "  background: var(--sklearn-color-fitted-level-0);\n",
              "  border: var(--sklearn-color-fitted-level-3);\n",
              "}\n",
              "\n",
              ".sk-estimator-doc-link:hover span {\n",
              "  display: block;\n",
              "}\n",
              "\n",
              "/* \"?\"-specific style due to the `<a>` HTML tag */\n",
              "\n",
              "#sk-container-id-1 a.estimator_doc_link {\n",
              "  float: right;\n",
              "  font-size: 1rem;\n",
              "  line-height: 1em;\n",
              "  font-family: monospace;\n",
              "  background-color: var(--sklearn-color-background);\n",
              "  border-radius: 1rem;\n",
              "  height: 1rem;\n",
              "  width: 1rem;\n",
              "  text-decoration: none;\n",
              "  /* unfitted */\n",
              "  color: var(--sklearn-color-unfitted-level-1);\n",
              "  border: var(--sklearn-color-unfitted-level-1) 1pt solid;\n",
              "}\n",
              "\n",
              "#sk-container-id-1 a.estimator_doc_link.fitted {\n",
              "  /* fitted */\n",
              "  border: var(--sklearn-color-fitted-level-1) 1pt solid;\n",
              "  color: var(--sklearn-color-fitted-level-1);\n",
              "}\n",
              "\n",
              "/* On hover */\n",
              "#sk-container-id-1 a.estimator_doc_link:hover {\n",
              "  /* unfitted */\n",
              "  background-color: var(--sklearn-color-unfitted-level-3);\n",
              "  color: var(--sklearn-color-background);\n",
              "  text-decoration: none;\n",
              "}\n",
              "\n",
              "#sk-container-id-1 a.estimator_doc_link.fitted:hover {\n",
              "  /* fitted */\n",
              "  background-color: var(--sklearn-color-fitted-level-3);\n",
              "}\n",
              "</style><div id=\"sk-container-id-1\" class=\"sk-top-container\"><div class=\"sk-text-repr-fallback\"><pre>PCA(n_components=2)</pre><b>In a Jupyter environment, please rerun this cell to show the HTML representation or trust the notebook. <br />On GitHub, the HTML representation is unable to render, please try loading this page with nbviewer.org.</b></div><div class=\"sk-container\" hidden><div class=\"sk-item\"><div class=\"sk-estimator fitted sk-toggleable\"><input class=\"sk-toggleable__control sk-hidden--visually\" id=\"sk-estimator-id-1\" type=\"checkbox\" checked><label for=\"sk-estimator-id-1\" class=\"sk-toggleable__label fitted sk-toggleable__label-arrow\"><div><div>PCA</div></div><div><a class=\"sk-estimator-doc-link fitted\" rel=\"noreferrer\" target=\"_blank\" href=\"https://scikit-learn.org/1.6/modules/generated/sklearn.decomposition.PCA.html\">?<span>Documentation for PCA</span></a><span class=\"sk-estimator-doc-link fitted\">i<span>Fitted</span></span></div></label><div class=\"sk-toggleable__content fitted\"><pre>PCA(n_components=2)</pre></div> </div></div></div></div>"
            ]
          },
          "metadata": {},
          "execution_count": 12
        }
      ]
    },
    {
      "cell_type": "code",
      "source": [
        "pca_components = pca.components_  # Each row is a principal component\n",
        "\n",
        "print(\"PCA Components:\")\n",
        "print(torch.tensor(pca_components))"
      ],
      "metadata": {
        "colab": {
          "base_uri": "https://localhost:8080/"
        },
        "id": "FGMZlmvbzN3Z",
        "outputId": "1a031e84-8b28-4e3c-8530-bcc279efa28f"
      },
      "id": "FGMZlmvbzN3Z",
      "execution_count": 13,
      "outputs": [
        {
          "output_type": "stream",
          "name": "stdout",
          "text": [
            "PCA Components:\n",
            "tensor([[ 0.9678,  0.2518],\n",
            "        [-0.2518,  0.9678]])\n"
          ]
        }
      ]
    },
    {
      "cell_type": "code",
      "source": [
        "# Step 3: Final GHL weights from your output\n",
        "ghl_weights = torch.tensor([\n",
        "    [ 0.1193,  0.9929],\n",
        "    [-0.9990,  0.0444]\n",
        "])"
      ],
      "metadata": {
        "id": "TE89ux7QzRzD"
      },
      "id": "TE89ux7QzRzD",
      "execution_count": 14,
      "outputs": []
    },
    {
      "cell_type": "code",
      "source": [
        "# Step 4: Normalize both for fair comparison (optional but common)\n",
        "def normalize_rows(t):\n",
        "    return t / torch.norm(t, dim=1, keepdim=True)\n",
        "\n",
        "pca_components_normalized = normalize_rows(torch.tensor(pca_components))\n",
        "ghl_weights_normalized = normalize_rows(ghl_weights)"
      ],
      "metadata": {
        "id": "lQk1PzxhzV3P"
      },
      "id": "lQk1PzxhzV3P",
      "execution_count": 15,
      "outputs": []
    },
    {
      "cell_type": "code",
      "source": [
        "print(\"\\nNormalized PCA Components:\")\n",
        "print(pca_components_normalized)\n",
        "\n",
        "print(\"\\nNormalized GHL Components:\")\n",
        "print(ghl_weights_normalized)"
      ],
      "metadata": {
        "colab": {
          "base_uri": "https://localhost:8080/"
        },
        "id": "As3-6IJqzYNn",
        "outputId": "b0d024c5-66b8-403f-d6cf-58f13181f6ab"
      },
      "id": "As3-6IJqzYNn",
      "execution_count": 16,
      "outputs": [
        {
          "output_type": "stream",
          "name": "stdout",
          "text": [
            "\n",
            "Normalized PCA Components:\n",
            "tensor([[ 0.9678,  0.2518],\n",
            "        [-0.2518,  0.9678]])\n",
            "\n",
            "Normalized GHL Components:\n",
            "tensor([[ 0.1193,  0.9929],\n",
            "        [-0.9990,  0.0444]])\n"
          ]
        }
      ]
    },
    {
      "cell_type": "code",
      "source": [
        "# Step 5 (optional): Visual comparison\n",
        "plt.quiver([0, 0], [0, 0],\n",
        "           ghl_weights_normalized[:, 0], ghl_weights_normalized[:, 1],\n",
        "           angles='xy', scale_units='xy', scale=1, color=['r', 'r'], label='GHL')\n",
        "\n",
        "plt.quiver([0, 0], [0, 0],\n",
        "           pca_components_normalized[:, 0], pca_components_normalized[:, 1],\n",
        "           angles='xy', scale_units='xy', scale=1, color=['b', 'b'], label='PCA')\n",
        "\n",
        "plt.legend(['GHL Components', 'PCA Components'])\n",
        "plt.xlim(-1.5, 1.5)\n",
        "plt.ylim(-1.5, 1.5)\n",
        "plt.gca().set_aspect('equal')\n",
        "plt.grid(True)\n",
        "plt.title(\"GHL vs PCA Components\")\n",
        "plt.show()"
      ],
      "metadata": {
        "colab": {
          "base_uri": "https://localhost:8080/",
          "height": 452
        },
        "id": "RHyj83vdzawk",
        "outputId": "dae075e1-31c2-42ae-89b4-bc795c4b38b1"
      },
      "id": "RHyj83vdzawk",
      "execution_count": 21,
      "outputs": [
        {
          "output_type": "display_data",
          "data": {
            "text/plain": [
              "<Figure size 640x480 with 1 Axes>"
            ],
            "image/png": "[encoded data removed]"
          },
          "metadata": {}
        }
      ]
    },
    {
      "cell_type": "markdown",
      "source": [
        "- One of the GHL vectors closely aligns with a PCA component in both direction and magnitude. The other GHL vector points in the opposite direction of the corresponding PCA component but has a similar magnitude. Since PCA components are unique up to sign, this indicates that GHL has successfully learned the same principal directions as PCA."
      ],
      "metadata": {
        "id": "usE9FqgkAfSX"
      },
      "id": "usE9FqgkAfSX"
    },
    {
      "cell_type": "markdown",
      "source": [
        "#### What is the effect of increasing the learning rate?"
      ],
      "metadata": {
        "id": "xIfXPcYtBPGe"
      },
      "id": "xIfXPcYtBPGe"
    },
    {
      "cell_type": "code",
      "source": [
        "def normalize_rows(t):\n",
        "    return t / torch.norm(t, dim=1, keepdim=True)\n",
        "\n",
        "def run_ghl(X, lr=0.01, n_epochs=100, n_components=2):\n",
        "    n_samples, n_features = X.shape\n",
        "    W = torch.randn(n_components, n_features)  # Random initial weights\n",
        "    for epoch in range(n_epochs):\n",
        "        for x in X:\n",
        "            x = x.view(-1, 1)  # Column vector\n",
        "            y = W @ x  # Output vector\n",
        "            for i in range(n_components):\n",
        "                correction = x - sum(y[j] * W[j].view(-1, 1) for j in range(i + 1))\n",
        "                W[i] += lr * y[i] * correction.view(-1)\n",
        "        # Optionally normalize rows after each epoch (helps stability)\n",
        "        W = normalize_rows(W)\n",
        "    return W"
      ],
      "metadata": {
        "id": "zDG4NV3qzd3N"
      },
      "id": "zDG4NV3qzd3N",
      "execution_count": 22,
      "outputs": []
    },
    {
      "cell_type": "code",
      "source": [
        "# --- Learning Rates and Colors ---\n",
        "learning_rates = [0.0001, 0.001, 0.01, 0.1]\n",
        "colors = ['red', 'green', 'blue', 'yellow']"
      ],
      "metadata": {
        "id": "ET0qcfifGcN8"
      },
      "id": "ET0qcfifGcN8",
      "execution_count": 51,
      "outputs": []
    },
    {
      "cell_type": "code",
      "source": [
        "# --- Compute GHL Vectors for Each Learning Rate ---\n",
        "ghl_results = {}  # Store learning rate -> components\n",
        "for lr in learning_rates:\n",
        "    ghl_weights = run_ghl(X_centered, lr=lr)\n",
        "    ghl_results[lr] = ghl_weights  # Save for plotting"
      ],
      "metadata": {
        "id": "ahairZeGF-Xd"
      },
      "id": "ahairZeGF-Xd",
      "execution_count": 52,
      "outputs": []
    },
    {
      "cell_type": "code",
      "source": [
        "ghl_results"
      ],
      "metadata": {
        "colab": {
          "base_uri": "https://localhost:8080/"
        },
        "id": "nR21X5UOGxRU",
        "outputId": "d603c7e3-70c2-4abc-ebeb-79c05e652759"
      },
      "id": "nR21X5UOGxRU",
      "execution_count": 53,
      "outputs": [
        {
          "output_type": "execute_result",
          "data": {
            "text/plain": [
              "{0.0001: tensor([[ 0.9678,  0.2518],\n",
              "         [-0.3670, -0.9302]]),\n",
              " 0.001: tensor([[ 0.9676,  0.2523],\n",
              "         [-0.9989, -0.0475]]),\n",
              " 0.01: tensor([[-0.9663, -0.2573],\n",
              "         [ 0.2573, -0.9663]]),\n",
              " 0.1: tensor([[-0.9714, -0.2374],\n",
              "         [-0.2365,  0.9716]])}"
            ]
          },
          "metadata": {},
          "execution_count": 53
        }
      ]
    },
    {
      "cell_type": "code",
      "source": [
        "from matplotlib.lines import Line2D\n",
        "\n",
        "# --- Plot All Results ---\n",
        "plt.figure(figsize=(8, 8))\n",
        "plt.title(\"Effect of Learning Rate on GHL Learned Components\")\n",
        "plt.grid(True)\n",
        "plt.axhline(0, color='black', lw=0.5)\n",
        "plt.axvline(0, color='black', lw=0.5)\n",
        "plt.xlim(-1.2, 1.2)\n",
        "plt.ylim(-1.2, 1.2)\n",
        "plt.gca().set_aspect('equal')\n",
        "\n",
        "# Plot PCA components\n",
        "for i in range(2):\n",
        "    plt.quiver(0, 0, pca_components_normalized[i][0], pca_components_normalized[i][1],\n",
        "               color='black', angles='xy', scale_units='xy', scale=1, width=0.006)\n",
        "\n",
        "# Plot GHL components for each learning rate\n",
        "for lr, color in zip(learning_rates, colors):\n",
        "    ghl_weights = ghl_results[lr]\n",
        "    for i in range(2):\n",
        "        plt.quiver(0, 0, ghl_weights[i][0], ghl_weights[i][1],\n",
        "                   color=color, angles='xy', scale_units='xy', scale=1, width=0.006)\n",
        "\n",
        "# --- Custom Legend ---\n",
        "legend_elements = [\n",
        "    Line2D([0], [0], color='black', lw=2, label='PCA Components'),\n",
        "]\n",
        "for lr, color in zip(learning_rates, colors):\n",
        "    legend_elements.append(Line2D([0], [0], color=color, lw=2, label=f'GHL (lr={lr})'))\n",
        "\n",
        "plt.legend(handles=legend_elements)\n",
        "plt.show()"
      ],
      "metadata": {
        "colab": {
          "base_uri": "https://localhost:8080/",
          "height": 699
        },
        "id": "SF9kfXHqBycI",
        "outputId": "4487f5d7-26f5-456e-f5dc-bb618b5fae4c"
      },
      "id": "SF9kfXHqBycI",
      "execution_count": 54,
      "outputs": [
        {
          "output_type": "display_data",
          "data": {
            "text/plain": [
              "<Figure size 800x800 with 1 Axes>"
            ],
            "image/png": "[encoded data removed]"
          },
          "metadata": {}
        }
      ]
    },
    {
      "cell_type": "markdown",
      "source": [
        "- As shown in the figure, increasing the learning rate causes the Generalized Hebbian Learning (GHL) components to converge more closely toward the PCA components. \"More closely\" here means that the learned vectors either point in the same direction or in the opposite direction to the PCA components, but with similar magnitudes, which still indicates alignment in the principal subspace. The plot clearly illustrates that higher learning rates improve the alignment of GHL weight vectors with the principal directions of the data, demonstrating that the GHL algorithm approximates PCA more accurately and quickly as the learning rate increases—up to a stable limit."
      ],
      "metadata": {
        "id": "LvbE2QQOLucn"
      },
      "id": "LvbE2QQOLucn"
    },
    {
      "cell_type": "markdown",
      "source": [
        "### **Task 02: GHL on Iris Dataset**"
      ],
      "metadata": {
        "id": "TiJcUGA_MakN"
      },
      "id": "TiJcUGA_MakN"
    },
    {
      "cell_type": "code",
      "source": [
        "from sklearn.datasets import load_iris"
      ],
      "metadata": {
        "id": "soQ61jk2CFLP"
      },
      "id": "soQ61jk2CFLP",
      "execution_count": 55,
      "outputs": []
    },
    {
      "cell_type": "code",
      "source": [
        "# --- Load Iris Dataset ---\n",
        "iris = load_iris()\n",
        "X = iris.data[:, :2]  # First 2 features\n",
        "y = iris.target\n",
        "X = torch.tensor(X, dtype=torch.float32)"
      ],
      "metadata": {
        "id": "Pp-8fmGMOpna"
      },
      "id": "Pp-8fmGMOpna",
      "execution_count": 56,
      "outputs": []
    },
    {
      "cell_type": "code",
      "source": [
        "# --- Center the Data ---\n",
        "X_centered = X - X.mean(dim=0)"
      ],
      "metadata": {
        "id": "-BSr6pp7OsIM"
      },
      "id": "-BSr6pp7OsIM",
      "execution_count": 57,
      "outputs": []
    },
    {
      "cell_type": "code",
      "source": [
        "# --- GHL Function ---\n",
        "def run_ghl(X, n_components=2, lr=0.01, n_epochs=100):\n",
        "    n_samples, n_features = X.shape\n",
        "    W = torch.randn(n_components, n_features)\n",
        "\n",
        "    for epoch in range(n_epochs):\n",
        "        for x in X:\n",
        "            x = x.view(-1, 1)  # Make it column vector\n",
        "            y = W @ x\n",
        "            delta_W = lr * (y @ x.T - torch.tril(y @ y.T) @ W)\n",
        "            W += delta_W\n",
        "    return W"
      ],
      "metadata": {
        "id": "LXaJ0ELXOu1s"
      },
      "id": "LXaJ0ELXOu1s",
      "execution_count": 59,
      "outputs": []
    },
    {
      "cell_type": "code",
      "source": [
        "# --- Run GHL ---\n",
        "ghl_weights = run_ghl(X_centered, n_components=2, lr=0.01, n_epochs=100)\n",
        "\n",
        "# --- Project Data using GHL ---\n",
        "X_ghl_proj = (ghl_weights @ X_centered.T).T.detach().numpy()\n",
        "\n",
        "# --- Compare with PCA ---\n",
        "pca = PCA(n_components=2)\n",
        "X_pca_proj = pca.fit_transform(X_centered)"
      ],
      "metadata": {
        "id": "ircb6BLbO99J"
      },
      "id": "ircb6BLbO99J",
      "execution_count": 60,
      "outputs": []
    },
    {
      "cell_type": "code",
      "source": [
        "ghl_weights"
      ],
      "metadata": {
        "colab": {
          "base_uri": "https://localhost:8080/"
        },
        "id": "ZRU9n9hmQAlk",
        "outputId": "23b5cc82-d617-4bcc-8479-8a7c665e798e"
      },
      "id": "ZRU9n9hmQAlk",
      "execution_count": 62,
      "outputs": [
        {
          "output_type": "execute_result",
          "data": {
            "text/plain": [
              "tensor([[-0.9991,  0.0512],\n",
              "        [-0.0942, -0.9950]])"
            ]
          },
          "metadata": {},
          "execution_count": 62
        }
      ]
    },
    {
      "cell_type": "code",
      "source": [
        "# --- Visualization ---\n",
        "plt.figure(figsize=(18, 5))\n",
        "\n",
        "# Original Data\n",
        "plt.subplot(1, 3, 1)\n",
        "plt.title(\"Original Data (First 2 Features)\")\n",
        "for label in torch.unique(torch.tensor(y)):\n",
        "    plt.scatter(X[y == label, 0], X[y == label, 1], label=f'Class {label}')\n",
        "plt.xlabel('Feature 1')\n",
        "plt.ylabel('Feature 2')\n",
        "plt.legend()\n",
        "plt.grid(True)\n",
        "\n",
        "# GHL Projected Space\n",
        "plt.subplot(1, 3, 2)\n",
        "plt.title(\"GHL Projected Space\")\n",
        "for label in torch.unique(torch.tensor(y)):\n",
        "    plt.scatter(X_ghl_proj[y == label, 0], X_ghl_proj[y == label, 1], label=f'Class {label}')\n",
        "plt.xlabel('Component 1')\n",
        "plt.ylabel('Component 2')\n",
        "plt.legend()\n",
        "plt.grid(True)\n",
        "\n",
        "# PCA Projected Space\n",
        "plt.subplot(1, 3, 3)\n",
        "plt.title(\"PCA Projected Space\")\n",
        "for label in torch.unique(torch.tensor(y)):\n",
        "    plt.scatter(X_pca_proj[y == label, 0], X_pca_proj[y == label, 1], label=f'Class {label}')\n",
        "plt.xlabel('Component 1')\n",
        "plt.ylabel('Component 2')\n",
        "plt.legend()\n",
        "plt.grid(True)\n",
        "\n",
        "plt.tight_layout()\n",
        "plt.show()"
      ],
      "metadata": {
        "colab": {
          "base_uri": "https://localhost:8080/",
          "height": 346
        },
        "id": "Cr8PUTwpPDES",
        "outputId": "8d27ed47-28f8-47df-f73e-8d91328f3a8b"
      },
      "id": "Cr8PUTwpPDES",
      "execution_count": 63,
      "outputs": [
        {
          "output_type": "display_data",
          "data": {
            "text/plain": [
              "<Figure size 1800x500 with 3 Axes>"
            ],
            "image/png": "[encoded data removed]"
          },
          "metadata": {}
        }
      ]
    },
    {
      "cell_type": "markdown",
      "source": [
        "### **Questions:**"
      ],
      "metadata": {
        "id": "la7sOVorPfv2"
      },
      "id": "la7sOVorPfv2"
    },
    {
      "cell_type": "markdown",
      "source": [
        "#### Are the classes separable in the GHL-transformed space?\n",
        "\n",
        "- In the Generalized Hebbian Learning (GHL)-transformed space, the three classes of the Iris dataset exhibit varying degrees of separability. As shown in the figure, Class 0 (Iris Setosa) is distinctly and linearly separable from the other two classes. This clear separation is evident in the visualization, where Iris Setosa forms a distinct cluster, separate from the overlapping clusters of the other two species.\n",
        "\n",
        "- However, Classes 1 (Iris Versicolor) and 2 (Iris Virginica) are not linearly separable in the GHL-transformed space. Their data points exhibit significant overlap, making it challenging to distinguish between them using linear methods.\n",
        "\n",
        "- Therefore, while GHL effectively captures the linear separability of Iris Setosa, it does not provide a clear distinction between Iris Versicolor and Iris Virginica. This limitation highlights the challenges associated with linear dimensionality reduction techniques when applied to classes that are not inherently linearly separable."
      ],
      "metadata": {
        "id": "v3djUqo4Pjg9"
      },
      "id": "v3djUqo4Pjg9"
    },
    {
      "cell_type": "markdown",
      "source": [
        "#### How does the result compare to sklearn’s PCA?\n",
        "\n",
        "- The projections obtained using Generalized Hebbian Learning (GHL) closely resemble those from Principal Component Analysis (PCA), differing primarily in the orientation of the axes. This similarity arises because GHL is an iterative method that converges to the principal components identified by PCA.\n",
        "\n",
        "- In the visualizations, both GHL and PCA effectively separate Class 0 (Iris Setosa) from the other two classes. However, Classes 1 (Iris Versicolor) and 2 (Iris Virginica) overlap significantly in both projections, indicating that neither method provides a clear distinction between these two classes.\n",
        "\n",
        "- In summary, GHL and PCA yield comparable results in terms of class separability on the Iris dataset, with GHL offering an online learning approach that approximates the principal components identified by PCA."
      ],
      "metadata": {
        "id": "B45RL1mdm141"
      },
      "id": "B45RL1mdm141"
    },
    {
      "cell_type": "markdown",
      "source": [
        "### **Task 03: Effect of Learning Rate and Normalization**"
      ],
      "metadata": {
        "id": "D4hg9Rg_norL"
      },
      "id": "D4hg9Rg_norL"
    },
    {
      "cell_type": "code",
      "source": [],
      "metadata": {
        "id": "8pZMvQ4hPGdL"
      },
      "id": "8pZMvQ4hPGdL",
      "execution_count": null,
      "outputs": []
    }
  ],
  "metadata": {
    "kernelspec": {
      "display_name": "Python 3",
      "language": "python",
      "name": "python3"
    },
    "language_info": {
      "codemirror_mode": {
        "name": "ipython",
        "version": 3
      },
      "file_extension": ".py",
      "mimetype": "text/x-python",
      "name": "python",
      "nbconvert_exporter": "python",
      "pygments_lexer": "ipython3",
      "version": "3.9.1"
    },
    "colab": {
      "provenance": [],
      "toc_visible": true,
      "include_colab_link": true
    }
  },
  "nbformat": 4,
  "nbformat_minor": 5
}