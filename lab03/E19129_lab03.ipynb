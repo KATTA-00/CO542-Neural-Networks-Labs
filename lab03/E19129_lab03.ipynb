{
 "cells": [
  {
   "cell_type": "markdown",
   "id": "0098314a",
   "metadata": {},
   "source": [
    "# CO542 - Neural Networks and Fuzzy Systems\n",
    "## E/19/129 - K.H. Gunawardana\n",
    "\n",
    "### Lab 03: Generalized Hebbian Learning (GHL)"
   ]
  },
  {
   "cell_type": "markdown",
   "id": "8f35b8c3",
   "metadata": {},
   "source": [
    "#### Task 01: GHL for 2D Synthetic Data"
   ]
  },
  {
   "cell_type": "code",
   "execution_count": null,
   "id": "62b55ace",
   "metadata": {
    "vscode": {
     "languageId": "plaintext"
    }
   },
   "outputs": [],
   "source": []
  },
  {
   "cell_type": "markdown",
   "id": "2660f262",
   "metadata": {},
   "source": []
  }
 ],
 "metadata": {
  "language_info": {
   "name": "python"
  }
 },
 "nbformat": 4,
 "nbformat_minor": 5
}
