{
  "cells": [
    {
      "cell_type": "markdown",
      "metadata": {
        "id": "view-in-github",
        "colab_type": "text"
      },
      "source": [
        "<a href=\"https://colab.research.google.com/github/KATTA-00/CO542-Neural-Networks-Labs/blob/main/lab03/E19129_lab03.ipynb\" target=\"_parent\"><img src=\"https://colab.research.google.com/assets/colab-badge.svg\" alt=\"Open In Colab\"/></a>"
      ]
    },
    {
      "cell_type": "markdown",
      "id": "0098314a",
      "metadata": {
        "id": "0098314a"
      },
      "source": [
        "# CO542 - Neural Networks and Fuzzy Systems\n",
        "## E/19/129 - K.H. Gunawardana\n",
        "\n",
        "### Lab 03: Generalized Hebbian Learning (GHL)"
      ]
    },
    {
      "cell_type": "markdown",
      "id": "8f35b8c3",
      "metadata": {
        "id": "8f35b8c3"
      },
      "source": [
        "#### Task 01: GHL for 2D Synthetic Data"
      ]
    },
    {
      "cell_type": "code",
      "source": [
        "import torch"
      ],
      "metadata": {
        "id": "RhVQpuMQonIW"
      },
      "id": "RhVQpuMQonIW",
      "execution_count": 2,
      "outputs": []
    },
    {
      "cell_type": "code",
      "execution_count": 3,
      "id": "743978df",
      "metadata": {
        "id": "743978df"
      },
      "outputs": [],
      "source": [
        "# Generate 1000 samples from 2D Gaussian (mean=0, std=1)\n",
        "torch.manual_seed(0)\n",
        "X = torch.randn(1000, 2)"
      ]
    },
    {
      "cell_type": "code",
      "source": [
        "X"
      ],
      "metadata": {
        "colab": {
          "base_uri": "https://localhost:8080/"
        },
        "id": "91QTR6zJopwc",
        "outputId": "411535e6-2430-455f-9cb7-9defbb6aabd7"
      },
      "id": "91QTR6zJopwc",
      "execution_count": 4,
      "outputs": [
        {
          "output_type": "execute_result",
          "data": {
            "text/plain": [
              "tensor([[-1.1258, -1.1524],\n",
              "        [-0.2506, -0.4339],\n",
              "        [ 0.8487,  0.6920],\n",
              "        ...,\n",
              "        [ 1.6728, -0.3151],\n",
              "        [-0.2965, -0.3568],\n",
              "        [ 0.0829, -0.5187]])"
            ]
          },
          "metadata": {},
          "execution_count": 4
        }
      ]
    },
    {
      "cell_type": "code",
      "source": [
        "# Center the data (subtract mean)\n",
        "X = X - X.mean(dim=0)"
      ],
      "metadata": {
        "id": "sEEIzu2hokEA"
      },
      "id": "sEEIzu2hokEA",
      "execution_count": 5,
      "outputs": []
    },
    {
      "cell_type": "code",
      "source": [
        "X"
      ],
      "metadata": {
        "colab": {
          "base_uri": "https://localhost:8080/"
        },
        "id": "_XOW4taaosK6",
        "outputId": "43e66752-ade7-473e-a0e9-a1bba05db1bd"
      },
      "id": "_XOW4taaosK6",
      "execution_count": 6,
      "outputs": [
        {
          "output_type": "execute_result",
          "data": {
            "text/plain": [
              "tensor([[-1.1174, -1.1910],\n",
              "        [-0.2421, -0.4726],\n",
              "        [ 0.8572,  0.6533],\n",
              "        ...,\n",
              "        [ 1.6813, -0.3538],\n",
              "        [-0.2881, -0.3955],\n",
              "        [ 0.0914, -0.5574]])"
            ]
          },
          "metadata": {},
          "execution_count": 6
        }
      ]
    },
    {
      "cell_type": "code",
      "source": [
        "# Parameters\n",
        "epochs = 100\n",
        "learning_rate = 0.01\n",
        "n_samples, n_features = X.shape\n",
        "n_components = 2\n",
        "\n",
        "# Initialize weights (random)\n",
        "W = torch.randn(n_components, n_features)\n",
        "\n",
        "# Normalize rows of W\n",
        "W = torch.nn.functional.normalize(W, dim=1)\n",
        "\n",
        "# GHL training loop\n",
        "for epoch in range(epochs):\n",
        "    for x in X:\n",
        "        x = x.view(-1, 1)  # column vector\n",
        "        y = W @ x          # projections\n",
        "\n",
        "        # Update each weight vector using Sanger's rule\n",
        "        for i in range(n_components):\n",
        "            correction = y[i] * (x.T - y[:i+1].T @ W[:i+1])\n",
        "            W[i] += learning_rate * correction.squeeze()\n",
        "\n",
        "    # Optionally: Re-orthonormalize weights every epoch\n",
        "    W = torch.nn.functional.normalize(W, dim=1)"
      ],
      "metadata": {
        "id": "xcTf_hXymexm"
      },
      "id": "xcTf_hXymexm",
      "execution_count": 7,
      "outputs": []
    },
    {
      "cell_type": "code",
      "source": [
        "print(\"Final GHL Weights (each row is a component):\")\n",
        "print(W)"
      ],
      "metadata": {
        "colab": {
          "base_uri": "https://localhost:8080/"
        },
        "id": "qQKeW2i7mh9w",
        "outputId": "30c0513c-fa0a-4bdd-fcec-d2456f8d9001"
      },
      "id": "qQKeW2i7mh9w",
      "execution_count": 8,
      "outputs": [
        {
          "output_type": "stream",
          "name": "stdout",
          "text": [
            "Final GHL Weights (each row is a component):\n",
            "tensor([[ 0.1193,  0.9929],\n",
            "        [-0.9990,  0.0444]])\n"
          ]
        }
      ]
    },
    {
      "cell_type": "code",
      "source": [
        "# Use PyTorch SVD to compute PCA components\n",
        "U, S, Vt = torch.linalg.svd(X.T)\n",
        "print(\"PCA Components (rows):\")\n",
        "print(Vt[:2])  # top 2 principal components"
      ],
      "metadata": {
        "colab": {
          "base_uri": "https://localhost:8080/"
        },
        "id": "MciNzstNmo3p",
        "outputId": "24f3e33f-dca7-46cc-987f-0467cdc2d50a"
      },
      "id": "MciNzstNmo3p",
      "execution_count": 7,
      "outputs": [
        {
          "output_type": "stream",
          "name": "stdout",
          "text": [
            "PCA Components (rows):\n",
            "tensor([[-0.0409, -0.0153,  0.0235,  ..., -0.0029, -0.0132, -0.0163],\n",
            "        [-0.0292, -0.0053,  0.0236,  ...,  0.0542, -0.0071,  0.0055]])\n"
          ]
        }
      ]
    },
    {
      "cell_type": "code",
      "source": [],
      "metadata": {
        "id": "BDNOh7n-mrpd"
      },
      "id": "BDNOh7n-mrpd",
      "execution_count": null,
      "outputs": []
    }
  ],
  "metadata": {
    "kernelspec": {
      "display_name": "Python 3",
      "language": "python",
      "name": "python3"
    },
    "language_info": {
      "codemirror_mode": {
        "name": "ipython",
        "version": 3
      },
      "file_extension": ".py",
      "mimetype": "text/x-python",
      "name": "python",
      "nbconvert_exporter": "python",
      "pygments_lexer": "ipython3",
      "version": "3.9.1"
    },
    "colab": {
      "provenance": [],
      "toc_visible": true,
      "include_colab_link": true
    }
  },
  "nbformat": 4,
  "nbformat_minor": 5
}