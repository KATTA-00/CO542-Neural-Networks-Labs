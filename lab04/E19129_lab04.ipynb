{
 "cells": [
  {
   "cell_type": "markdown",
   "id": "a5c6fbe8",
   "metadata": {},
   "source": [
    "# CO542 - Neural Networks and Fuzzy Systems\n",
    "## E/19/129 - K.H. Gunawardana\n",
    "\n",
    "### Lab 04: Self-Organizing Maps (SOM)"
   ]
  },
  {
   "cell_type": "markdown",
   "id": "c8cde18d",
   "metadata": {},
   "source": [
    "### **Installation and Creating an Instance of MiniSom**"
   ]
  },
  {
   "cell_type": "code",
   "execution_count": null,
   "id": "2d0e71fa",
   "metadata": {},
   "outputs": [],
   "source": []
  },
  {
   "cell_type": "markdown",
   "id": "0749635a",
   "metadata": {},
   "source": []
  }
 ],
 "metadata": {
  "language_info": {
   "name": "python"
  }
 },
 "nbformat": 4,
 "nbformat_minor": 5
}
