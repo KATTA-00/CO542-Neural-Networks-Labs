{
  "cells": [
    {
      "cell_type": "markdown",
      "metadata": {
        "id": "view-in-github",
        "colab_type": "text"
      },
      "source": [
        "<a href=\"https://colab.research.google.com/github/KATTA-00/CO542-Neural-Networks-Labs/blob/main/lab04/E19129_lab04.ipynb\" target=\"_parent\"><img src=\"https://colab.research.google.com/assets/colab-badge.svg\" alt=\"Open In Colab\"/></a>"
      ]
    },
    {
      "cell_type": "markdown",
      "id": "a5c6fbe8",
      "metadata": {
        "id": "a5c6fbe8"
      },
      "source": [
        "# CO542 - Neural Networks and Fuzzy Systems\n",
        "## E/19/129 - K.H. Gunawardana\n",
        "\n",
        "### Lab 04: Self-Organizing Maps (SOM)"
      ]
    },
    {
      "cell_type": "markdown",
      "id": "c8cde18d",
      "metadata": {
        "id": "c8cde18d"
      },
      "source": [
        "### **Installation and Creating an Instance of MiniSom**"
      ]
    },
    {
      "cell_type": "code",
      "execution_count": 1,
      "id": "2d0e71fa",
      "metadata": {
        "id": "2d0e71fa",
        "outputId": "1f35cebb-c15b-43ea-db97-0f13d554397c",
        "colab": {
          "base_uri": "https://localhost:8080/"
        }
      },
      "outputs": [
        {
          "output_type": "stream",
          "name": "stdout",
          "text": [
            "Collecting minisom\n",
            "  Downloading minisom-2.3.5.tar.gz (12 kB)\n",
            "  Preparing metadata (setup.py) ... \u001b[?25l\u001b[?25hdone\n",
            "Building wheels for collected packages: minisom\n",
            "  Building wheel for minisom (setup.py) ... \u001b[?25l\u001b[?25hdone\n",
            "  Created wheel for minisom: filename=MiniSom-2.3.5-py3-none-any.whl size=12031 sha256=4bca0c6186e21ec4f26c72981107a8428c54832bf4d535984bb83afff5726216\n",
            "  Stored in directory: /root/.cache/pip/wheels/19/db/95/5e53bc2b88a328217fdf9f2886cafbe86b0df274f4b601f572\n",
            "Successfully built minisom\n",
            "Installing collected packages: minisom\n",
            "Successfully installed minisom-2.3.5\n"
          ]
        }
      ],
      "source": [
        "!pip install minisom"
      ]
    },
    {
      "cell_type": "code",
      "source": [
        "from minisom import MiniSom\n",
        "from sklearn.preprocessing import MinMaxScaler\n",
        "import numpy as np\n",
        "\n",
        "# Example input data\n",
        "X = np.array([[5.1, 3.5, 1.4, 0.2],\n",
        "              [4.9, 3.0, 1.4, 0.2],\n",
        "              [6.2, 3.4, 5.4, 2.3]])\n",
        "\n",
        "# Normalize the input data\n",
        "scaler = MinMaxScaler()\n",
        "X_scaled = scaler.fit_transform(X)\n",
        "\n",
        "# Create an instance of the SOM\n",
        "som = MiniSom(x=10, y=10, input_len=4, sigma=1.0, learning_rate=0.5)\n",
        "\n",
        "# Initialize weights\n",
        "som.pca_weights_init(X_scaled)\n",
        "\n",
        "# Train the SOM\n",
        "som.train_random(data=X_scaled, num_iteration=100)"
      ],
      "metadata": {
        "id": "pxjwnzJhr6ZE"
      },
      "id": "pxjwnzJhr6ZE",
      "execution_count": 3,
      "outputs": []
    },
    {
      "cell_type": "markdown",
      "source": [
        "### **Task: Clustering the Iris Dataset with SOM**"
      ],
      "metadata": {
        "id": "zOFcu6MVslX5"
      },
      "id": "zOFcu6MVslX5"
    },
    {
      "cell_type": "code",
      "source": [],
      "metadata": {
        "id": "22cNMcBlsoQn"
      },
      "id": "22cNMcBlsoQn",
      "execution_count": null,
      "outputs": []
    },
    {
      "cell_type": "markdown",
      "id": "0749635a",
      "metadata": {
        "id": "0749635a"
      },
      "source": []
    }
  ],
  "metadata": {
    "language_info": {
      "name": "python"
    },
    "colab": {
      "provenance": [],
      "include_colab_link": true
    },
    "kernelspec": {
      "name": "python3",
      "display_name": "Python 3"
    }
  },
  "nbformat": 4,
  "nbformat_minor": 5
}