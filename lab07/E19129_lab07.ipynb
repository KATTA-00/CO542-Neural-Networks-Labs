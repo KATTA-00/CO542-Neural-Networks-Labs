{
  "cells": [
    {
      "cell_type": "markdown",
      "id": "18f6cba1",
      "metadata": {
        "colab_type": "text",
        "id": "view-in-github"
      },
      "source": [
        "<a href=\"https://colab.research.google.com/github/KATTA-00/CO542-Neural-Networks-Labs/blob/main/lab06/E19129_lab06.ipynb\" target=\"_parent\"><img src=\"https://colab.research.google.com/assets/colab-badge.svg\" alt=\"Open In Colab\"/></a>"
      ]
    },
    {
      "cell_type": "markdown",
      "id": "7fa071ed",
      "metadata": {
        "id": "7fa071ed"
      },
      "source": [
        "# CO542 - Neural Networks and Fuzzy Systems\n",
        "## E/19/129 - K.H. Gunawardana\n",
        "\n",
        "### Lab 07: Tensorflow"
      ]
    },
    {
      "cell_type": "markdown",
      "id": "d035dd75",
      "metadata": {},
      "source": [
        "### Task 01: Linear Regression with TensorFlow"
      ]
    },
    {
      "cell_type": "code",
      "execution_count": null,
      "id": "9bcd2162",
      "metadata": {},
      "outputs": [],
      "source": []
    }
  ],
  "metadata": {
    "colab": {
      "include_colab_link": true,
      "provenance": []
    },
    "kernelspec": {
      "display_name": "Python 3",
      "name": "python3"
    },
    "language_info": {
      "name": "python"
    }
  },
  "nbformat": 4,
  "nbformat_minor": 5
}
