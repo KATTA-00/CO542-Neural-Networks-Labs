{
  "cells": [
    {
      "cell_type": "markdown",
      "metadata": {
        "id": "view-in-github",
        "colab_type": "text"
      },
      "source": [
        "<a href=\"https://colab.research.google.com/github/KATTA-00/CO542-Neural-Networks-Labs/blob/main/lab06/E19129_lab06.ipynb\" target=\"_parent\"><img src=\"https://colab.research.google.com/assets/colab-badge.svg\" alt=\"Open In Colab\"/></a>"
      ]
    },
    {
      "cell_type": "markdown",
      "id": "7fa071ed",
      "metadata": {
        "id": "7fa071ed"
      },
      "source": [
        "# CO542 - Neural Networks and Fuzzy Systems\n",
        "## E/19/129 - K.H. Gunawardana\n",
        "\n",
        "### Lab 06: Recurrent Neural Networks (RNN)"
      ]
    },
    {
      "cell_type": "code",
      "source": [
        "!pip install torch"
      ],
      "metadata": {
        "id": "_79EM6IMmkua",
        "outputId": "258c3a8e-a112-4baa-bdee-1da93c45b724",
        "colab": {
          "base_uri": "https://localhost:8080/"
        }
      },
      "id": "_79EM6IMmkua",
      "execution_count": 1,
      "outputs": [
        {
          "output_type": "stream",
          "name": "stdout",
          "text": [
            "Requirement already satisfied: torch in /usr/local/lib/python3.11/dist-packages (2.6.0+cu124)\n",
            "Requirement already satisfied: filelock in /usr/local/lib/python3.11/dist-packages (from torch) (3.18.0)\n",
            "Requirement already satisfied: typing-extensions>=4.10.0 in /usr/local/lib/python3.11/dist-packages (from torch) (4.14.0)\n",
            "Requirement already satisfied: networkx in /usr/local/lib/python3.11/dist-packages (from torch) (3.5)\n",
            "Requirement already satisfied: jinja2 in /usr/local/lib/python3.11/dist-packages (from torch) (3.1.6)\n",
            "Requirement already satisfied: fsspec in /usr/local/lib/python3.11/dist-packages (from torch) (2025.3.2)\n",
            "Collecting nvidia-cuda-nvrtc-cu12==12.4.127 (from torch)\n",
            "  Downloading nvidia_cuda_nvrtc_cu12-12.4.127-py3-none-manylinux2014_x86_64.whl.metadata (1.5 kB)\n",
            "Collecting nvidia-cuda-runtime-cu12==12.4.127 (from torch)\n",
            "  Downloading nvidia_cuda_runtime_cu12-12.4.127-py3-none-manylinux2014_x86_64.whl.metadata (1.5 kB)\n",
            "Collecting nvidia-cuda-cupti-cu12==12.4.127 (from torch)\n",
            "  Downloading nvidia_cuda_cupti_cu12-12.4.127-py3-none-manylinux2014_x86_64.whl.metadata (1.6 kB)\n",
            "Collecting nvidia-cudnn-cu12==9.1.0.70 (from torch)\n",
            "  Downloading nvidia_cudnn_cu12-9.1.0.70-py3-none-manylinux2014_x86_64.whl.metadata (1.6 kB)\n",
            "Collecting nvidia-cublas-cu12==12.4.5.8 (from torch)\n",
            "  Downloading nvidia_cublas_cu12-12.4.5.8-py3-none-manylinux2014_x86_64.whl.metadata (1.5 kB)\n",
            "Collecting nvidia-cufft-cu12==11.2.1.3 (from torch)\n",
            "  Downloading nvidia_cufft_cu12-11.2.1.3-py3-none-manylinux2014_x86_64.whl.metadata (1.5 kB)\n",
            "Collecting nvidia-curand-cu12==10.3.5.147 (from torch)\n",
            "  Downloading nvidia_curand_cu12-10.3.5.147-py3-none-manylinux2014_x86_64.whl.metadata (1.5 kB)\n",
            "Collecting nvidia-cusolver-cu12==11.6.1.9 (from torch)\n",
            "  Downloading nvidia_cusolver_cu12-11.6.1.9-py3-none-manylinux2014_x86_64.whl.metadata (1.6 kB)\n",
            "Collecting nvidia-cusparse-cu12==12.3.1.170 (from torch)\n",
            "  Downloading nvidia_cusparse_cu12-12.3.1.170-py3-none-manylinux2014_x86_64.whl.metadata (1.6 kB)\n",
            "Requirement already satisfied: nvidia-cusparselt-cu12==0.6.2 in /usr/local/lib/python3.11/dist-packages (from torch) (0.6.2)\n",
            "Requirement already satisfied: nvidia-nccl-cu12==2.21.5 in /usr/local/lib/python3.11/dist-packages (from torch) (2.21.5)\n",
            "Requirement already satisfied: nvidia-nvtx-cu12==12.4.127 in /usr/local/lib/python3.11/dist-packages (from torch) (12.4.127)\n",
            "Collecting nvidia-nvjitlink-cu12==12.4.127 (from torch)\n",
            "  Downloading nvidia_nvjitlink_cu12-12.4.127-py3-none-manylinux2014_x86_64.whl.metadata (1.5 kB)\n",
            "Requirement already satisfied: triton==3.2.0 in /usr/local/lib/python3.11/dist-packages (from torch) (3.2.0)\n",
            "Requirement already satisfied: sympy==1.13.1 in /usr/local/lib/python3.11/dist-packages (from torch) (1.13.1)\n",
            "Requirement already satisfied: mpmath<1.4,>=1.1.0 in /usr/local/lib/python3.11/dist-packages (from sympy==1.13.1->torch) (1.3.0)\n",
            "Requirement already satisfied: MarkupSafe>=2.0 in /usr/local/lib/python3.11/dist-packages (from jinja2->torch) (3.0.2)\n",
            "Downloading nvidia_cublas_cu12-12.4.5.8-py3-none-manylinux2014_x86_64.whl (363.4 MB)\n",
            "\u001b[2K   \u001b[90m━━━━━━━━━━━━━━━━━━━━━━━━━━━━━━━━━━━━━━━━\u001b[0m \u001b[32m363.4/363.4 MB\u001b[0m \u001b[31m4.7 MB/s\u001b[0m eta \u001b[36m0:00:00\u001b[0m\n",
            "\u001b[?25hDownloading nvidia_cuda_cupti_cu12-12.4.127-py3-none-manylinux2014_x86_64.whl (13.8 MB)\n",
            "\u001b[2K   \u001b[90m━━━━━━━━━━━━━━━━━━━━━━━━━━━━━━━━━━━━━━━━\u001b[0m \u001b[32m13.8/13.8 MB\u001b[0m \u001b[31m39.7 MB/s\u001b[0m eta \u001b[36m0:00:00\u001b[0m\n",
            "\u001b[?25hDownloading nvidia_cuda_nvrtc_cu12-12.4.127-py3-none-manylinux2014_x86_64.whl (24.6 MB)\n",
            "\u001b[2K   \u001b[90m━━━━━━━━━━━━━━━━━━━━━━━━━━━━━━━━━━━━━━━━\u001b[0m \u001b[32m24.6/24.6 MB\u001b[0m \u001b[31m32.6 MB/s\u001b[0m eta \u001b[36m0:00:00\u001b[0m\n",
            "\u001b[?25hDownloading nvidia_cuda_runtime_cu12-12.4.127-py3-none-manylinux2014_x86_64.whl (883 kB)\n",
            "\u001b[2K   \u001b[90m━━━━━━━━━━━━━━━━━━━━━━━━━━━━━━━━━━━━━━━━\u001b[0m \u001b[32m883.7/883.7 kB\u001b[0m \u001b[31m36.3 MB/s\u001b[0m eta \u001b[36m0:00:00\u001b[0m\n",
            "\u001b[?25hDownloading nvidia_cudnn_cu12-9.1.0.70-py3-none-manylinux2014_x86_64.whl (664.8 MB)\n",
            "\u001b[2K   \u001b[90m━━━━━━━━━━━━━━━━━━━━━━━━━━━━━━━━━━━━━━━━\u001b[0m \u001b[32m664.8/664.8 MB\u001b[0m \u001b[31m2.1 MB/s\u001b[0m eta \u001b[36m0:00:00\u001b[0m\n",
            "\u001b[?25hDownloading nvidia_cufft_cu12-11.2.1.3-py3-none-manylinux2014_x86_64.whl (211.5 MB)\n",
            "\u001b[2K   \u001b[90m━━━━━━━━━━━━━━━━━━━━━━━━━━━━━━━━━━━━━━━━\u001b[0m \u001b[32m211.5/211.5 MB\u001b[0m \u001b[31m6.5 MB/s\u001b[0m eta \u001b[36m0:00:00\u001b[0m\n",
            "\u001b[?25hDownloading nvidia_curand_cu12-10.3.5.147-py3-none-manylinux2014_x86_64.whl (56.3 MB)\n",
            "\u001b[2K   \u001b[90m━━━━━━━━━━━━━━━━━━━━━━━━━━━━━━━━━━━━━━━━\u001b[0m \u001b[32m56.3/56.3 MB\u001b[0m \u001b[31m12.2 MB/s\u001b[0m eta \u001b[36m0:00:00\u001b[0m\n",
            "\u001b[?25hDownloading nvidia_cusolver_cu12-11.6.1.9-py3-none-manylinux2014_x86_64.whl (127.9 MB)\n",
            "\u001b[2K   \u001b[90m━━━━━━━━━━━━━━━━━━━━━━━━━━━━━━━━━━━━━━━━\u001b[0m \u001b[32m127.9/127.9 MB\u001b[0m \u001b[31m7.3 MB/s\u001b[0m eta \u001b[36m0:00:00\u001b[0m\n",
            "\u001b[?25hDownloading nvidia_cusparse_cu12-12.3.1.170-py3-none-manylinux2014_x86_64.whl (207.5 MB)\n",
            "\u001b[2K   \u001b[90m━━━━━━━━━━━━━━━━━━━━━━━━━━━━━━━━━━━━━━━━\u001b[0m \u001b[32m207.5/207.5 MB\u001b[0m \u001b[31m6.3 MB/s\u001b[0m eta \u001b[36m0:00:00\u001b[0m\n",
            "\u001b[?25hDownloading nvidia_nvjitlink_cu12-12.4.127-py3-none-manylinux2014_x86_64.whl (21.1 MB)\n",
            "\u001b[2K   \u001b[90m━━━━━━━━━━━━━━━━━━━━━━━━━━━━━━━━━━━━━━━━\u001b[0m \u001b[32m21.1/21.1 MB\u001b[0m \u001b[31m87.4 MB/s\u001b[0m eta \u001b[36m0:00:00\u001b[0m\n",
            "\u001b[?25hInstalling collected packages: nvidia-nvjitlink-cu12, nvidia-curand-cu12, nvidia-cufft-cu12, nvidia-cuda-runtime-cu12, nvidia-cuda-nvrtc-cu12, nvidia-cuda-cupti-cu12, nvidia-cublas-cu12, nvidia-cusparse-cu12, nvidia-cudnn-cu12, nvidia-cusolver-cu12\n",
            "  Attempting uninstall: nvidia-nvjitlink-cu12\n",
            "    Found existing installation: nvidia-nvjitlink-cu12 12.5.82\n",
            "    Uninstalling nvidia-nvjitlink-cu12-12.5.82:\n",
            "      Successfully uninstalled nvidia-nvjitlink-cu12-12.5.82\n",
            "  Attempting uninstall: nvidia-curand-cu12\n",
            "    Found existing installation: nvidia-curand-cu12 10.3.6.82\n",
            "    Uninstalling nvidia-curand-cu12-10.3.6.82:\n",
            "      Successfully uninstalled nvidia-curand-cu12-10.3.6.82\n",
            "  Attempting uninstall: nvidia-cufft-cu12\n",
            "    Found existing installation: nvidia-cufft-cu12 11.2.3.61\n",
            "    Uninstalling nvidia-cufft-cu12-11.2.3.61:\n",
            "      Successfully uninstalled nvidia-cufft-cu12-11.2.3.61\n",
            "  Attempting uninstall: nvidia-cuda-runtime-cu12\n",
            "    Found existing installation: nvidia-cuda-runtime-cu12 12.5.82\n",
            "    Uninstalling nvidia-cuda-runtime-cu12-12.5.82:\n",
            "      Successfully uninstalled nvidia-cuda-runtime-cu12-12.5.82\n",
            "  Attempting uninstall: nvidia-cuda-nvrtc-cu12\n",
            "    Found existing installation: nvidia-cuda-nvrtc-cu12 12.5.82\n",
            "    Uninstalling nvidia-cuda-nvrtc-cu12-12.5.82:\n",
            "      Successfully uninstalled nvidia-cuda-nvrtc-cu12-12.5.82\n",
            "  Attempting uninstall: nvidia-cuda-cupti-cu12\n",
            "    Found existing installation: nvidia-cuda-cupti-cu12 12.5.82\n",
            "    Uninstalling nvidia-cuda-cupti-cu12-12.5.82:\n",
            "      Successfully uninstalled nvidia-cuda-cupti-cu12-12.5.82\n",
            "  Attempting uninstall: nvidia-cublas-cu12\n",
            "    Found existing installation: nvidia-cublas-cu12 12.5.3.2\n",
            "    Uninstalling nvidia-cublas-cu12-12.5.3.2:\n",
            "      Successfully uninstalled nvidia-cublas-cu12-12.5.3.2\n",
            "  Attempting uninstall: nvidia-cusparse-cu12\n",
            "    Found existing installation: nvidia-cusparse-cu12 12.5.1.3\n",
            "    Uninstalling nvidia-cusparse-cu12-12.5.1.3:\n",
            "      Successfully uninstalled nvidia-cusparse-cu12-12.5.1.3\n",
            "  Attempting uninstall: nvidia-cudnn-cu12\n",
            "    Found existing installation: nvidia-cudnn-cu12 9.3.0.75\n",
            "    Uninstalling nvidia-cudnn-cu12-9.3.0.75:\n",
            "      Successfully uninstalled nvidia-cudnn-cu12-9.3.0.75\n",
            "  Attempting uninstall: nvidia-cusolver-cu12\n",
            "    Found existing installation: nvidia-cusolver-cu12 11.6.3.83\n",
            "    Uninstalling nvidia-cusolver-cu12-11.6.3.83:\n",
            "      Successfully uninstalled nvidia-cusolver-cu12-11.6.3.83\n",
            "Successfully installed nvidia-cublas-cu12-12.4.5.8 nvidia-cuda-cupti-cu12-12.4.127 nvidia-cuda-nvrtc-cu12-12.4.127 nvidia-cuda-runtime-cu12-12.4.127 nvidia-cudnn-cu12-9.1.0.70 nvidia-cufft-cu12-11.2.1.3 nvidia-curand-cu12-10.3.5.147 nvidia-cusolver-cu12-11.6.1.9 nvidia-cusparse-cu12-12.3.1.170 nvidia-nvjitlink-cu12-12.4.127\n"
          ]
        }
      ]
    },
    {
      "cell_type": "markdown",
      "id": "8743006d",
      "metadata": {
        "id": "8743006d"
      },
      "source": [
        "### Installation and Creating an RNN Model"
      ]
    },
    {
      "cell_type": "code",
      "execution_count": 2,
      "id": "9ef15dbc",
      "metadata": {
        "id": "9ef15dbc"
      },
      "outputs": [],
      "source": [
        "import torch\n",
        "import torch.nn as nn\n",
        "import torch.optim as optim\n",
        "\n",
        "class RNN(nn.Module):\n",
        "    def __init__(self, vocab_size, embed_size, hidden_size, num_classes):\n",
        "        super(RNN, self).__init__()\n",
        "        self.embedding = nn.Embedding(vocab_size, embed_size)\n",
        "        self.rnn = nn.RNN(embed_size, hidden_size, batch_first=True)\n",
        "        self.fc = nn.Linear(hidden_size, num_classes)\n",
        "\n",
        "    def forward(self, x):\n",
        "        x = self.embedding(x)\n",
        "        out, hidden = self.rnn(x)\n",
        "        # Use the last hidden state for classification\n",
        "        out = self.fc(hidden[-1])\n",
        "        return out\n",
        "\n",
        "\n",
        "model = RNN(vocab_size=10000, embed_size=128, hidden_size=256,\n",
        "num_classes=2)"
      ]
    },
    {
      "cell_type": "code",
      "source": [
        "import tensorflow_datasets as tfds\n",
        "import numpy as np\n",
        "from collections import Counter\n",
        "import matplotlib.pyplot as plt\n",
        "from torch.utils.data import DataLoader, TensorDataset\n",
        "from sklearn.model_selection import train_test_split\n",
        "import re"
      ],
      "metadata": {
        "id": "wl8cT7QZnD9D"
      },
      "id": "wl8cT7QZnD9D",
      "execution_count": 3,
      "outputs": []
    },
    {
      "cell_type": "code",
      "source": [
        "# Step 1: Load the IMDB dataset\n",
        "print(\"Loading IMDB dataset...\")\n",
        "ds, info = tfds.load('imdb_reviews',\n",
        "                     split=['train', 'test'],\n",
        "                     shuffle_files=True,\n",
        "                     as_supervised=True,\n",
        "                     with_info=True)\n",
        "\n",
        "train_ds, test_ds = ds\n",
        "\n",
        "# Convert to lists for easier processing\n",
        "train_texts = []\n",
        "train_labels = []\n",
        "test_texts = []\n",
        "test_labels = []\n",
        "\n",
        "print(\"Processing training data...\")\n",
        "for text, label in train_ds:\n",
        "    train_texts.append(text.numpy().decode('utf-8'))\n",
        "    train_labels.append(label.numpy())\n",
        "\n",
        "print(\"Processing test data...\")\n",
        "for text, label in test_ds:\n",
        "    test_texts.append(text.numpy().decode('utf-8'))\n",
        "    test_labels.append(label.numpy())\n",
        "\n",
        "print(f\"Training samples: {len(train_texts)}\")\n",
        "print(f\"Test samples: {len(test_texts)}\")\n",
        "print(f\"First training example: {train_texts[0][:200]}...\")\n",
        "print(f\"First training label: {train_labels[0]}\")"
      ],
      "metadata": {
        "id": "0uL0MSTqp7MZ",
        "outputId": "d364c346-2165-49fd-abec-aef7cb9b7905",
        "colab": {
          "base_uri": "https://localhost:8080/"
        }
      },
      "id": "0uL0MSTqp7MZ",
      "execution_count": 5,
      "outputs": [
        {
          "output_type": "stream",
          "name": "stdout",
          "text": [
            "Loading IMDB dataset...\n",
            "Processing training data...\n",
            "Processing test data...\n",
            "Training samples: 25000\n",
            "Test samples: 25000\n",
            "First training example: This was an absolutely terrible movie. Don't be lured in by Christopher Walken or Michael Ironside. Both are great actors, but this must simply be their worst role in history. Even their great acting ...\n",
            "First training label: 0\n"
          ]
        }
      ]
    },
    {
      "cell_type": "code",
      "source": [
        "# Step 2: Text Preprocessing and Tokenization\n",
        "def clean_text(text):\n",
        "    \"\"\"Clean and preprocess text\"\"\"\n",
        "    # Convert to lowercase\n",
        "    text = text.lower()\n",
        "    # Remove HTML tags\n",
        "    text = re.sub(r'<.*?>', '', text)\n",
        "    # Remove special characters and digits, keep only letters and spaces\n",
        "    text = re.sub(r'[^a-zA-Z\\s]', '', text)\n",
        "    # Remove extra whitespace\n",
        "    text = ' '.join(text.split())\n",
        "    return text\n",
        "\n",
        "def tokenize_text(text):\n",
        "    \"\"\"Simple tokenization by splitting on whitespace\"\"\"\n",
        "    return text.split()\n",
        "\n",
        "print(\"Cleaning and tokenizing texts...\")\n",
        "train_texts_clean = [clean_text(text) for text in train_texts]\n",
        "test_texts_clean = [clean_text(text) for text in test_texts]\n",
        "\n",
        "train_tokens = [tokenize_text(text) for text in train_texts_clean]\n",
        "test_tokens = [tokenize_text(text) for text in test_texts_clean]\n",
        "\n",
        "print(f\"Sample cleaned text: {train_texts_clean[0][:200]}...\")\n",
        "print(f\"Sample tokens: {train_tokens[0][:20]}\")\n"
      ],
      "metadata": {
        "id": "S9QS4Pq6q0ps",
        "outputId": "3ec58a6d-e3b5-44ab-8906-d59d5329d504",
        "colab": {
          "base_uri": "https://localhost:8080/"
        }
      },
      "id": "S9QS4Pq6q0ps",
      "execution_count": 6,
      "outputs": [
        {
          "output_type": "stream",
          "name": "stdout",
          "text": [
            "Cleaning and tokenizing texts...\n",
            "Sample cleaned text: this was an absolutely terrible movie dont be lured in by christopher walken or michael ironside both are great actors but this must simply be their worst role in history even their great acting could...\n",
            "Sample tokens: ['this', 'was', 'an', 'absolutely', 'terrible', 'movie', 'dont', 'be', 'lured', 'in', 'by', 'christopher', 'walken', 'or', 'michael', 'ironside', 'both', 'are', 'great', 'actors']\n"
          ]
        }
      ]
    },
    {
      "cell_type": "code",
      "source": [
        "# Step 3: Build Vocabulary\n",
        "def build_vocabulary(token_lists, vocab_size=10000):\n",
        "    \"\"\"Build vocabulary from token lists\"\"\"\n",
        "    # Count all words\n",
        "    word_counts = Counter()\n",
        "    for tokens in token_lists:\n",
        "        word_counts.update(tokens)\n",
        "\n",
        "    # Get most common words\n",
        "    most_common = word_counts.most_common(vocab_size - 2)  # -2 for PAD and UNK\n",
        "\n",
        "    # Create word to index mapping\n",
        "    word_to_idx = {'<PAD>': 0, '<UNK>': 1}\n",
        "    for word, _ in most_common:\n",
        "        word_to_idx[word] = len(word_to_idx)\n",
        "\n",
        "    # Create index to word mapping\n",
        "    idx_to_word = {idx: word for word, idx in word_to_idx.items()}\n",
        "\n",
        "    return word_to_idx, idx_to_word\n",
        "\n",
        "print(\"Building vocabulary...\")\n",
        "vocab_size = 10000\n",
        "word_to_idx, idx_to_word = build_vocabulary(train_tokens, vocab_size)\n",
        "\n",
        "print(f\"Vocabulary size: {len(word_to_idx)}\")\n",
        "print(f\"Sample vocabulary: {list(word_to_idx.items())[:10]}\")"
      ],
      "metadata": {
        "id": "X4WgANFErjtU",
        "outputId": "1ae7cb65-2220-4669-ee80-4d56f3c34e00",
        "colab": {
          "base_uri": "https://localhost:8080/"
        }
      },
      "id": "X4WgANFErjtU",
      "execution_count": 7,
      "outputs": [
        {
          "output_type": "stream",
          "name": "stdout",
          "text": [
            "Building vocabulary...\n",
            "Vocabulary size: 10000\n",
            "Sample vocabulary: [('<PAD>', 0), ('<UNK>', 1), ('the', 2), ('and', 3), ('a', 4), ('of', 5), ('to', 6), ('is', 7), ('in', 8), ('it', 9)]\n"
          ]
        }
      ]
    },
    {
      "cell_type": "code",
      "source": [
        "# Step 4: Convert text to numerical sequences\n",
        "def texts_to_sequences(token_lists, word_to_idx):\n",
        "    \"\"\"Convert token lists to numerical sequences\"\"\"\n",
        "    sequences = []\n",
        "    for tokens in token_lists:\n",
        "        sequence = []\n",
        "        for token in tokens:\n",
        "            if token in word_to_idx:\n",
        "                sequence.append(word_to_idx[token])\n",
        "            else:\n",
        "                sequence.append(word_to_idx['<UNK>'])  # Unknown word\n",
        "        sequences.append(sequence)\n",
        "    return sequences\n",
        "\n",
        "print(\"Converting texts to sequences...\")\n",
        "train_sequences = texts_to_sequences(train_tokens, word_to_idx)\n",
        "test_sequences = texts_to_sequences(test_tokens, word_to_idx)\n",
        "\n",
        "# Check sequence lengths\n",
        "train_lengths = [len(seq) for seq in train_sequences]\n",
        "test_lengths = [len(seq) for seq in test_sequences]\n",
        "\n",
        "print(f\"Average training sequence length: {np.mean(train_lengths):.2f}\")\n",
        "print(f\"Max training sequence length: {max(train_lengths)}\")\n",
        "print(f\"Average test sequence length: {np.mean(test_lengths):.2f}\")\n",
        "print(f\"Max test sequence length: {max(test_lengths)}\")\n",
        "\n",
        "# Plot sequence length distribution\n",
        "plt.figure(figsize=(12, 4))\n",
        "plt.subplot(1, 2, 1)\n",
        "plt.hist(train_lengths, bins=50, alpha=0.7, label='Train')\n",
        "plt.hist(test_lengths, bins=50, alpha=0.7, label='Test')\n",
        "plt.xlabel('Sequence Length')\n",
        "plt.ylabel('Frequency')\n",
        "plt.title('Sequence Length Distribution')\n",
        "plt.legend()\n",
        "plt.xlim(0, 1000)\n",
        "\n",
        "plt.subplot(1, 2, 2)\n",
        "plt.hist(train_lengths, bins=50, alpha=0.7, label='Train', cumulative=True, density=True)\n",
        "plt.hist(test_lengths, bins=50, alpha=0.7, label='Test', cumulative=True, density=True)\n",
        "plt.xlabel('Sequence Length')\n",
        "plt.ylabel('Cumulative Density')\n",
        "plt.title('Cumulative Distribution')\n",
        "plt.legend()\n",
        "plt.xlim(0, 1000)\n",
        "plt.tight_layout()\n",
        "plt.show()"
      ],
      "metadata": {
        "id": "tfz2nxPKrpSV",
        "outputId": "9101b903-91fa-4263-efc1-3e8edbf93409",
        "colab": {
          "base_uri": "https://localhost:8080/",
          "height": 498
        }
      },
      "id": "tfz2nxPKrpSV",
      "execution_count": 8,
      "outputs": [
        {
          "output_type": "stream",
          "name": "stdout",
          "text": [
            "Converting texts to sequences...\n",
            "Average training sequence length: 227.75\n",
            "Max training sequence length: 2441\n",
            "Average test sequence length: 222.63\n",
            "Max test sequence length: 2182\n"
          ]
        },
        {
          "output_type": "display_data",
          "data": {
            "text/plain": [
              "<Figure size 1200x400 with 2 Axes>"
            ],
            "image/png": "[encoded data removed]"
          },
          "metadata": {}
        }
      ]
    },
    {
      "cell_type": "code",
      "source": [
        "# Step 5: Pad sequences to uniform length\n",
        "def pad_sequences(sequences, max_length=None, padding_value=0):\n",
        "    \"\"\"Pad sequences to uniform length\"\"\"\n",
        "    if max_length is None:\n",
        "        max_length = max(len(seq) for seq in sequences)\n",
        "\n",
        "    padded_sequences = []\n",
        "    for seq in sequences:\n",
        "        if len(seq) >= max_length:\n",
        "            # Truncate if too long\n",
        "            padded_seq = seq[:max_length]\n",
        "        else:\n",
        "            # Pad if too short\n",
        "            padded_seq = seq + [padding_value] * (max_length - len(seq))\n",
        "        padded_sequences.append(padded_seq)\n",
        "\n",
        "    return padded_sequences\n",
        "\n",
        "# Choose a reasonable max length (e.g., 95th percentile)\n",
        "max_length = int(np.percentile(train_lengths + test_lengths, 95))\n",
        "print(f\"Chosen max_length: {max_length}\")\n",
        "\n",
        "print(\"Padding sequences...\")\n",
        "train_sequences_padded = pad_sequences(train_sequences, max_length)\n",
        "test_sequences_padded = pad_sequences(test_sequences, max_length)\n",
        "\n",
        "# Convert to numpy arrays\n",
        "X_train = np.array(train_sequences_padded)\n",
        "y_train = np.array(train_labels)\n",
        "X_test = np.array(test_sequences_padded)\n",
        "y_test = np.array(test_labels)\n",
        "\n",
        "print(f\"Training data shape: {X_train.shape}\")\n",
        "print(f\"Training labels shape: {y_train.shape}\")\n",
        "print(f\"Test data shape: {X_test.shape}\")\n",
        "print(f\"Test labels shape: {y_test.shape}\")"
      ],
      "metadata": {
        "id": "hH-Vc0Jlrtiw",
        "outputId": "49a5be41-0f47-478f-fcff-40aa78d5615f",
        "colab": {
          "base_uri": "https://localhost:8080/"
        }
      },
      "id": "hH-Vc0Jlrtiw",
      "execution_count": 9,
      "outputs": [
        {
          "output_type": "stream",
          "name": "stdout",
          "text": [
            "Chosen max_length: 575\n",
            "Padding sequences...\n",
            "Training data shape: (25000, 575)\n",
            "Training labels shape: (25000,)\n",
            "Test data shape: (25000, 575)\n",
            "Test labels shape: (25000,)\n"
          ]
        }
      ]
    },
    {
      "cell_type": "code",
      "source": [
        "# Step 6: Create PyTorch datasets and dataloaders\n",
        "# Convert to PyTorch tensors\n",
        "X_train_tensor = torch.LongTensor(X_train)\n",
        "y_train_tensor = torch.LongTensor(y_train)\n",
        "X_test_tensor = torch.LongTensor(X_test)\n",
        "y_test_tensor = torch.LongTensor(y_test)\n",
        "\n",
        "# Create datasets\n",
        "train_dataset = TensorDataset(X_train_tensor, y_train_tensor)\n",
        "test_dataset = TensorDataset(X_test_tensor, y_test_tensor)\n",
        "\n",
        "# Create dataloaders\n",
        "batch_size = 64\n",
        "train_loader = DataLoader(train_dataset, batch_size=batch_size, shuffle=True)\n",
        "test_loader = DataLoader(test_dataset, batch_size=batch_size, shuffle=False)\n",
        "\n",
        "print(f\"Training batches: {len(train_loader)}\")\n",
        "print(f\"Test batches: {len(test_loader)}\")\n",
        "\n",
        "# Verify data loading\n",
        "for batch_idx, (data, target) in enumerate(train_loader):\n",
        "    print(f\"Batch {batch_idx}: Data shape: {data.shape}, Target shape: {target.shape}\")\n",
        "    print(f\"Sample data: {data[0][:10]}\")\n",
        "    print(f\"Sample target: {target[0]}\")\n",
        "    break\n",
        "\n",
        "print(\"\\nData preparation completed successfully!\")\n",
        "print(f\"Vocabulary size: {len(word_to_idx)}\")\n",
        "print(f\"Sequence length: {max_length}\")\n",
        "print(f\"Training samples: {len(X_train)}\")\n",
        "print(f\"Test samples: {len(X_test)}\")"
      ],
      "metadata": {
        "id": "O1pnKfFTr27f",
        "outputId": "36693f31-b831-422a-9c3a-c124adb401ec",
        "colab": {
          "base_uri": "https://localhost:8080/"
        }
      },
      "id": "O1pnKfFTr27f",
      "execution_count": 10,
      "outputs": [
        {
          "output_type": "stream",
          "name": "stdout",
          "text": [
            "Training batches: 391\n",
            "Test batches: 391\n",
            "Batch 0: Data shape: torch.Size([64, 575]), Target shape: torch.Size([64])\n",
            "Sample data: tensor([ 234,    2,  110, 6228,   13,   28,    5,   58,  494,  898])\n",
            "Sample target: 0\n",
            "\n",
            "Data preparation completed successfully!\n",
            "Vocabulary size: 10000\n",
            "Sequence length: 575\n",
            "Training samples: 25000\n",
            "Test samples: 25000\n"
          ]
        }
      ]
    },
    {
      "cell_type": "code",
      "source": [],
      "metadata": {
        "id": "icq00vzOr9sI"
      },
      "id": "icq00vzOr9sI",
      "execution_count": null,
      "outputs": []
    }
  ],
  "metadata": {
    "language_info": {
      "name": "python"
    },
    "colab": {
      "provenance": [],
      "include_colab_link": true
    },
    "kernelspec": {
      "name": "python3",
      "display_name": "Python 3"
    }
  },
  "nbformat": 4,
  "nbformat_minor": 5
}