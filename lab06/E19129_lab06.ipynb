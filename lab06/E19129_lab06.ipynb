{
 "cells": [
  {
   "cell_type": "markdown",
   "id": "7fa071ed",
   "metadata": {},
   "source": [
    "# CO542 - Neural Networks and Fuzzy Systems\n",
    "## E/19/129 - K.H. Gunawardana\n",
    "\n",
    "### Lab 06: Recurrent Neural Networks (RNN)"
   ]
  },
  {
   "cell_type": "markdown",
   "id": "8743006d",
   "metadata": {},
   "source": [
    "### Installation and Creating an RNN Model"
   ]
  },
  {
   "cell_type": "code",
   "execution_count": null,
   "id": "9ef15dbc",
   "metadata": {},
   "outputs": [],
   "source": [
    "import torch\n",
    "import torch.nn as nn\n",
    "import torch.optim as optim\n",
    "\n",
    "class RNN(nn.Module):\n",
    "    def __init__(self, vocab_size, embed_size, hidden_size, num_classes):\n",
    "        super(RNN, self).__init__()\n",
    "        self.embedding = nn.Embedding(vocab_size, embed_size)\n",
    "        self.rnn = nn.RNN(embed_size, hidden_size, batch_first=True)\n",
    "        self.fc = nn.Linear(hidden_size, num_classes)\n",
    "\n",
    "    def forward(self, x):\n",
    "        x = self.embedding(x)\n",
    "        out, hidden = self.rnn(x)\n",
    "        # Use the last hidden state for classification\n",
    "        out = self.fc(hidden[-1])\n",
    "        return out\n",
    "        \n",
    "\n",
    "model = RNN(vocab_size=10000, embed_size=128, hidden_size=256,\n",
    "num_classes=2)"
   ]
  }
 ],
 "metadata": {
  "language_info": {
   "name": "python"
  }
 },
 "nbformat": 4,
 "nbformat_minor": 5
}
