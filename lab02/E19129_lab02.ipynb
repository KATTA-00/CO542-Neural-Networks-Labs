{
 "cells": [
  {
   "cell_type": "markdown",
   "id": "82575229",
   "metadata": {},
   "source": [
    "# CO542 - Neural Networks and Fuzzy Systems\n",
    "## E/19/129 - K.H. Gunawardana\n",
    "\n",
    "### Lab 02: Multi-Layer Perceptrons"
   ]
  },
  {
   "cell_type": "markdown",
   "id": "27e9e75d",
   "metadata": {},
   "source": [
    "### **Task 01: Implementing an MLP for the XOR Problem**"
   ]
  },
  {
   "cell_type": "code",
   "execution_count": 1,
   "id": "e18e76f0",
   "metadata": {},
   "outputs": [],
   "source": [
    "# importing necessary libraries\n",
    "import numpy as np\n",
    "from sklearn.neural_network import MLPClassifier\n",
    "from sklearn.metrics import accuracy_score"
   ]
  },
  {
   "cell_type": "code",
   "execution_count": 4,
   "id": "d8f0130f",
   "metadata": {},
   "outputs": [],
   "source": [
    "# Define the XOR problem's input and output data.\n",
    "X = [[0, 0], [0, 1], [1, 0], [1, 1]]\n",
    "y = [0, 1, 1, 0]"
   ]
  },
  {
   "cell_type": "code",
   "execution_count": null,
   "id": "8b524050",
   "metadata": {},
   "outputs": [],
   "source": [
    "model = MLPClassifier(\n",
    "    hidden_layer_sizes=(5,),    # One hidden layer with 5 neurons\n",
    "    activation='relu',          # ReLU activation for hidden layer\n",
    "    max_iter=500\n",
    ")"
   ]
  },
  {
   "cell_type": "code",
   "execution_count": 13,
   "id": "f7197690",
   "metadata": {},
   "outputs": [
    {
     "name": "stderr",
     "output_type": "stream",
     "text": [
      "f:\\Python\\lib\\site-packages\\sklearn\\neural_network\\_multilayer_perceptron.py:691: ConvergenceWarning: Stochastic Optimizer: Maximum iterations (500) reached and the optimization hasn't converged yet.\n",
      "  warnings.warn(\n"
     ]
    },
    {
     "data": {
      "text/html": [
       "<style>#sk-container-id-3 {color: black;}#sk-container-id-3 pre{padding: 0;}#sk-container-id-3 div.sk-toggleable {background-color: white;}#sk-container-id-3 label.sk-toggleable__label {cursor: pointer;display: block;width: 100%;margin-bottom: 0;padding: 0.3em;box-sizing: border-box;text-align: center;}#sk-container-id-3 label.sk-toggleable__label-arrow:before {content: \"▸\";float: left;margin-right: 0.25em;color: #696969;}#sk-container-id-3 label.sk-toggleable__label-arrow:hover:before {color: black;}#sk-container-id-3 div.sk-estimator:hover label.sk-toggleable__label-arrow:before {color: black;}#sk-container-id-3 div.sk-toggleable__content {max-height: 0;max-width: 0;overflow: hidden;text-align: left;background-color: #f0f8ff;}#sk-container-id-3 div.sk-toggleable__content pre {margin: 0.2em;color: black;border-radius: 0.25em;background-color: #f0f8ff;}#sk-container-id-3 input.sk-toggleable__control:checked~div.sk-toggleable__content {max-height: 200px;max-width: 100%;overflow: auto;}#sk-container-id-3 input.sk-toggleable__control:checked~label.sk-toggleable__label-arrow:before {content: \"▾\";}#sk-container-id-3 div.sk-estimator input.sk-toggleable__control:checked~label.sk-toggleable__label {background-color: #d4ebff;}#sk-container-id-3 div.sk-label input.sk-toggleable__control:checked~label.sk-toggleable__label {background-color: #d4ebff;}#sk-container-id-3 input.sk-hidden--visually {border: 0;clip: rect(1px 1px 1px 1px);clip: rect(1px, 1px, 1px, 1px);height: 1px;margin: -1px;overflow: hidden;padding: 0;position: absolute;width: 1px;}#sk-container-id-3 div.sk-estimator {font-family: monospace;background-color: #f0f8ff;border: 1px dotted black;border-radius: 0.25em;box-sizing: border-box;margin-bottom: 0.5em;}#sk-container-id-3 div.sk-estimator:hover {background-color: #d4ebff;}#sk-container-id-3 div.sk-parallel-item::after {content: \"\";width: 100%;border-bottom: 1px solid gray;flex-grow: 1;}#sk-container-id-3 div.sk-label:hover label.sk-toggleable__label {background-color: #d4ebff;}#sk-container-id-3 div.sk-serial::before {content: \"\";position: absolute;border-left: 1px solid gray;box-sizing: border-box;top: 0;bottom: 0;left: 50%;z-index: 0;}#sk-container-id-3 div.sk-serial {display: flex;flex-direction: column;align-items: center;background-color: white;padding-right: 0.2em;padding-left: 0.2em;position: relative;}#sk-container-id-3 div.sk-item {position: relative;z-index: 1;}#sk-container-id-3 div.sk-parallel {display: flex;align-items: stretch;justify-content: center;background-color: white;position: relative;}#sk-container-id-3 div.sk-item::before, #sk-container-id-3 div.sk-parallel-item::before {content: \"\";position: absolute;border-left: 1px solid gray;box-sizing: border-box;top: 0;bottom: 0;left: 50%;z-index: -1;}#sk-container-id-3 div.sk-parallel-item {display: flex;flex-direction: column;z-index: 1;position: relative;background-color: white;}#sk-container-id-3 div.sk-parallel-item:first-child::after {align-self: flex-end;width: 50%;}#sk-container-id-3 div.sk-parallel-item:last-child::after {align-self: flex-start;width: 50%;}#sk-container-id-3 div.sk-parallel-item:only-child::after {width: 0;}#sk-container-id-3 div.sk-dashed-wrapped {border: 1px dashed gray;margin: 0 0.4em 0.5em 0.4em;box-sizing: border-box;padding-bottom: 0.4em;background-color: white;}#sk-container-id-3 div.sk-label label {font-family: monospace;font-weight: bold;display: inline-block;line-height: 1.2em;}#sk-container-id-3 div.sk-label-container {text-align: center;}#sk-container-id-3 div.sk-container {/* jupyter's `normalize.less` sets `[hidden] { display: none; }` but bootstrap.min.css set `[hidden] { display: none !important; }` so we also need the `!important` here to be able to override the default hidden behavior on the sphinx rendered scikit-learn.org. See: https://github.com/scikit-learn/scikit-learn/issues/21755 */display: inline-block !important;position: relative;}#sk-container-id-3 div.sk-text-repr-fallback {display: none;}</style><div id=\"sk-container-id-3\" class=\"sk-top-container\"><div class=\"sk-text-repr-fallback\"><pre>MLPClassifier(hidden_layer_sizes=(5,), max_iter=500)</pre><b>In a Jupyter environment, please rerun this cell to show the HTML representation or trust the notebook. <br />On GitHub, the HTML representation is unable to render, please try loading this page with nbviewer.org.</b></div><div class=\"sk-container\" hidden><div class=\"sk-item\"><div class=\"sk-estimator sk-toggleable\"><input class=\"sk-toggleable__control sk-hidden--visually\" id=\"sk-estimator-id-3\" type=\"checkbox\" checked><label for=\"sk-estimator-id-3\" class=\"sk-toggleable__label sk-toggleable__label-arrow\">MLPClassifier</label><div class=\"sk-toggleable__content\"><pre>MLPClassifier(hidden_layer_sizes=(5,), max_iter=500)</pre></div></div></div></div></div>"
      ],
      "text/plain": [
       "MLPClassifier(hidden_layer_sizes=(5,), max_iter=500)"
      ]
     },
     "execution_count": 13,
     "metadata": {},
     "output_type": "execute_result"
    }
   ],
   "source": [
    "model.fit(X, y)"
   ]
  },
  {
   "cell_type": "code",
   "execution_count": 14,
   "id": "65b90bb0",
   "metadata": {},
   "outputs": [
    {
     "name": "stdout",
     "output_type": "stream",
     "text": [
      "Accuracy with 5 hidden neurons: 1.0\n"
     ]
    }
   ],
   "source": [
    "preds = model.predict(X)\n",
    "print(\"Accuracy with 5 hidden neurons:\", accuracy_score(y, preds))"
   ]
  },
  {
   "cell_type": "markdown",
   "id": "74c9df99",
   "metadata": {},
   "source": [
    "### **Questions:**"
   ]
  },
  {
   "cell_type": "markdown",
   "id": "f68a3908",
   "metadata": {},
   "source": [
    "#### What are the weights and biases after training?"
   ]
  },
  {
   "cell_type": "code",
   "execution_count": 23,
   "id": "52480bd6",
   "metadata": {},
   "outputs": [
    {
     "name": "stdout",
     "output_type": "stream",
     "text": [
      "Weights after training:\n",
      "Layer 1 weights:\n",
      "[[-7.58027764e-01  3.51667402e-12  7.36264056e-02 -1.04431977e+00\n",
      "  -9.66284545e-02]\n",
      " [-5.69877737e-02 -9.68075974e-06 -2.27924334e-02 -1.04380488e+00\n",
      "   6.37640708e-01]]\n",
      "\n",
      "Layer 2 weights:\n",
      "[[ 0.57236868]\n",
      " [ 0.49275298]\n",
      " [-0.32651145]\n",
      " [-0.9209957 ]\n",
      " [-0.56935906]]\n",
      "\n",
      "Baises after training:\n",
      "Layer 1 biases:\n",
      "[ 0.82299905 -0.15263851 -0.41408271  1.0440735   0.82203451]\n",
      "\n",
      "Layer 2 biases:\n",
      "[0.60969224]\n",
      "\n"
     ]
    }
   ],
   "source": [
    "print(\"Weights after training:\")\n",
    "for i, w in enumerate(model.coefs_):\n",
    "    print(f\"Layer {i + 1} weights:\\n{w}\\n\")\n",
    "\n",
    "print(\"Baises after training:\")\n",
    "for i, b in enumerate(model.intercepts_):\n",
    "    print(f\"Layer {i + 1} biases:\\n{b}\\n\")"
   ]
  },
  {
   "cell_type": "markdown",
   "id": "a14de8b6",
   "metadata": {},
   "source": [
    "#### Why is a hidden layer necessary for this problem?\n",
    "\n",
    "- A hidden layer is necessary for solving the XOR problem because the XOR pattern is not linearly separable. A simple neural network without a hidden layer can only solve problems where the data can be separated with a straight line. But in XOR, the inputs [0, 0] and [1, 1] belong to one class (output 0), and [0, 1] and [1, 0] belong to another (output 1), which makes the pattern more complex. \n",
    "- A hidden layer allows the model to create a more flexible boundary between classes by applying a non-linear function (like ReLU). This helps the network learn the correct relationship between the inputs and outputs. So, without a hidden layer, the model cannot solve the XOR problem correctly."
   ]
  },
  {
   "cell_type": "markdown",
   "id": "3e483aa6",
   "metadata": {},
   "source": [
    "#### What happens to the model performance if the hidden layer size is increased to 10 neurons?\n",
    "\n",
    "- When we increase the number of hidden neurons from 5 to 10 and retrain the model, the accuracy stays the same — 100% — because the XOR problem is small and simple. The model already learns the correct pattern with 5 neurons, so adding more neurons doesn’t improve accuracy. However, it does make the model slightly more complex, with more weights and biases to train. This can lead to longer training time, but the difference is usually small for such a tiny dataset. If we were working with a larger or noisier dataset, having too many neurons could cause the model to overfit, meaning it would perform well on the training data but poorly on new data. But in this case, since we're testing on the same data we trained on, the accuracy remains perfect."
   ]
  },
  {
   "cell_type": "code",
   "execution_count": 33,
   "id": "bab6f3c6",
   "metadata": {},
   "outputs": [],
   "source": [
    "model_larger = MLPClassifier(hidden_layer_sizes=(10,), \n",
    "                             activation='relu', \n",
    "                             max_iter=500,\n",
    "                            )"
   ]
  },
  {
   "cell_type": "code",
   "execution_count": 34,
   "id": "7adbddb4",
   "metadata": {},
   "outputs": [
    {
     "name": "stdout",
     "output_type": "stream",
     "text": [
      "Accuracy with 10 hidden neurons: 1.0\n"
     ]
    },
    {
     "name": "stderr",
     "output_type": "stream",
     "text": [
      "f:\\Python\\lib\\site-packages\\sklearn\\neural_network\\_multilayer_perceptron.py:691: ConvergenceWarning: Stochastic Optimizer: Maximum iterations (500) reached and the optimization hasn't converged yet.\n",
      "  warnings.warn(\n"
     ]
    }
   ],
   "source": [
    "model_larger.fit(X, y)\n",
    "preds = model_larger.predict(X)\n",
    "print(\"Accuracy with 10 hidden neurons:\", accuracy_score(y, preds))"
   ]
  },
  {
   "cell_type": "markdown",
   "id": "ed2eb534",
   "metadata": {},
   "source": [
    "#### How does changing the activation function in the hidden layer to tanh affect the model?"
   ]
  },
  {
   "cell_type": "code",
   "execution_count": 31,
   "id": "4d809088",
   "metadata": {},
   "outputs": [
    {
     "name": "stdout",
     "output_type": "stream",
     "text": [
      "Accuracy with tanh: 0.75\n"
     ]
    },
    {
     "name": "stderr",
     "output_type": "stream",
     "text": [
      "f:\\Python\\lib\\site-packages\\sklearn\\neural_network\\_multilayer_perceptron.py:691: ConvergenceWarning: Stochastic Optimizer: Maximum iterations (500) reached and the optimization hasn't converged yet.\n",
      "  warnings.warn(\n"
     ]
    }
   ],
   "source": [
    "model_tanh = MLPClassifier(hidden_layer_sizes=(5,), \n",
    "                           activation='tanh', \n",
    "                           max_iter=500\n",
    "                        )\n",
    "model_tanh.fit(X, y)\n",
    "preds = model_tanh.predict(X)\n",
    "print(\"Accuracy with tanh:\", accuracy_score(y, preds))"
   ]
  },
  {
   "cell_type": "markdown",
   "id": "fdb9714a",
   "metadata": {},
   "source": [
    "- When we change the activation function in the hidden layer from ReLU to tanh, the model still tries to learn the XOR pattern, but the learning behavior changes. Unlike ReLU, which only outputs positive values, tanh gives outputs between -1 and 1 and is symmetric around zero. This can help the model learn balanced patterns, but it can also cause the optimization process to get stuck if the gradients become too small (a problem known as vanishing gradients). So while tanh can work well in theory, in practice it may take longer to converge or might need some tuning, especially for small models or datasets like XOR.\n"
   ]
  },
  {
   "cell_type": "markdown",
   "id": "5f8355df",
   "metadata": {},
   "source": []
  },
  {
   "cell_type": "markdown",
   "id": "13438649",
   "metadata": {},
   "source": [
    "#### **Task 02: Predicting California Housing Prices**"
   ]
  },
  {
   "cell_type": "code",
   "execution_count": null,
   "id": "df2896f3",
   "metadata": {},
   "outputs": [],
   "source": [
    "from sklearn.datasets import fetch_california_housing\n",
    "from sklearn.model_selection import train_test_split\n",
    "from sklearn.preprocessing import StandardScaler\n",
    "from sklearn.neural_network import MLPRegressor\n",
    "from sklearn.metrics import mean_squared_error\n",
    "import matplotlib.pyplot as plt\n",
    "import numpy as np\n",
    "import time"
   ]
  },
  {
   "cell_type": "code",
   "execution_count": 36,
   "id": "0ffe3af2",
   "metadata": {},
   "outputs": [],
   "source": [
    "# Step 1: Load the dataset\n",
    "data = fetch_california_housing()\n",
    "X, y = data.data, data.target\n",
    "\n",
    "# Step 2: Normalize features\n",
    "scaler = StandardScaler()\n",
    "X_scaled = scaler.fit_transform(X)"
   ]
  },
  {
   "cell_type": "code",
   "execution_count": 37,
   "id": "d4445b4d",
   "metadata": {},
   "outputs": [],
   "source": [
    "# Step 3: Split data (90% training, 10% testing)\n",
    "X_train, X_test, y_train, y_test = train_test_split(X_scaled, y, test_size=0.1, random_state=42)"
   ]
  },
  {
   "cell_type": "code",
   "execution_count": 38,
   "id": "195eda12",
   "metadata": {},
   "outputs": [],
   "source": [
    "# Step 4: Define and train the MLPRegressor\n",
    "model = MLPRegressor(hidden_layer_sizes=(128, 64, 32),\n",
    "                     activation='relu',\n",
    "                     solver='adam',\n",
    "                     max_iter=300,\n",
    "                     random_state=42,\n",
    "                     verbose=True)"
   ]
  },
  {
   "cell_type": "code",
   "execution_count": 39,
   "id": "04f18bb8",
   "metadata": {},
   "outputs": [
    {
     "name": "stdout",
     "output_type": "stream",
     "text": [
      "Iteration 1, loss = 0.53885876\n",
      "Iteration 2, loss = 0.22183631\n",
      "Iteration 3, loss = 0.19042119\n",
      "Iteration 4, loss = 0.17935049\n",
      "Iteration 5, loss = 0.17190260\n",
      "Iteration 6, loss = 0.16665396\n",
      "Iteration 7, loss = 0.16174409\n",
      "Iteration 8, loss = 0.16063601\n",
      "Iteration 9, loss = 0.15373855\n",
      "Iteration 10, loss = 0.14980380\n",
      "Iteration 11, loss = 0.14803004\n",
      "Iteration 12, loss = 0.14469742\n",
      "Iteration 13, loss = 0.14767503\n",
      "Iteration 14, loss = 0.14122103\n",
      "Iteration 15, loss = 0.13989063\n",
      "Iteration 16, loss = 0.13917637\n",
      "Iteration 17, loss = 0.13873904\n",
      "Iteration 18, loss = 0.13644931\n",
      "Iteration 19, loss = 0.13520772\n",
      "Iteration 20, loss = 0.13558742\n",
      "Iteration 21, loss = 0.13216058\n",
      "Iteration 22, loss = 0.13281505\n",
      "Iteration 23, loss = 0.13157710\n",
      "Iteration 24, loss = 0.13182753\n",
      "Iteration 25, loss = 0.12978768\n",
      "Iteration 26, loss = 0.12913776\n",
      "Iteration 27, loss = 0.13141475\n",
      "Iteration 28, loss = 0.12975822\n",
      "Iteration 29, loss = 0.13233942\n",
      "Iteration 30, loss = 0.12626563\n",
      "Iteration 31, loss = 0.12690679\n",
      "Iteration 32, loss = 0.12593240\n",
      "Iteration 33, loss = 0.12447905\n",
      "Iteration 34, loss = 0.12296302\n",
      "Iteration 35, loss = 0.12356680\n",
      "Iteration 36, loss = 0.12441836\n",
      "Iteration 37, loss = 0.12167488\n",
      "Iteration 38, loss = 0.12280931\n",
      "Iteration 39, loss = 0.12056385\n",
      "Iteration 40, loss = 0.12016694\n",
      "Iteration 41, loss = 0.12015531\n",
      "Iteration 42, loss = 0.11962212\n",
      "Iteration 43, loss = 0.12112122\n",
      "Iteration 44, loss = 0.11955391\n",
      "Iteration 45, loss = 0.11891423\n",
      "Iteration 46, loss = 0.12069857\n",
      "Iteration 47, loss = 0.11870553\n",
      "Iteration 48, loss = 0.11768062\n",
      "Iteration 49, loss = 0.11851117\n",
      "Iteration 50, loss = 0.11731875\n",
      "Iteration 51, loss = 0.11757828\n",
      "Iteration 52, loss = 0.11553725\n",
      "Iteration 53, loss = 0.11613891\n",
      "Iteration 54, loss = 0.11602197\n",
      "Iteration 55, loss = 0.11507391\n",
      "Iteration 56, loss = 0.11438210\n",
      "Iteration 57, loss = 0.11591446\n",
      "Iteration 58, loss = 0.11332506\n",
      "Iteration 59, loss = 0.11286105\n",
      "Iteration 60, loss = 0.11414991\n",
      "Iteration 61, loss = 0.11379563\n",
      "Iteration 62, loss = 0.11149269\n",
      "Iteration 63, loss = 0.11292647\n",
      "Iteration 64, loss = 0.11304088\n",
      "Iteration 65, loss = 0.11060639\n",
      "Iteration 66, loss = 0.11113753\n",
      "Iteration 67, loss = 0.11257060\n",
      "Iteration 68, loss = 0.11119158\n",
      "Iteration 69, loss = 0.11022458\n",
      "Iteration 70, loss = 0.11028686\n",
      "Iteration 71, loss = 0.10820808\n",
      "Iteration 72, loss = 0.10815655\n",
      "Iteration 73, loss = 0.10969768\n",
      "Iteration 74, loss = 0.10829090\n",
      "Iteration 75, loss = 0.10740772\n",
      "Iteration 76, loss = 0.10770249\n",
      "Iteration 77, loss = 0.10671158\n",
      "Iteration 78, loss = 0.10892393\n",
      "Iteration 79, loss = 0.10829539\n",
      "Iteration 80, loss = 0.10667652\n",
      "Iteration 81, loss = 0.10615972\n",
      "Iteration 82, loss = 0.10531079\n",
      "Iteration 83, loss = 0.10847395\n",
      "Iteration 84, loss = 0.10489063\n",
      "Iteration 85, loss = 0.10589620\n",
      "Iteration 86, loss = 0.10354055\n",
      "Iteration 87, loss = 0.10461213\n",
      "Iteration 88, loss = 0.10270173\n",
      "Iteration 89, loss = 0.10211239\n",
      "Iteration 90, loss = 0.10115603\n",
      "Iteration 91, loss = 0.10172715\n",
      "Iteration 92, loss = 0.10313921\n",
      "Iteration 93, loss = 0.10174300\n",
      "Iteration 94, loss = 0.10265343\n",
      "Iteration 95, loss = 0.10047251\n",
      "Iteration 96, loss = 0.10079583\n",
      "Iteration 97, loss = 0.10023603\n",
      "Iteration 98, loss = 0.10000556\n",
      "Iteration 99, loss = 0.10039013\n",
      "Iteration 100, loss = 0.10061450\n",
      "Iteration 101, loss = 0.09870890\n",
      "Iteration 102, loss = 0.10019482\n",
      "Iteration 103, loss = 0.09995712\n",
      "Iteration 104, loss = 0.09857626\n",
      "Iteration 105, loss = 0.10068220\n",
      "Iteration 106, loss = 0.09774448\n",
      "Iteration 107, loss = 0.09975038\n",
      "Iteration 108, loss = 0.09709050\n",
      "Iteration 109, loss = 0.09763434\n",
      "Iteration 110, loss = 0.09611564\n",
      "Iteration 111, loss = 0.09585021\n",
      "Iteration 112, loss = 0.09578515\n",
      "Iteration 113, loss = 0.09773478\n",
      "Iteration 114, loss = 0.09631580\n",
      "Iteration 115, loss = 0.09464364\n",
      "Iteration 116, loss = 0.09549307\n",
      "Iteration 117, loss = 0.09560952\n",
      "Iteration 118, loss = 0.09488463\n",
      "Iteration 119, loss = 0.09648996\n",
      "Iteration 120, loss = 0.09426029\n",
      "Iteration 121, loss = 0.09376961\n",
      "Iteration 122, loss = 0.09412505\n",
      "Iteration 123, loss = 0.09315444\n",
      "Iteration 124, loss = 0.09270558\n",
      "Iteration 125, loss = 0.09390696\n",
      "Iteration 126, loss = 0.09350071\n",
      "Iteration 127, loss = 0.09247622\n",
      "Iteration 128, loss = 0.09141526\n",
      "Iteration 129, loss = 0.09198316\n",
      "Iteration 130, loss = 0.09362642\n",
      "Iteration 131, loss = 0.09249794\n",
      "Iteration 132, loss = 0.09140421\n",
      "Iteration 133, loss = 0.09127482\n",
      "Iteration 134, loss = 0.09039659\n",
      "Iteration 135, loss = 0.09111455\n",
      "Iteration 136, loss = 0.09071146\n",
      "Iteration 137, loss = 0.09016396\n",
      "Iteration 138, loss = 0.08868109\n",
      "Iteration 139, loss = 0.09047102\n",
      "Iteration 140, loss = 0.09009896\n",
      "Iteration 141, loss = 0.09050268\n",
      "Iteration 142, loss = 0.08973752\n",
      "Iteration 143, loss = 0.08886754\n",
      "Iteration 144, loss = 0.08870112\n",
      "Iteration 145, loss = 0.08952560\n",
      "Iteration 146, loss = 0.08937618\n",
      "Iteration 147, loss = 0.09937368\n",
      "Iteration 148, loss = 0.08872855\n",
      "Iteration 149, loss = 0.09040636\n",
      "Training loss did not improve more than tol=0.000100 for 10 consecutive epochs. Stopping.\n"
     ]
    },
    {
     "data": {
      "text/html": [
       "<style>#sk-container-id-4 {color: black;}#sk-container-id-4 pre{padding: 0;}#sk-container-id-4 div.sk-toggleable {background-color: white;}#sk-container-id-4 label.sk-toggleable__label {cursor: pointer;display: block;width: 100%;margin-bottom: 0;padding: 0.3em;box-sizing: border-box;text-align: center;}#sk-container-id-4 label.sk-toggleable__label-arrow:before {content: \"▸\";float: left;margin-right: 0.25em;color: #696969;}#sk-container-id-4 label.sk-toggleable__label-arrow:hover:before {color: black;}#sk-container-id-4 div.sk-estimator:hover label.sk-toggleable__label-arrow:before {color: black;}#sk-container-id-4 div.sk-toggleable__content {max-height: 0;max-width: 0;overflow: hidden;text-align: left;background-color: #f0f8ff;}#sk-container-id-4 div.sk-toggleable__content pre {margin: 0.2em;color: black;border-radius: 0.25em;background-color: #f0f8ff;}#sk-container-id-4 input.sk-toggleable__control:checked~div.sk-toggleable__content {max-height: 200px;max-width: 100%;overflow: auto;}#sk-container-id-4 input.sk-toggleable__control:checked~label.sk-toggleable__label-arrow:before {content: \"▾\";}#sk-container-id-4 div.sk-estimator input.sk-toggleable__control:checked~label.sk-toggleable__label {background-color: #d4ebff;}#sk-container-id-4 div.sk-label input.sk-toggleable__control:checked~label.sk-toggleable__label {background-color: #d4ebff;}#sk-container-id-4 input.sk-hidden--visually {border: 0;clip: rect(1px 1px 1px 1px);clip: rect(1px, 1px, 1px, 1px);height: 1px;margin: -1px;overflow: hidden;padding: 0;position: absolute;width: 1px;}#sk-container-id-4 div.sk-estimator {font-family: monospace;background-color: #f0f8ff;border: 1px dotted black;border-radius: 0.25em;box-sizing: border-box;margin-bottom: 0.5em;}#sk-container-id-4 div.sk-estimator:hover {background-color: #d4ebff;}#sk-container-id-4 div.sk-parallel-item::after {content: \"\";width: 100%;border-bottom: 1px solid gray;flex-grow: 1;}#sk-container-id-4 div.sk-label:hover label.sk-toggleable__label {background-color: #d4ebff;}#sk-container-id-4 div.sk-serial::before {content: \"\";position: absolute;border-left: 1px solid gray;box-sizing: border-box;top: 0;bottom: 0;left: 50%;z-index: 0;}#sk-container-id-4 div.sk-serial {display: flex;flex-direction: column;align-items: center;background-color: white;padding-right: 0.2em;padding-left: 0.2em;position: relative;}#sk-container-id-4 div.sk-item {position: relative;z-index: 1;}#sk-container-id-4 div.sk-parallel {display: flex;align-items: stretch;justify-content: center;background-color: white;position: relative;}#sk-container-id-4 div.sk-item::before, #sk-container-id-4 div.sk-parallel-item::before {content: \"\";position: absolute;border-left: 1px solid gray;box-sizing: border-box;top: 0;bottom: 0;left: 50%;z-index: -1;}#sk-container-id-4 div.sk-parallel-item {display: flex;flex-direction: column;z-index: 1;position: relative;background-color: white;}#sk-container-id-4 div.sk-parallel-item:first-child::after {align-self: flex-end;width: 50%;}#sk-container-id-4 div.sk-parallel-item:last-child::after {align-self: flex-start;width: 50%;}#sk-container-id-4 div.sk-parallel-item:only-child::after {width: 0;}#sk-container-id-4 div.sk-dashed-wrapped {border: 1px dashed gray;margin: 0 0.4em 0.5em 0.4em;box-sizing: border-box;padding-bottom: 0.4em;background-color: white;}#sk-container-id-4 div.sk-label label {font-family: monospace;font-weight: bold;display: inline-block;line-height: 1.2em;}#sk-container-id-4 div.sk-label-container {text-align: center;}#sk-container-id-4 div.sk-container {/* jupyter's `normalize.less` sets `[hidden] { display: none; }` but bootstrap.min.css set `[hidden] { display: none !important; }` so we also need the `!important` here to be able to override the default hidden behavior on the sphinx rendered scikit-learn.org. See: https://github.com/scikit-learn/scikit-learn/issues/21755 */display: inline-block !important;position: relative;}#sk-container-id-4 div.sk-text-repr-fallback {display: none;}</style><div id=\"sk-container-id-4\" class=\"sk-top-container\"><div class=\"sk-text-repr-fallback\"><pre>MLPRegressor(hidden_layer_sizes=(128, 64, 32), max_iter=300, random_state=42,\n",
       "             verbose=True)</pre><b>In a Jupyter environment, please rerun this cell to show the HTML representation or trust the notebook. <br />On GitHub, the HTML representation is unable to render, please try loading this page with nbviewer.org.</b></div><div class=\"sk-container\" hidden><div class=\"sk-item\"><div class=\"sk-estimator sk-toggleable\"><input class=\"sk-toggleable__control sk-hidden--visually\" id=\"sk-estimator-id-4\" type=\"checkbox\" checked><label for=\"sk-estimator-id-4\" class=\"sk-toggleable__label sk-toggleable__label-arrow\">MLPRegressor</label><div class=\"sk-toggleable__content\"><pre>MLPRegressor(hidden_layer_sizes=(128, 64, 32), max_iter=300, random_state=42,\n",
       "             verbose=True)</pre></div></div></div></div></div>"
      ],
      "text/plain": [
       "MLPRegressor(hidden_layer_sizes=(128, 64, 32), max_iter=300, random_state=42,\n",
       "             verbose=True)"
      ]
     },
     "execution_count": 39,
     "metadata": {},
     "output_type": "execute_result"
    }
   ],
   "source": [
    "model.fit(X_train, y_train)"
   ]
  },
  {
   "cell_type": "code",
   "execution_count": 40,
   "id": "ea01fd2b",
   "metadata": {},
   "outputs": [
    {
     "name": "stdout",
     "output_type": "stream",
     "text": [
      "Mean Squared Error on Test Set: 0.27039027460951764\n"
     ]
    },
    {
     "data": {
      "image/png": "[encoded data removed]",
      "text/plain": [
       "<Figure size 640x480 with 1 Axes>"
      ]
     },
     "metadata": {},
     "output_type": "display_data"
    }
   ],
   "source": [
    "# Step 5: Evaluate model\n",
    "y_pred = model.predict(X_test)\n",
    "mse = mean_squared_error(y_test, y_pred)\n",
    "print(\"Mean Squared Error on Test Set:\", mse)\n",
    "\n",
    "# Step 6: Visualize loss curve\n",
    "plt.plot(model.loss_curve_)\n",
    "plt.title(\"Loss Curve\")\n",
    "plt.xlabel(\"Iterations\")\n",
    "plt.ylabel(\"Loss\")\n",
    "plt.grid(True)\n",
    "plt.show()"
   ]
  },
  {
   "cell_type": "markdown",
   "id": "4cdeecc6",
   "metadata": {},
   "source": [
    "### **Questions:**"
   ]
  },
  {
   "cell_type": "markdown",
   "id": "94a0222b",
   "metadata": {},
   "source": [
    "#### What is the mean squared error on the test set?"
   ]
  },
  {
   "cell_type": "code",
   "execution_count": 41,
   "id": "d16dfe43",
   "metadata": {},
   "outputs": [
    {
     "name": "stdout",
     "output_type": "stream",
     "text": [
      "Mean Squared Error on Test Set: 0.27039027460951764\n"
     ]
    }
   ],
   "source": [
    "print(\"Mean Squared Error on Test Set:\", mse)"
   ]
  },
  {
   "cell_type": "markdown",
   "id": "6da7564f",
   "metadata": {},
   "source": [
    "- The Mean Squared Error (MSE) measures the average squared difference between actual and predicted values in regression models, with lower values indicating better performance."
   ]
  },
  {
   "cell_type": "markdown",
   "id": "5717733b",
   "metadata": {},
   "source": [
    "#### How does normalization affect model performance?\n",
    "\n",
    "Normalization is a crucial preprocessing step in training neural networks, significantly impacting model performance. Here's how it helps:\n",
    "- Equalizes Feature Scales: In datasets like California housing, features such as income and house age can have vastly different scales. Normalization adjusts these features to a common scale, ensuring that no single feature disproportionately influences the model's learning process.\n",
    "- Accelerates Convergence: By scaling features, normalization allows the optimization algorithm to converge more quickly. It prevents issues like vanishing or exploding gradients, which can hinder the training process. This leads to faster and more stable training.\n",
    "- Enhances Generalization: Normalized data helps the model generalize better to unseen data by preventing overfitting. It ensures that the model captures the underlying patterns rather than memorizing the training data.\n",
    "- Improves Numerical Stability: Normalization keeps input values within a range that maintains numerical stability during computations, reducing the risk of computational errors."
   ]
  },
  {
   "cell_type": "markdown",
   "id": "25d7ccb0",
   "metadata": {},
   "source": [
    "#### How does changing the solver from Adam to SGD affect training time and accuracy?"
   ]
  },
  {
   "cell_type": "code",
   "execution_count": null,
   "id": "ac730957",
   "metadata": {},
   "outputs": [
    {
     "name": "stdout",
     "output_type": "stream",
     "text": [
      "Adam Optimizer:\n",
      "Training Time: 73.09 seconds\n",
      "Test MSE: 0.2704\n",
      "\n",
      "SGD Optimizer:\n",
      "Training Time: 151.35 seconds\n",
      "Test MSE: 0.2823\n"
     ]
    },
    {
     "name": "stderr",
     "output_type": "stream",
     "text": [
      "f:\\Python\\lib\\site-packages\\sklearn\\neural_network\\_multilayer_perceptron.py:691: ConvergenceWarning: Stochastic Optimizer: Maximum iterations (300) reached and the optimization hasn't converged yet.\n",
      "  warnings.warn(\n"
     ]
    }
   ],
   "source": [
    "# Define model parameters\n",
    "hidden_layers = (128, 64, 32)\n",
    "max_iter = 300\n",
    "random_state = 42\n",
    "\n",
    "# Train with Adam optimizer\n",
    "start_time = time.time()\n",
    "model_adam = MLPRegressor(\n",
    "    hidden_layer_sizes=hidden_layers,\n",
    "    activation='relu',\n",
    "    solver='adam',\n",
    "    max_iter=max_iter,\n",
    "    random_state=random_state\n",
    ")\n",
    "model_adam.fit(X_train, y_train)\n",
    "adam_time = time.time() - start_time\n",
    "adam_mse = mean_squared_error(y_test, model_adam.predict(X_test))\n",
    "\n",
    "print(f\"Adam Optimizer:\\nTraining Time: {adam_time:.2f} seconds\\nTest MSE: {adam_mse:.4f}\\n\")\n",
    "\n",
    "# Train with SGD optimizer\n",
    "start_time = time.time()\n",
    "model_sgd = MLPRegressor(\n",
    "    hidden_layer_sizes=hidden_layers,\n",
    "    activation='relu',\n",
    "    solver='sgd',\n",
    "    learning_rate_init=0.01,\n",
    "    max_iter=max_iter,\n",
    "    random_state=random_state\n",
    ")\n",
    "model_sgd.fit(X_train, y_train)\n",
    "sgd_time = time.time() - start_time\n",
    "sgd_mse = mean_squared_error(y_test, model_sgd.predict(X_test))\n",
    "\n",
    "print(f\"SGD Optimizer:\\nTraining Time: {sgd_time:.2f} seconds\\nTest MSE: {sgd_mse:.4f}\")\n"
   ]
  },
  {
   "cell_type": "markdown",
   "id": "99cd5bf9",
   "metadata": {},
   "source": [
    "Adam Optimizer\n",
    "- The Adam optimizer completed training in approximately 73.09 seconds, achieving a Mean Squared Error (MSE) of 0.2704 on the test set. Adam's adaptive learning rate mechanism allows it to adjust the learning rate for each parameter dynamically, leading to faster convergence and often better performance on complex datasets. This efficiency makes Adam a popular choice for training deep learning models, especially when quick convergence is desired.\n",
    "MachineLearningMastery.com\n",
    "\n",
    "SGD Optimizer\n",
    "- In contrast, the Stochastic Gradient Descent (SGD) optimizer took about 151.35 seconds to train the model, resulting in a slightly higher MSE of 0.2823 on the test set. SGD updates parameters using the gradient of the loss function, which can lead to slower convergence, especially without fine-tuned hyperparameters like learning rate and momentum. While SGD can generalize well in certain scenarios, it often requires more careful tuning and longer training times.\n",
    "\n",
    "Conclusion\n",
    "- For the California housing price prediction task, the Adam optimizer outperformed SGD in both training time and model accuracy. Adam's ability to adaptively adjust learning rates contributed to faster convergence and better performance, making it a suitable choice for this regression problem."
   ]
  },
  {
   "cell_type": "markdown",
   "id": "511d5efa",
   "metadata": {},
   "source": [
    "#### How does the model performance change if the dataset is split as 70% training and 30% testing?"
   ]
  },
  {
   "cell_type": "code",
   "execution_count": 44,
   "id": "1307d2c8",
   "metadata": {},
   "outputs": [
    {
     "name": "stdout",
     "output_type": "stream",
     "text": [
      "Training Time: 138.05 seconds\n",
      "Test Mean Squared Error: 0.2780\n"
     ]
    },
    {
     "name": "stderr",
     "output_type": "stream",
     "text": [
      "f:\\Python\\lib\\site-packages\\sklearn\\neural_network\\_multilayer_perceptron.py:691: ConvergenceWarning: Stochastic Optimizer: Maximum iterations (300) reached and the optimization hasn't converged yet.\n",
      "  warnings.warn(\n"
     ]
    }
   ],
   "source": [
    "# Split the dataset into 70% training and 30% testing\n",
    "X_train_70, X_test_30, y_train_70, y_test_30 = train_test_split(X_scaled, y, test_size=0.3, random_state=42)\n",
    "\n",
    "# Define the MLPRegressor model\n",
    "mlp_model = MLPRegressor(\n",
    "    hidden_layer_sizes=(128, 64, 32),\n",
    "    activation='relu',\n",
    "    solver='adam',\n",
    "    max_iter=300,\n",
    "    random_state=42\n",
    ")\n",
    "\n",
    "# Train the model and record the training time\n",
    "start_time = time.time()\n",
    "mlp_model.fit(X_train_70, y_train_70)\n",
    "training_duration = time.time() - start_time\n",
    "\n",
    "# Make predictions on the test set\n",
    "predictions = mlp_model.predict(X_test_30)\n",
    "\n",
    "# Evaluate the model's performance\n",
    "mse = mean_squared_error(y_test_30, predictions)\n",
    "\n",
    "# Display the results\n",
    "print(f\"Training Time: {training_duration:.2f} seconds\")\n",
    "print(f\"Test Mean Squared Error: {mse:.4f}\")"
   ]
  },
  {
   "cell_type": "markdown",
   "id": "e1fec6c7",
   "metadata": {},
   "source": [
    "- Adjusting the dataset split to 70% training and 30% testing resulted in a training time of approximately 138.05 seconds and a Mean Squared Error (MSE) of 0.2780 on the test set. This indicates that the model maintained strong predictive performance despite having less training data. The larger test set provides a more comprehensive evaluation, ensuring the model's generalization capability is accurately assessed.\n",
    "\n",
    "Overall, the model demonstrates robust performance with the 70-30 split, balancing training efficiency and predictive accuracy effectively."
   ]
  },
  {
   "cell_type": "markdown",
   "id": "0b4bf319",
   "metadata": {},
   "source": [
    "#### What is the effect of increasing the number of hidden layers to (256, 128, 64, 32)?"
   ]
  },
  {
   "cell_type": "code",
   "execution_count": 45,
   "id": "41b12eba",
   "metadata": {},
   "outputs": [
    {
     "name": "stdout",
     "output_type": "stream",
     "text": [
      "Training Time: 298.28 seconds\n",
      "Test Mean Squared Error: 0.2922\n"
     ]
    }
   ],
   "source": [
    "model_ = MLPRegressor(hidden_layer_sizes=(256, 128, 64, 32),\n",
    "                     activation='relu',\n",
    "                     solver='adam',\n",
    "                     max_iter=300,\n",
    "                     random_state=42)\n",
    "\n",
    "\n",
    "# Train the model\n",
    "start_time = time.time()\n",
    "model_.fit(X_train, y_train)\n",
    "training_time = time.time() - start_time\n",
    "\n",
    "# Evaluate the model\n",
    "y_pred = model_.predict(X_test)\n",
    "mse = mean_squared_error(y_test, y_pred)\n",
    "\n",
    "# Output the results\n",
    "print(f\"Training Time: {training_time:.2f} seconds\")\n",
    "print(f\"Test Mean Squared Error: {mse:.4f}\")"
   ]
  },
  {
   "cell_type": "markdown",
   "id": "8fa809ca",
   "metadata": {},
   "source": [
    "Increasing the number of hidden layers in the neural network to a configuration of (256, 128, 64, 32) resulted in a training time of approximately 298.28 seconds and a test Mean Squared Error (MSE) of 0.2922. This deeper architecture enhances the model's capacity to learn complex patterns within the data. However, it's important to note that:\n",
    "\n",
    "- Training Time: The extended training duration is a direct consequence of the increased number of parameters and computations required in a deeper network.\n",
    "\n",
    "- Model Performance: While the deeper model has a higher capacity to fit the training data, it doesn't necessarily translate to improved performance on unseen data. The slight increase in MSE suggests that the added complexity may not provide significant benefits for this particular task."
   ]
  },
  {
   "cell_type": "markdown",
   "id": "201ba77f",
   "metadata": {},
   "source": []
  },
  {
   "cell_type": "markdown",
   "id": "13b3ee85",
   "metadata": {},
   "source": [
    "### **Task 03: Image Classification with MLP**"
   ]
  },
  {
   "cell_type": "code",
   "execution_count": null,
   "id": "cd9cf96d",
   "metadata": {},
   "outputs": [],
   "source": [
    "from sklearn.datasets import fetch_openml\n",
    "from sklearn.metrics import classification_report, confusion_matrix"
   ]
  },
  {
   "cell_type": "code",
   "execution_count": 47,
   "id": "b0c3434a",
   "metadata": {},
   "outputs": [
    {
     "name": "stderr",
     "output_type": "stream",
     "text": [
      "f:\\Python\\lib\\site-packages\\sklearn\\datasets\\_openml.py:1002: FutureWarning: The default value of `parser` will change from `'liac-arff'` to `'auto'` in 1.4. You can set `parser='auto'` to silence this warning. Therefore, an `ImportError` will be raised from 1.4 if the dataset is dense and pandas is not installed. Note that the pandas parser may return different data types. See the Notes Section in fetch_openml's API doc for details.\n",
      "  warn(\n"
     ]
    }
   ],
   "source": [
    "# 1. Load the MNIST dataset\n",
    "mnist = fetch_openml('mnist_784', version=1, as_frame=False)\n",
    "X, y = mnist.data, mnist.target.astype(int)"
   ]
  },
  {
   "cell_type": "code",
   "execution_count": 48,
   "id": "9aff7324",
   "metadata": {},
   "outputs": [],
   "source": [
    "# 2. Filter the dataset to include only digits 0 and 1\n",
    "mask = (y == 0) | (y == 1)\n",
    "X_binary = X[mask]\n",
    "y_binary = y[mask]"
   ]
  },
  {
   "cell_type": "code",
   "execution_count": 49,
   "id": "a90f5e78",
   "metadata": {},
   "outputs": [],
   "source": [
    "# 4. Split the data into 80% training and 20% testing sets\n",
    "X_train, X_test, y_train, y_test = train_test_split(\n",
    "    X_binary, y_binary, test_size=0.2, random_state=42, stratify=y_binary\n",
    ")"
   ]
  },
  {
   "cell_type": "code",
   "execution_count": null,
   "id": "52ad401b",
   "metadata": {},
   "outputs": [],
   "source": [
    "# 5. Create and train the MLPClassifier\n",
    "mlp = MLPClassifier(\n",
    "    hidden_layer_sizes=(256, 128, 64),\n",
    "    activation='relu',\n",
    "    solver='sgd',\n",
    "    learning_rate_init=0.01,\n",
    "    max_iter=300,\n",
    "    random_state=42\n",
    ")"
   ]
  },
  {
   "cell_type": "code",
   "execution_count": 51,
   "id": "9a78513b",
   "metadata": {},
   "outputs": [
    {
     "data": {
      "text/html": [
       "<style>#sk-container-id-5 {color: black;}#sk-container-id-5 pre{padding: 0;}#sk-container-id-5 div.sk-toggleable {background-color: white;}#sk-container-id-5 label.sk-toggleable__label {cursor: pointer;display: block;width: 100%;margin-bottom: 0;padding: 0.3em;box-sizing: border-box;text-align: center;}#sk-container-id-5 label.sk-toggleable__label-arrow:before {content: \"▸\";float: left;margin-right: 0.25em;color: #696969;}#sk-container-id-5 label.sk-toggleable__label-arrow:hover:before {color: black;}#sk-container-id-5 div.sk-estimator:hover label.sk-toggleable__label-arrow:before {color: black;}#sk-container-id-5 div.sk-toggleable__content {max-height: 0;max-width: 0;overflow: hidden;text-align: left;background-color: #f0f8ff;}#sk-container-id-5 div.sk-toggleable__content pre {margin: 0.2em;color: black;border-radius: 0.25em;background-color: #f0f8ff;}#sk-container-id-5 input.sk-toggleable__control:checked~div.sk-toggleable__content {max-height: 200px;max-width: 100%;overflow: auto;}#sk-container-id-5 input.sk-toggleable__control:checked~label.sk-toggleable__label-arrow:before {content: \"▾\";}#sk-container-id-5 div.sk-estimator input.sk-toggleable__control:checked~label.sk-toggleable__label {background-color: #d4ebff;}#sk-container-id-5 div.sk-label input.sk-toggleable__control:checked~label.sk-toggleable__label {background-color: #d4ebff;}#sk-container-id-5 input.sk-hidden--visually {border: 0;clip: rect(1px 1px 1px 1px);clip: rect(1px, 1px, 1px, 1px);height: 1px;margin: -1px;overflow: hidden;padding: 0;position: absolute;width: 1px;}#sk-container-id-5 div.sk-estimator {font-family: monospace;background-color: #f0f8ff;border: 1px dotted black;border-radius: 0.25em;box-sizing: border-box;margin-bottom: 0.5em;}#sk-container-id-5 div.sk-estimator:hover {background-color: #d4ebff;}#sk-container-id-5 div.sk-parallel-item::after {content: \"\";width: 100%;border-bottom: 1px solid gray;flex-grow: 1;}#sk-container-id-5 div.sk-label:hover label.sk-toggleable__label {background-color: #d4ebff;}#sk-container-id-5 div.sk-serial::before {content: \"\";position: absolute;border-left: 1px solid gray;box-sizing: border-box;top: 0;bottom: 0;left: 50%;z-index: 0;}#sk-container-id-5 div.sk-serial {display: flex;flex-direction: column;align-items: center;background-color: white;padding-right: 0.2em;padding-left: 0.2em;position: relative;}#sk-container-id-5 div.sk-item {position: relative;z-index: 1;}#sk-container-id-5 div.sk-parallel {display: flex;align-items: stretch;justify-content: center;background-color: white;position: relative;}#sk-container-id-5 div.sk-item::before, #sk-container-id-5 div.sk-parallel-item::before {content: \"\";position: absolute;border-left: 1px solid gray;box-sizing: border-box;top: 0;bottom: 0;left: 50%;z-index: -1;}#sk-container-id-5 div.sk-parallel-item {display: flex;flex-direction: column;z-index: 1;position: relative;background-color: white;}#sk-container-id-5 div.sk-parallel-item:first-child::after {align-self: flex-end;width: 50%;}#sk-container-id-5 div.sk-parallel-item:last-child::after {align-self: flex-start;width: 50%;}#sk-container-id-5 div.sk-parallel-item:only-child::after {width: 0;}#sk-container-id-5 div.sk-dashed-wrapped {border: 1px dashed gray;margin: 0 0.4em 0.5em 0.4em;box-sizing: border-box;padding-bottom: 0.4em;background-color: white;}#sk-container-id-5 div.sk-label label {font-family: monospace;font-weight: bold;display: inline-block;line-height: 1.2em;}#sk-container-id-5 div.sk-label-container {text-align: center;}#sk-container-id-5 div.sk-container {/* jupyter's `normalize.less` sets `[hidden] { display: none; }` but bootstrap.min.css set `[hidden] { display: none !important; }` so we also need the `!important` here to be able to override the default hidden behavior on the sphinx rendered scikit-learn.org. See: https://github.com/scikit-learn/scikit-learn/issues/21755 */display: inline-block !important;position: relative;}#sk-container-id-5 div.sk-text-repr-fallback {display: none;}</style><div id=\"sk-container-id-5\" class=\"sk-top-container\"><div class=\"sk-text-repr-fallback\"><pre>MLPClassifier(hidden_layer_sizes=(256, 128, 64), learning_rate_init=0.01,\n",
       "              max_iter=300, random_state=42, solver=&#x27;sgd&#x27;)</pre><b>In a Jupyter environment, please rerun this cell to show the HTML representation or trust the notebook. <br />On GitHub, the HTML representation is unable to render, please try loading this page with nbviewer.org.</b></div><div class=\"sk-container\" hidden><div class=\"sk-item\"><div class=\"sk-estimator sk-toggleable\"><input class=\"sk-toggleable__control sk-hidden--visually\" id=\"sk-estimator-id-5\" type=\"checkbox\" checked><label for=\"sk-estimator-id-5\" class=\"sk-toggleable__label sk-toggleable__label-arrow\">MLPClassifier</label><div class=\"sk-toggleable__content\"><pre>MLPClassifier(hidden_layer_sizes=(256, 128, 64), learning_rate_init=0.01,\n",
       "              max_iter=300, random_state=42, solver=&#x27;sgd&#x27;)</pre></div></div></div></div></div>"
      ],
      "text/plain": [
       "MLPClassifier(hidden_layer_sizes=(256, 128, 64), learning_rate_init=0.01,\n",
       "              max_iter=300, random_state=42, solver='sgd')"
      ]
     },
     "execution_count": 51,
     "metadata": {},
     "output_type": "execute_result"
    }
   ],
   "source": [
    "mlp.fit(X_train, y_train)"
   ]
  },
  {
   "cell_type": "code",
   "execution_count": 52,
   "id": "426de5d7",
   "metadata": {},
   "outputs": [
    {
     "name": "stdout",
     "output_type": "stream",
     "text": [
      "Confusion Matrix:\n",
      "[[   0 1381]\n",
      " [   0 1575]]\n",
      "\n",
      "Classification Report:\n",
      "              precision    recall  f1-score   support\n",
      "\n",
      "           0       0.00      0.00      0.00      1381\n",
      "           1       0.53      1.00      0.70      1575\n",
      "\n",
      "    accuracy                           0.53      2956\n",
      "   macro avg       0.27      0.50      0.35      2956\n",
      "weighted avg       0.28      0.53      0.37      2956\n",
      "\n"
     ]
    },
    {
     "name": "stderr",
     "output_type": "stream",
     "text": [
      "f:\\Python\\lib\\site-packages\\sklearn\\metrics\\_classification.py:1469: UndefinedMetricWarning: Precision and F-score are ill-defined and being set to 0.0 in labels with no predicted samples. Use `zero_division` parameter to control this behavior.\n",
      "  _warn_prf(average, modifier, msg_start, len(result))\n",
      "f:\\Python\\lib\\site-packages\\sklearn\\metrics\\_classification.py:1469: UndefinedMetricWarning: Precision and F-score are ill-defined and being set to 0.0 in labels with no predicted samples. Use `zero_division` parameter to control this behavior.\n",
      "  _warn_prf(average, modifier, msg_start, len(result))\n",
      "f:\\Python\\lib\\site-packages\\sklearn\\metrics\\_classification.py:1469: UndefinedMetricWarning: Precision and F-score are ill-defined and being set to 0.0 in labels with no predicted samples. Use `zero_division` parameter to control this behavior.\n",
      "  _warn_prf(average, modifier, msg_start, len(result))\n"
     ]
    }
   ],
   "source": [
    "# 6. Evaluate the model\n",
    "y_pred = mlp.predict(X_test)\n",
    "print(\"Confusion Matrix:\")\n",
    "print(confusion_matrix(y_test, y_pred))\n",
    "print(\"\\nClassification Report:\")\n",
    "print(classification_report(y_test, y_pred))"
   ]
  },
  {
   "cell_type": "markdown",
   "id": "3ce4bd3d",
   "metadata": {},
   "source": [
    "### **Questions:**"
   ]
  },
  {
   "cell_type": "markdown",
   "id": "e447fb94",
   "metadata": {},
   "source": [
    "#### What is the accuracy of the test set?\n",
    "\n",
    "- The test set accuracy achieved by the MLPClassifier in your binary classification task (digits 0 vs. 1) is approximately 53%. This performance is notably low, especially considering that binary classification tasks on the MNIST dataset typically achieve accuracies exceeding 95% with appropriate configurations.\n",
    "\n",
    "- The confusion matrix indicates that the model predicted all test samples as class '1', failing to identify any instances of class '0'. This suggests a significant issue with the model's learning process."
   ]
  },
  {
   "cell_type": "markdown",
   "id": "159a32a7",
   "metadata": {},
   "source": [
    "#### How does the choice of activation function affect performance?\n",
    "\n",
    "- The choice of activation function impacts neural network performance, affecting learning, training efficiency, and accuracy. Using ReLU, your model predicted all test samples as class '1', yielding ~53% accuracy, possibly due to \"dying ReLU\" from improper initialization, high learning rates, or unnormalized data. Alternatives like tanh or sigmoid may help by providing smoother gradients, though they risk vanishing gradients in deep networks. Experimentation is crucial to select the best activation function for your task."
   ]
  },
  {
   "cell_type": "markdown",
   "id": "cef65de4",
   "metadata": {},
   "source": [
    "#### What happens to the classification performance if dropout is added to the model?\n",
    "\n",
    "- Adding dropout to a neural network can enhance its generalization by preventing overfitting, as it randomly deactivates neurons during training. This encourages the model to learn more robust features, potentially improving performance on unseen data. However, dropout may slow down training convergence and requires careful tuning; excessive dropout can lead to underfitting, while insufficient dropout might not effectively mitigate overfitting. Therefore, selecting an appropriate dropout rate is crucial to balance training efficiency and model generalization."
   ]
  },
  {
   "cell_type": "markdown",
   "id": "2df868fd",
   "metadata": {},
   "source": [
    "#### How does increasing the training data size to 90% impact the test accuracy?"
   ]
  },
  {
   "cell_type": "code",
   "execution_count": 54,
   "id": "d12a0294",
   "metadata": {},
   "outputs": [
    {
     "name": "stdout",
     "output_type": "stream",
     "text": [
      "Training Time: 13.01 seconds\n",
      "Test Accuracy: 0.5332\n",
      "Confusion Matrix:\n",
      "[[  0 690]\n",
      " [  0 788]]\n",
      "Classification Report:\n",
      "              precision    recall  f1-score   support\n",
      "\n",
      "           0       0.00      0.00      0.00       690\n",
      "           1       0.53      1.00      0.70       788\n",
      "\n",
      "    accuracy                           0.53      1478\n",
      "   macro avg       0.27      0.50      0.35      1478\n",
      "weighted avg       0.28      0.53      0.37      1478\n",
      "\n"
     ]
    },
    {
     "name": "stderr",
     "output_type": "stream",
     "text": [
      "f:\\Python\\lib\\site-packages\\sklearn\\metrics\\_classification.py:1469: UndefinedMetricWarning: Precision and F-score are ill-defined and being set to 0.0 in labels with no predicted samples. Use `zero_division` parameter to control this behavior.\n",
      "  _warn_prf(average, modifier, msg_start, len(result))\n",
      "f:\\Python\\lib\\site-packages\\sklearn\\metrics\\_classification.py:1469: UndefinedMetricWarning: Precision and F-score are ill-defined and being set to 0.0 in labels with no predicted samples. Use `zero_division` parameter to control this behavior.\n",
      "  _warn_prf(average, modifier, msg_start, len(result))\n",
      "f:\\Python\\lib\\site-packages\\sklearn\\metrics\\_classification.py:1469: UndefinedMetricWarning: Precision and F-score are ill-defined and being set to 0.0 in labels with no predicted samples. Use `zero_division` parameter to control this behavior.\n",
      "  _warn_prf(average, modifier, msg_start, len(result))\n"
     ]
    }
   ],
   "source": [
    "# Split the data: 90% training, 10% testing\n",
    "X_train, X_test, y_train, y_test = train_test_split(\n",
    "    X_binary, y_binary, test_size=0.1, random_state=42, stratify=y_binary\n",
    ")\n",
    "\n",
    "# Initialize the MLPClassifier\n",
    "mlp = MLPClassifier(hidden_layer_sizes=(256, 128, 64),\n",
    "                    activation='relu',\n",
    "                    solver='sgd',\n",
    "                    learning_rate_init=0.01,\n",
    "                    max_iter=100,\n",
    "                    random_state=42)\n",
    "\n",
    "# Train the model\n",
    "start_time = time.time()\n",
    "mlp.fit(X_train, y_train)\n",
    "training_time = time.time() - start_time\n",
    "\n",
    "# Predict on the test set\n",
    "y_pred = mlp.predict(X_test)\n",
    "\n",
    "# Evaluate the model\n",
    "accuracy = accuracy_score(y_test, y_pred)\n",
    "conf_matrix = confusion_matrix(y_test, y_pred)\n",
    "class_report = classification_report(y_test, y_pred)\n",
    "\n",
    "# Output the results\n",
    "print(f\"Training Time: {training_time:.2f} seconds\")\n",
    "print(f\"Test Accuracy: {accuracy:.4f}\")\n",
    "print(\"Confusion Matrix:\")\n",
    "print(conf_matrix)\n",
    "print(\"Classification Report:\")\n",
    "print(class_report)"
   ]
  },
  {
   "cell_type": "markdown",
   "id": "d34646fc",
   "metadata": {},
   "source": [
    "- Increasing the training data size to 90% did not lead to an improvement in test accuracy in this particular case. The model achieved an accuracy of approximately 53.32%, which is similar to the results observed with a smaller training set. The confusion matrix reveals that the model failed to correctly classify any of the digit '0' instances and predicted all test samples as digit '1'. This is further confirmed by the classification report, which shows a precision, recall, and F1-score of 0.00 for class '0'.\n",
    "\n",
    "- This outcome suggests that the model has developed a strong bias toward one class, likely due to issues such as class imbalance, insufficient model complexity, or inappropriate learning dynamics (e.g., learning rate, solver). While increasing training data typically helps models generalize better, in this case, the underlying learning issues prevent the model from benefiting from the additional data. Therefore, simply increasing training size without addressing these limitations did not improve performance."
   ]
  },
  {
   "cell_type": "markdown",
   "id": "a75f08e8",
   "metadata": {},
   "source": [
    "#### What do the misclassified samples indicate about the model's weaknesses?\n",
    "\n",
    "- The fact that every “0” was misclassified as “1” shows the model is heavily biased toward the majority class and isn’t learning the features that distinguish zeros from ones. This likely stems from class imbalance, inadequate feature discrimination, and possibly overfitting without regularization. To fix this, you’d balance the classes, improve feature learning (or model complexity), and add techniques like dropout to help the network generalize."
   ]
  },
  {
   "cell_type": "markdown",
   "id": "cf11d325",
   "metadata": {},
   "source": []
  },
  {
   "cell_type": "markdown",
   "id": "ba002ac9",
   "metadata": {},
   "source": [
    "### **Task 04: Hyperparameter Tuning**"
   ]
  },
  {
   "cell_type": "code",
   "execution_count": 10,
   "id": "093161d7",
   "metadata": {},
   "outputs": [],
   "source": [
    "from sklearn.datasets import fetch_california_housing\n",
    "from sklearn.model_selection import train_test_split, GridSearchCV, cross_val_score\n",
    "from sklearn.preprocessing import StandardScaler\n",
    "from sklearn.neural_network import MLPRegressor\n",
    "from sklearn.pipeline import Pipeline\n",
    "import pandas as pd\n",
    "import time"
   ]
  },
  {
   "cell_type": "code",
   "execution_count": 2,
   "id": "566aa686",
   "metadata": {},
   "outputs": [],
   "source": [
    "# Load dataset\n",
    "data = fetch_california_housing()\n",
    "X, y = data.data, data.target"
   ]
  },
  {
   "cell_type": "code",
   "execution_count": 3,
   "id": "55da2a2e",
   "metadata": {},
   "outputs": [],
   "source": [
    "# Train-test split\n",
    "X_train, X_test, y_train, y_test = train_test_split(X, y, test_size=0.2, random_state=42)"
   ]
  },
  {
   "cell_type": "code",
   "execution_count": 4,
   "id": "c370e268",
   "metadata": {},
   "outputs": [],
   "source": [
    "# Define pipeline\n",
    "pipeline = Pipeline([\n",
    "    ('scaler', StandardScaler()),\n",
    "    ('mlp', MLPRegressor(max_iter=200, random_state=42))\n",
    "])"
   ]
  },
  {
   "cell_type": "code",
   "execution_count": 5,
   "id": "85b3aa01",
   "metadata": {},
   "outputs": [],
   "source": [
    "# Define hyperparameter grid\n",
    "param_grid = {\n",
    "    'mlp__hidden_layer_sizes': [(128, 64), (256, 128, 64)],\n",
    "    'mlp__activation': ['relu', 'tanh'],\n",
    "    'mlp__solver': ['adam', 'sgd']\n",
    "}"
   ]
  },
  {
   "cell_type": "code",
   "execution_count": 6,
   "id": "af611128",
   "metadata": {},
   "outputs": [
    {
     "name": "stderr",
     "output_type": "stream",
     "text": [
      "f:\\Python\\lib\\site-packages\\sklearn\\neural_network\\_multilayer_perceptron.py:691: ConvergenceWarning: Stochastic Optimizer: Maximum iterations (200) reached and the optimization hasn't converged yet.\n",
      "  warnings.warn(\n"
     ]
    }
   ],
   "source": [
    "# Run GridSearchCV\n",
    "start_time = time.time()\n",
    "grid_search = GridSearchCV(pipeline, param_grid, cv=5, scoring='neg_mean_squared_error', n_jobs=-1)\n",
    "grid_search.fit(X_train, y_train)\n",
    "end_time = time.time()"
   ]
  },
  {
   "cell_type": "code",
   "execution_count": 9,
   "id": "2cbcfb68",
   "metadata": {},
   "outputs": [
    {
     "name": "stdout",
     "output_type": "stream",
     "text": [
      "Best Parameters: {'mlp__activation': 'tanh', 'mlp__hidden_layer_sizes': (128, 64), 'mlp__solver': 'adam'}\n",
      "Best MSE Score: 0.2662369793698506\n",
      "Time Taken: 1013.54 seconds\n",
      "                                                                                          params  \\\n",
      "4       {'mlp__activation': 'tanh', 'mlp__hidden_layer_sizes': (128, 64), 'mlp__solver': 'adam'}   \n",
      "0       {'mlp__activation': 'relu', 'mlp__hidden_layer_sizes': (128, 64), 'mlp__solver': 'adam'}   \n",
      "6  {'mlp__activation': 'tanh', 'mlp__hidden_layer_sizes': (256, 128, 64), 'mlp__solver': 'adam'}   \n",
      "3   {'mlp__activation': 'relu', 'mlp__hidden_layer_sizes': (256, 128, 64), 'mlp__solver': 'sgd'}   \n",
      "2  {'mlp__activation': 'relu', 'mlp__hidden_layer_sizes': (256, 128, 64), 'mlp__solver': 'adam'}   \n",
      "1        {'mlp__activation': 'relu', 'mlp__hidden_layer_sizes': (128, 64), 'mlp__solver': 'sgd'}   \n",
      "7   {'mlp__activation': 'tanh', 'mlp__hidden_layer_sizes': (256, 128, 64), 'mlp__solver': 'sgd'}   \n",
      "5        {'mlp__activation': 'tanh', 'mlp__hidden_layer_sizes': (128, 64), 'mlp__solver': 'sgd'}   \n",
      "\n",
      "   mean_test_score  \n",
      "4        -0.266237  \n",
      "0        -0.272672  \n",
      "6        -0.278401  \n",
      "3        -0.290519  \n",
      "2        -0.293487  \n",
      "1        -0.315698  \n",
      "7        -0.326259  \n",
      "5        -0.375476  \n"
     ]
    }
   ],
   "source": [
    "# Output results\n",
    "print(\"Best Parameters:\", grid_search.best_params_)\n",
    "print(\"Best MSE Score:\", -grid_search.best_score_)\n",
    "print(\"Time Taken: {:.2f} seconds\".format(end_time - start_time))\n",
    "\n",
    "# Show all results\n",
    "pd.set_option('display.max_colwidth', None)\n",
    "results_df = pd.DataFrame(grid_search.cv_results_)\n",
    "print(results_df[['params', 'mean_test_score']].sort_values(by='mean_test_score', ascending=False))"
   ]
  },
  {
   "cell_type": "code",
   "execution_count": 11,
   "id": "c40b9916",
   "metadata": {},
   "outputs": [
    {
     "name": "stderr",
     "output_type": "stream",
     "text": [
      "f:\\Python\\lib\\site-packages\\sklearn\\neural_network\\_multilayer_perceptron.py:691: ConvergenceWarning: Stochastic Optimizer: Maximum iterations (200) reached and the optimization hasn't converged yet.\n",
      "  warnings.warn(\n",
      "f:\\Python\\lib\\site-packages\\sklearn\\neural_network\\_multilayer_perceptron.py:691: ConvergenceWarning: Stochastic Optimizer: Maximum iterations (200) reached and the optimization hasn't converged yet.\n",
      "  warnings.warn(\n"
     ]
    }
   ],
   "source": [
    "# Perform cross-validation\n",
    "scores = cross_val_score(pipeline, X_train, y_train, scoring='neg_mean_squared_error', cv=5)"
   ]
  },
  {
   "cell_type": "code",
   "execution_count": 12,
   "id": "3da3c661",
   "metadata": {},
   "outputs": [
    {
     "name": "stdout",
     "output_type": "stream",
     "text": [
      "Cross-Validation MSE Scores: [0.30761485 0.27595472 0.32713103 0.28231617 0.3280743 ]\n"
     ]
    }
   ],
   "source": [
    "print(\"Cross-Validation MSE Scores:\", -scores)"
   ]
  },
  {
   "cell_type": "markdown",
   "id": "c5500dc3",
   "metadata": {},
   "source": [
    "### **Questions:**"
   ]
  },
  {
   "cell_type": "markdown",
   "id": "c3fcf12c",
   "metadata": {},
   "source": [
    "#### Which configuration gives the best performance?\n",
    "\n",
    "- The configuration that gives the best performance is the one with activation function tanh, hidden layer sizes (128, 64), and solver adam. This combination achieved the lowest mean squared error (MSE) score of 0.2662, indicating the most accurate predictions among all tested configurations. It outperformed other setups, including those with deeper networks or different activation functions and solvers, making it the optimal choice based on cross-validation results."
   ]
  },
  {
   "cell_type": "markdown",
   "id": "c85ff344",
   "metadata": {},
   "source": [
    "#### How does solver choice impact training speed and accuracy?\n",
    "\n",
    "Adam Solver:\n",
    "- The adam optimizer, which combines the advantages of AdaGrad and RMSProp, adapts learning rates for each parameter. This adaptability often leads to faster convergence and better performance on large datasets. In your tuning results, the configuration with adam, tanh activation, and hidden layers of (128, 64) achieved the best performance, with a mean squared error (MSE) of 0.2662. This suggests that adam is effective for the California Housing dataset, providing a good balance between training speed and accuracy.\n",
    "\n",
    "SGD Solver:\n",
    "- Stochastic Gradient Descent (sgd) updates parameters using the gradient of the loss function with respect to each parameter. While sgd can be faster per iteration due to its simplicity, it often requires careful tuning of the learning rate and may converge more slowly. In your experiments, configurations using sgd generally resulted in higher MSE scores compared to those using adam, indicating lower predictive accuracy.\n",
    "\n",
    "Conclusion:\n",
    "- For the California Housing Prices dataset, adam outperforms sgd in terms of both training speed and accuracy. Its adaptive learning rates and efficient convergence make it a suitable choice for this regression task. However, it's important to note that the optimal solver can vary depending on the specific characteristics of the dataset and the problem at hand."
   ]
  },
  {
   "cell_type": "markdown",
   "id": "ee2cff93",
   "metadata": {},
   "source": [
    "#### What happens to the best configuration if the activation function is set to logistic?"
   ]
  },
  {
   "cell_type": "code",
   "execution_count": 14,
   "id": "53b09bcc",
   "metadata": {},
   "outputs": [
    {
     "name": "stderr",
     "output_type": "stream",
     "text": [
      "f:\\Python\\lib\\site-packages\\sklearn\\neural_network\\_multilayer_perceptron.py:691: ConvergenceWarning: Stochastic Optimizer: Maximum iterations (200) reached and the optimization hasn't converged yet.\n",
      "  warnings.warn(\n",
      "f:\\Python\\lib\\site-packages\\sklearn\\neural_network\\_multilayer_perceptron.py:691: ConvergenceWarning: Stochastic Optimizer: Maximum iterations (200) reached and the optimization hasn't converged yet.\n",
      "  warnings.warn(\n",
      "f:\\Python\\lib\\site-packages\\sklearn\\neural_network\\_multilayer_perceptron.py:691: ConvergenceWarning: Stochastic Optimizer: Maximum iterations (200) reached and the optimization hasn't converged yet.\n",
      "  warnings.warn(\n",
      "f:\\Python\\lib\\site-packages\\sklearn\\neural_network\\_multilayer_perceptron.py:691: ConvergenceWarning: Stochastic Optimizer: Maximum iterations (200) reached and the optimization hasn't converged yet.\n",
      "  warnings.warn(\n"
     ]
    },
    {
     "name": "stdout",
     "output_type": "stream",
     "text": [
      "Mean MSE with logistic activation: 0.3294191931562107\n",
      "Cross-validation scores: [0.34079192 0.3190816  0.31502797 0.3105061  0.36168838]\n"
     ]
    },
    {
     "name": "stderr",
     "output_type": "stream",
     "text": [
      "f:\\Python\\lib\\site-packages\\sklearn\\neural_network\\_multilayer_perceptron.py:691: ConvergenceWarning: Stochastic Optimizer: Maximum iterations (200) reached and the optimization hasn't converged yet.\n",
      "  warnings.warn(\n"
     ]
    }
   ],
   "source": [
    "from sklearn.datasets import fetch_california_housing\n",
    "from sklearn.model_selection import train_test_split, cross_val_score\n",
    "from sklearn.neural_network import MLPRegressor\n",
    "from sklearn.preprocessing import StandardScaler\n",
    "from sklearn.pipeline import Pipeline\n",
    "import numpy as np\n",
    "\n",
    "# Load the California Housing dataset\n",
    "data = fetch_california_housing()\n",
    "X, y = data.data, data.target\n",
    "\n",
    "# Split into training and testing sets\n",
    "X_train, X_test, y_train, y_test = train_test_split(X, y, test_size=0.2, random_state=42)\n",
    "\n",
    "# Define the pipeline with StandardScaler and MLPRegressor using 'logistic' activation\n",
    "pipeline = Pipeline([\n",
    "    ('scaler', StandardScaler()),\n",
    "    ('mlp', MLPRegressor(hidden_layer_sizes=(128, 64),\n",
    "                         activation='logistic',\n",
    "                         solver='adam',\n",
    "                         max_iter=200,\n",
    "                         random_state=42))\n",
    "])\n",
    "\n",
    "# Perform cross-validation\n",
    "scores = cross_val_score(pipeline, X_train, y_train, scoring='neg_mean_squared_error', cv=5)\n",
    "\n",
    "# Output the results\n",
    "print(\"Mean MSE with logistic activation:\", -np.mean(scores))\n",
    "print(\"Cross-validation scores:\", -scores)\n"
   ]
  },
  {
   "cell_type": "markdown",
   "id": "c9616d93",
   "metadata": {},
   "source": [
    "- Switching the activation function to 'logistic' in the best-performing MLPRegressor configuration (which originally used 'tanh') led to a noticeable decline in performance and training efficiency. The mean cross-validation Mean Squared Error (MSE) increased from approximately 0.266 to 0.329, indicating reduced predictive accuracy. Additionally, convergence warnings were triggered, suggesting that the model did not fully converge within the set 200 iterations.\n",
    "\n",
    "- This outcome aligns with the known characteristics of the logistic (sigmoid) activation function. Unlike 'tanh', which outputs values between -1 and 1 and is zero-centered, 'logistic' outputs between 0 and 1 and is not zero-centered. This can lead to issues such as vanishing gradients, especially in deeper networks, resulting in slower convergence and potentially suboptimal model performance. Therefore, in this context, retaining the 'tanh' activation function is advisable for better training efficiency and predictive accuracy."
   ]
  },
  {
   "cell_type": "markdown",
   "id": "aa5aad7e",
   "metadata": {},
   "source": [
    "#### How does increasing the maximum number of iterations to 500 affect performance?"
   ]
  },
  {
   "cell_type": "code",
   "execution_count": 15,
   "id": "3fdbc8ca",
   "metadata": {},
   "outputs": [
    {
     "name": "stderr",
     "output_type": "stream",
     "text": [
      "f:\\Python\\lib\\site-packages\\sklearn\\neural_network\\_multilayer_perceptron.py:691: ConvergenceWarning: Stochastic Optimizer: Maximum iterations (500) reached and the optimization hasn't converged yet.\n",
      "  warnings.warn(\n",
      "f:\\Python\\lib\\site-packages\\sklearn\\neural_network\\_multilayer_perceptron.py:691: ConvergenceWarning: Stochastic Optimizer: Maximum iterations (500) reached and the optimization hasn't converged yet.\n",
      "  warnings.warn(\n"
     ]
    },
    {
     "name": "stdout",
     "output_type": "stream",
     "text": [
      "Mean MSE with logistic activation and max_iter=500: 0.27635510365706795\n",
      "Cross-validation scores: [0.27835606 0.27140814 0.27611925 0.26446604 0.29142603]\n"
     ]
    }
   ],
   "source": [
    "from sklearn.datasets import fetch_california_housing\n",
    "from sklearn.model_selection import train_test_split, cross_val_score\n",
    "from sklearn.neural_network import MLPRegressor\n",
    "from sklearn.preprocessing import StandardScaler\n",
    "from sklearn.pipeline import Pipeline\n",
    "import numpy as np\n",
    "\n",
    "# Load the California Housing dataset\n",
    "data = fetch_california_housing()\n",
    "X, y = data.data, data.target\n",
    "\n",
    "# Split into training and testing sets\n",
    "X_train, X_test, y_train, y_test = train_test_split(X, y, test_size=0.2, random_state=42)\n",
    "\n",
    "# Define the pipeline with StandardScaler and MLPRegressor using increased max_iter\n",
    "pipeline = Pipeline([\n",
    "    ('scaler', StandardScaler()),\n",
    "    ('mlp', MLPRegressor(hidden_layer_sizes=(128, 64),\n",
    "                         activation='logistic',\n",
    "                         solver='adam',\n",
    "                         max_iter=500,\n",
    "                         random_state=42))\n",
    "])\n",
    "\n",
    "# Perform cross-validation\n",
    "scores = cross_val_score(pipeline, X_train, y_train, scoring='neg_mean_squared_error', cv=5)\n",
    "\n",
    "# Output the results\n",
    "print(\"Mean MSE with logistic activation and max_iter=500:\", -np.mean(scores))\n",
    "print(\"Cross-validation scores:\", -scores)\n"
   ]
  },
  {
   "cell_type": "markdown",
   "id": "08bf199a",
   "metadata": {},
   "source": [
    "- Increasing the max_iter parameter from 200 to 500 in the MLPRegressor with the 'logistic' activation function led to a modest improvement in performance. The mean cross-validation Mean Squared Error (MSE) decreased from approximately 0.329 to 0.276, indicating better predictive accuracy. However, convergence warnings persisted, suggesting that even with more iterations, the optimizer hadn't fully converged.\n",
    "\n",
    "- This outcome aligns with the characteristics of the 'logistic' activation function, which can lead to slower convergence due to issues like vanishing gradients. While increasing max_iter provided the model with more opportunities to minimize the loss function, it also resulted in longer training times. Therefore, while performance improved, the trade-off between training time and convergence should be considered.\n",
    "\n",
    "- In practice, using activation functions like 'tanh' or 'relu' may offer better convergence properties and faster training times. Additionally, implementing techniques such as early stopping or adjusting the learning rate could further enhance model performance and training efficiency.\n"
   ]
  },
  {
   "cell_type": "markdown",
   "id": "351edda1",
   "metadata": {},
   "source": [
    "#### What is the impact of using a 3-fold cross-validation instead of a 5-fold?"
   ]
  },
  {
   "cell_type": "code",
   "execution_count": 16,
   "id": "f060bdca",
   "metadata": {},
   "outputs": [
    {
     "name": "stderr",
     "output_type": "stream",
     "text": [
      "f:\\Python\\lib\\site-packages\\sklearn\\neural_network\\_multilayer_perceptron.py:691: ConvergenceWarning: Stochastic Optimizer: Maximum iterations (200) reached and the optimization hasn't converged yet.\n",
      "  warnings.warn(\n",
      "f:\\Python\\lib\\site-packages\\sklearn\\neural_network\\_multilayer_perceptron.py:691: ConvergenceWarning: Stochastic Optimizer: Maximum iterations (200) reached and the optimization hasn't converged yet.\n",
      "  warnings.warn(\n",
      "f:\\Python\\lib\\site-packages\\sklearn\\neural_network\\_multilayer_perceptron.py:691: ConvergenceWarning: Stochastic Optimizer: Maximum iterations (200) reached and the optimization hasn't converged yet.\n",
      "  warnings.warn(\n"
     ]
    },
    {
     "name": "stdout",
     "output_type": "stream",
     "text": [
      "3-Fold CV Mean MSE: 0.4360935406325452\n",
      "3-Fold CV Scores: [0.39989306 0.35124376 0.5571438 ]\n"
     ]
    },
    {
     "name": "stderr",
     "output_type": "stream",
     "text": [
      "f:\\Python\\lib\\site-packages\\sklearn\\neural_network\\_multilayer_perceptron.py:691: ConvergenceWarning: Stochastic Optimizer: Maximum iterations (200) reached and the optimization hasn't converged yet.\n",
      "  warnings.warn(\n",
      "f:\\Python\\lib\\site-packages\\sklearn\\neural_network\\_multilayer_perceptron.py:691: ConvergenceWarning: Stochastic Optimizer: Maximum iterations (200) reached and the optimization hasn't converged yet.\n",
      "  warnings.warn(\n",
      "f:\\Python\\lib\\site-packages\\sklearn\\neural_network\\_multilayer_perceptron.py:691: ConvergenceWarning: Stochastic Optimizer: Maximum iterations (200) reached and the optimization hasn't converged yet.\n",
      "  warnings.warn(\n",
      "f:\\Python\\lib\\site-packages\\sklearn\\neural_network\\_multilayer_perceptron.py:691: ConvergenceWarning: Stochastic Optimizer: Maximum iterations (200) reached and the optimization hasn't converged yet.\n",
      "  warnings.warn(\n"
     ]
    },
    {
     "name": "stdout",
     "output_type": "stream",
     "text": [
      "5-Fold CV Mean MSE: 0.3888482208310374\n",
      "5-Fold CV Scores: [0.34684872 0.4093356  0.36669381 0.36951854 0.45184443]\n"
     ]
    },
    {
     "name": "stderr",
     "output_type": "stream",
     "text": [
      "f:\\Python\\lib\\site-packages\\sklearn\\neural_network\\_multilayer_perceptron.py:691: ConvergenceWarning: Stochastic Optimizer: Maximum iterations (200) reached and the optimization hasn't converged yet.\n",
      "  warnings.warn(\n"
     ]
    }
   ],
   "source": [
    "from sklearn.datasets import fetch_california_housing\n",
    "from sklearn.model_selection import cross_val_score\n",
    "from sklearn.neural_network import MLPRegressor\n",
    "from sklearn.preprocessing import StandardScaler\n",
    "from sklearn.pipeline import Pipeline\n",
    "import numpy as np\n",
    "\n",
    "# Load the California Housing dataset\n",
    "data = fetch_california_housing()\n",
    "X, y = data.data, data.target\n",
    "\n",
    "# Define the pipeline with StandardScaler and MLPRegressor\n",
    "pipeline = Pipeline([\n",
    "    ('scaler', StandardScaler()),\n",
    "    ('mlp', MLPRegressor(hidden_layer_sizes=(128, 64),\n",
    "                         activation='tanh',\n",
    "                         solver='adam',\n",
    "                         max_iter=200,\n",
    "                         random_state=42))\n",
    "])\n",
    "\n",
    "# Perform 3-fold cross-validation\n",
    "scores_3fold = cross_val_score(pipeline, X, y, scoring='neg_mean_squared_error', cv=3)\n",
    "mean_mse_3fold = -np.mean(scores_3fold)\n",
    "print(\"3-Fold CV Mean MSE:\", mean_mse_3fold)\n",
    "print(\"3-Fold CV Scores:\", -scores_3fold)\n",
    "\n",
    "# Perform 5-fold cross-validation\n",
    "scores_5fold = cross_val_score(pipeline, X, y, scoring='neg_mean_squared_error', cv=5)\n",
    "mean_mse_5fold = -np.mean(scores_5fold)\n",
    "print(\"5-Fold CV Mean MSE:\", mean_mse_5fold)\n",
    "print(\"5-Fold CV Scores:\", -scores_5fold)\n"
   ]
  },
  {
   "cell_type": "markdown",
   "id": "16f7cd85",
   "metadata": {},
   "source": [
    "- Using 3-fold cross-validation instead of 5-fold in your MLPRegressor evaluation on the California Housing Prices dataset resulted in a higher mean MSE (0.4361 vs. 0.3888) and greater variability across folds. This suggests that 3-fold CV may provide less stable and potentially less reliable performance estimates compared to 5-fold CV.\n",
    "\n",
    "- The choice between 3-fold and 5-fold cross-validation involves a trade-off between computational efficiency and the reliability of performance estimates. While 3-fold CV requires fewer computations, it may lead to higher variance in the performance metrics, making the estimates more sensitive to specific data splits. On the other hand, 5-fold CV offers a better balance between bias and variance, providing more stable and reliable estimates of model performance."
   ]
  }
 ],
 "metadata": {
  "kernelspec": {
   "display_name": "Python 3",
   "language": "python",
   "name": "python3"
  },
  "language_info": {
   "codemirror_mode": {
    "name": "ipython",
    "version": 3
   },
   "file_extension": ".py",
   "mimetype": "text/x-python",
   "name": "python",
   "nbconvert_exporter": "python",
   "pygments_lexer": "ipython3",
   "version": "3.9.1"
  }
 },
 "nbformat": 4,
 "nbformat_minor": 5
}
