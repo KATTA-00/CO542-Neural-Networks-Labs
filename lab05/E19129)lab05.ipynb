{
  "cells": [
    {
      "cell_type": "markdown",
      "metadata": {
        "id": "view-in-github",
        "colab_type": "text"
      },
      "source": [
        "<a href=\"https://colab.research.google.com/github/KATTA-00/CO542-Neural-Networks-Labs/blob/main/lab05/E19129)lab05.ipynb\" target=\"_parent\"><img src=\"https://colab.research.google.com/assets/colab-badge.svg\" alt=\"Open In Colab\"/></a>"
      ]
    },
    {
      "cell_type": "markdown",
      "id": "02cc1fab",
      "metadata": {
        "id": "02cc1fab"
      },
      "source": [
        "# CO542 - Neural Networks and Fuzzy Systems\n",
        "## E/19/129 - K.H. Gunawardana\n",
        "\n",
        "### Lab 05: Convolutional Neural Networks (CNN)"
      ]
    },
    {
      "cell_type": "markdown",
      "id": "4c93cc7e",
      "metadata": {
        "id": "4c93cc7e"
      },
      "source": [
        "### **Installation and Creating a CNN Model**"
      ]
    },
    {
      "cell_type": "code",
      "execution_count": 1,
      "id": "d2ef7120",
      "metadata": {
        "id": "d2ef7120",
        "outputId": "7d68ff85-25af-41fb-a5bd-c9a2846aa441",
        "colab": {
          "base_uri": "https://localhost:8080/"
        }
      },
      "outputs": [
        {
          "output_type": "stream",
          "name": "stdout",
          "text": [
            "Requirement already satisfied: torch in /usr/local/lib/python3.11/dist-packages (2.6.0+cu124)\n",
            "Requirement already satisfied: torchvision in /usr/local/lib/python3.11/dist-packages (0.21.0+cu124)\n",
            "Requirement already satisfied: filelock in /usr/local/lib/python3.11/dist-packages (from torch) (3.18.0)\n",
            "Requirement already satisfied: typing-extensions>=4.10.0 in /usr/local/lib/python3.11/dist-packages (from torch) (4.14.0)\n",
            "Requirement already satisfied: networkx in /usr/local/lib/python3.11/dist-packages (from torch) (3.5)\n",
            "Requirement already satisfied: jinja2 in /usr/local/lib/python3.11/dist-packages (from torch) (3.1.6)\n",
            "Requirement already satisfied: fsspec in /usr/local/lib/python3.11/dist-packages (from torch) (2025.3.2)\n",
            "Requirement already satisfied: nvidia-cuda-nvrtc-cu12==12.4.127 in /usr/local/lib/python3.11/dist-packages (from torch) (12.4.127)\n",
            "Requirement already satisfied: nvidia-cuda-runtime-cu12==12.4.127 in /usr/local/lib/python3.11/dist-packages (from torch) (12.4.127)\n",
            "Requirement already satisfied: nvidia-cuda-cupti-cu12==12.4.127 in /usr/local/lib/python3.11/dist-packages (from torch) (12.4.127)\n",
            "Requirement already satisfied: nvidia-cudnn-cu12==9.1.0.70 in /usr/local/lib/python3.11/dist-packages (from torch) (9.1.0.70)\n",
            "Requirement already satisfied: nvidia-cublas-cu12==12.4.5.8 in /usr/local/lib/python3.11/dist-packages (from torch) (12.4.5.8)\n",
            "Requirement already satisfied: nvidia-cufft-cu12==11.2.1.3 in /usr/local/lib/python3.11/dist-packages (from torch) (11.2.1.3)\n",
            "Requirement already satisfied: nvidia-curand-cu12==10.3.5.147 in /usr/local/lib/python3.11/dist-packages (from torch) (10.3.5.147)\n",
            "Requirement already satisfied: nvidia-cusolver-cu12==11.6.1.9 in /usr/local/lib/python3.11/dist-packages (from torch) (11.6.1.9)\n",
            "Requirement already satisfied: nvidia-cusparse-cu12==12.3.1.170 in /usr/local/lib/python3.11/dist-packages (from torch) (12.3.1.170)\n",
            "Requirement already satisfied: nvidia-cusparselt-cu12==0.6.2 in /usr/local/lib/python3.11/dist-packages (from torch) (0.6.2)\n",
            "Requirement already satisfied: nvidia-nccl-cu12==2.21.5 in /usr/local/lib/python3.11/dist-packages (from torch) (2.21.5)\n",
            "Requirement already satisfied: nvidia-nvtx-cu12==12.4.127 in /usr/local/lib/python3.11/dist-packages (from torch) (12.4.127)\n",
            "Requirement already satisfied: nvidia-nvjitlink-cu12==12.4.127 in /usr/local/lib/python3.11/dist-packages (from torch) (12.4.127)\n",
            "Requirement already satisfied: triton==3.2.0 in /usr/local/lib/python3.11/dist-packages (from torch) (3.2.0)\n",
            "Requirement already satisfied: sympy==1.13.1 in /usr/local/lib/python3.11/dist-packages (from torch) (1.13.1)\n",
            "Requirement already satisfied: mpmath<1.4,>=1.1.0 in /usr/local/lib/python3.11/dist-packages (from sympy==1.13.1->torch) (1.3.0)\n",
            "Requirement already satisfied: numpy in /usr/local/lib/python3.11/dist-packages (from torchvision) (2.0.2)\n",
            "Requirement already satisfied: pillow!=8.3.*,>=5.3.0 in /usr/local/lib/python3.11/dist-packages (from torchvision) (11.2.1)\n",
            "Requirement already satisfied: MarkupSafe>=2.0 in /usr/local/lib/python3.11/dist-packages (from jinja2->torch) (3.0.2)\n"
          ]
        }
      ],
      "source": [
        "!pip install torch torchvision"
      ]
    },
    {
      "cell_type": "code",
      "source": [
        "import torch\n",
        "import torch.nn as nn\n",
        "import torch.optim as optim\n",
        "\n",
        "# Define CNN model\n",
        "class CNN(nn.Module):\n",
        "    def __init__(self):\n",
        "        super(CNN, self).__init__()\n",
        "        self.conv1 = nn.Conv2d(in_channels=1, out_channels=32, kernel_size=3)\n",
        "        self.pool = nn.MaxPool2d(kernel_size=2, stride=2)\n",
        "        self.flatten = nn.Flatten()\n",
        "        self.fc = nn.Linear(32 * 13 * 13, 10)  # Assuming input images are 28x28\n",
        "\n",
        "    def forward(self, x):\n",
        "        x = self.pool(torch.relu(self.conv1(x)))\n",
        "        x = self.flatten(x)\n",
        "        x = self.fc(x)\n",
        "        return x\n",
        "\n",
        "# Create an instance of CNN model\n",
        "model = CNN()"
      ],
      "metadata": {
        "id": "h-wyYkbalj1t"
      },
      "id": "h-wyYkbalj1t",
      "execution_count": 2,
      "outputs": []
    },
    {
      "cell_type": "markdown",
      "source": [
        "### **Task: Image Classification using CNN (MNIST Dataset)**"
      ],
      "metadata": {
        "id": "79vAuDb1mItM"
      },
      "id": "79vAuDb1mItM"
    },
    {
      "cell_type": "code",
      "source": [
        "import torch\n",
        "import torchvision\n",
        "import torchvision.transforms as transforms\n",
        "from torch.utils.data import DataLoader\n",
        "\n",
        "# Define transformations\n",
        "transform = transforms.Compose([\n",
        "    transforms.ToTensor(),                # Converts image to PyTorch tensor\n",
        "    transforms.Normalize((0.5,), (0.5,))  # Normalize to [-1, 1]\n",
        "])\n",
        "\n",
        "# Load training and test datasets\n",
        "train_dataset = torchvision.datasets.MNIST(root='./data', train=True, download=True, transform=transform)\n",
        "test_dataset = torchvision.datasets.MNIST(root='./data', train=False, download=True, transform=transform)\n",
        "\n",
        "# Create data loaders\n",
        "train_loader = DataLoader(train_dataset, batch_size=64, shuffle=True)\n",
        "test_loader = DataLoader(test_dataset, batch_size=1000, shuffle=False)"
      ],
      "metadata": {
        "id": "LAB15rD-mGxO"
      },
      "id": "LAB15rD-mGxO",
      "execution_count": 3,
      "outputs": []
    },
    {
      "cell_type": "code",
      "source": [
        "import torch.nn as nn\n",
        "import torch.nn.functional as F\n",
        "\n",
        "class CNN(nn.Module):\n",
        "    def __init__(self):\n",
        "        super(CNN, self).__init__()\n",
        "        # First conv layer: 1 input channel (grayscale), 32 output channels, 3x3 kernel\n",
        "        self.conv1 = nn.Conv2d(1, 32, kernel_size=3)\n",
        "        self.pool1 = nn.MaxPool2d(kernel_size=2, stride=2)\n",
        "        self.drop1 = nn.Dropout(0.25)\n",
        "\n",
        "        # Second conv layer: 32 input channels, 64 output channels, 3x3 kernel\n",
        "        self.conv2 = nn.Conv2d(32, 64, kernel_size=3)\n",
        "        self.pool2 = nn.MaxPool2d(kernel_size=2, stride=2)\n",
        "        self.drop2 = nn.Dropout(0.25)\n",
        "\n",
        "        # Third conv layer: 64 input channels, 128 output channels, 3x3 kernel\n",
        "        self.conv3 = nn.Conv2d(64, 128, kernel_size=3)\n",
        "        self.pool3 = nn.MaxPool2d(kernel_size=2, stride=2)\n",
        "        self.drop3 = nn.Dropout(0.25)\n",
        "\n",
        "        # Calculate output size after conv + pooling: 128x1x1 (approx)\n",
        "        self.fc1 = nn.Linear(128, 128)\n",
        "        self.fc2 = nn.Linear(128, 10)  # 10 output classes\n",
        "\n",
        "    def forward(self, x):\n",
        "        x = self.pool1(F.relu(self.conv1(x)))\n",
        "        x = self.drop1(x)\n",
        "        x = self.pool2(F.relu(self.conv2(x)))\n",
        "        x = self.drop2(x)\n",
        "        x = self.pool3(F.relu(self.conv3(x)))\n",
        "        x = self.drop3(x)\n",
        "\n",
        "        x = torch.flatten(x, 1)  # Flatten all dimensions except batch\n",
        "        x = F.relu(self.fc1(x))\n",
        "        x = self.fc2(x)\n",
        "        return x"
      ],
      "metadata": {
        "id": "hFv1XUYqde_V"
      },
      "id": "hFv1XUYqde_V",
      "execution_count": 4,
      "outputs": []
    },
    {
      "cell_type": "code",
      "source": [
        "import torch.optim as optim\n",
        "\n",
        "# Device configuration (use GPU if available)\n",
        "device = torch.device(\"cuda\" if torch.cuda.is_available() else \"cpu\")\n",
        "model_cnn = CNN().to(device)\n",
        "\n",
        "# Loss function and optimizer\n",
        "criterion = nn.CrossEntropyLoss()\n",
        "optimizer = optim.Adam(model.parameters(), lr=0.001)"
      ],
      "metadata": {
        "id": "oBnNvhVgd3EK"
      },
      "id": "oBnNvhVgd3EK",
      "execution_count": 5,
      "outputs": []
    },
    {
      "cell_type": "code",
      "source": [
        "device"
      ],
      "metadata": {
        "colab": {
          "base_uri": "https://localhost:8080/"
        },
        "id": "lfoU-dIseSuO",
        "outputId": "d96f4317-2e81-422f-ee85-62c170f60dbc"
      },
      "id": "lfoU-dIseSuO",
      "execution_count": 6,
      "outputs": [
        {
          "output_type": "execute_result",
          "data": {
            "text/plain": [
              "device(type='cuda')"
            ]
          },
          "metadata": {},
          "execution_count": 6
        }
      ]
    },
    {
      "cell_type": "code",
      "source": [
        "train_losses = []\n",
        "train_accuracies = []"
      ],
      "metadata": {
        "id": "oNPda0canLx6"
      },
      "id": "oNPda0canLx6",
      "execution_count": 7,
      "outputs": []
    },
    {
      "cell_type": "code",
      "source": [
        "# Training loop\n",
        "num_epochs = 5\n",
        "for epoch in range(num_epochs):\n",
        "    model_cnn.train()\n",
        "    running_loss = 0.0\n",
        "    correct = 0\n",
        "    total = 0\n",
        "    for images, labels in train_loader:\n",
        "        images, labels = images.to(device), labels.to(device)\n",
        "\n",
        "        optimizer.zero_grad()              # Clear gradients\n",
        "        outputs = model_cnn(images)            # Forward pass\n",
        "        loss = criterion(outputs, labels)  # Compute loss\n",
        "        loss.backward()                    # Backpropagation\n",
        "        optimizer.step()                   # Update weights\n",
        "\n",
        "        running_loss += loss.item()\n",
        "        _, predicted = torch.max(outputs.data, 1)\n",
        "        total += labels.size(0)\n",
        "        correct += (predicted == labels).sum().item()\n",
        "\n",
        "    accuracy = 100 * correct / total\n",
        "    print(f\"Epoch [{epoch+1}/{num_epochs}], Loss: {running_loss:.4f}, Accuracy: {accuracy:.2f}%\")"
      ],
      "metadata": {
        "colab": {
          "base_uri": "https://localhost:8080/"
        },
        "id": "U-ijDP89d3AY",
        "outputId": "b8a79cf5-a6ba-4165-9cd9-5a277327f438"
      },
      "id": "U-ijDP89d3AY",
      "execution_count": 8,
      "outputs": [
        {
          "output_type": "stream",
          "name": "stdout",
          "text": [
            "Epoch [1/5], Loss: 2163.5665, Accuracy: 10.49%\n",
            "Epoch [2/5], Loss: 2163.5475, Accuracy: 10.60%\n",
            "Epoch [3/5], Loss: 2163.4179, Accuracy: 10.60%\n",
            "Epoch [4/5], Loss: 2163.8892, Accuracy: 10.43%\n",
            "Epoch [5/5], Loss: 2163.6553, Accuracy: 10.64%\n"
          ]
        }
      ]
    },
    {
      "cell_type": "code",
      "source": [
        "import numpy as np\n",
        "\n",
        "model_cnn.eval()\n",
        "correct = 0\n",
        "total = 0\n",
        "misclassified_images = []\n",
        "misclassified_labels = []\n",
        "misclassified_preds = []\n",
        "\n",
        "with torch.no_grad():\n",
        "    for images, labels in test_loader:\n",
        "        images, labels = images.to(device), labels.to(device)\n",
        "        outputs = model_cnn(images)\n",
        "        _, predicted = torch.max(outputs.data, 1)\n",
        "        total += labels.size(0)\n",
        "        correct += (predicted == labels).sum().item()\n",
        "\n",
        "        # Store misclassified\n",
        "        for i in range(len(labels)):\n",
        "            if predicted[i] != labels[i]:\n",
        "                misclassified_images.append(images[i].cpu())\n",
        "                misclassified_labels.append(labels[i].cpu())\n",
        "                misclassified_preds.append(predicted[i].cpu())\n",
        "\n",
        "accuracy = 100 * correct / total\n",
        "print(f\"Test Accuracy: {accuracy:.2f}%\")"
      ],
      "metadata": {
        "colab": {
          "base_uri": "https://localhost:8080/"
        },
        "id": "hGScWetBd24k",
        "outputId": "6a9c72aa-afaa-4ca7-f35e-2efa2814ad03"
      },
      "id": "hGScWetBd24k",
      "execution_count": 9,
      "outputs": [
        {
          "output_type": "stream",
          "name": "stdout",
          "text": [
            "Test Accuracy: 9.90%\n"
          ]
        }
      ]
    },
    {
      "cell_type": "code",
      "source": [
        "import matplotlib.pyplot as plt\n",
        "\n",
        "def imshow(img):\n",
        "    img = img * 0.5 + 0.5  # Unnormalize from [-1,1] to [0,1]\n",
        "    npimg = img.numpy()\n",
        "    plt.imshow(np.transpose(npimg, (1, 2, 0)), cmap='gray')\n",
        "    plt.axis('off')\n",
        "    plt.show()\n",
        "\n",
        "# Show 6 misclassified images\n",
        "for i in range(6):\n",
        "    plt.title(f\"True: {misclassified_labels[i]}, Pred: {misclassified_preds[i]}\")\n",
        "    imshow(misclassified_images[i])"
      ],
      "metadata": {
        "colab": {
          "base_uri": "https://localhost:8080/",
          "height": 1000
        },
        "id": "nX8dThqod2ri",
        "outputId": "adf890b8-39f5-46a0-a7f4-e668846dab9b"
      },
      "id": "nX8dThqod2ri",
      "execution_count": 11,
      "outputs": [
        {
          "output_type": "display_data",
          "data": {
            "text/plain": [
              "<Figure size 640x480 with 1 Axes>"
            ],
            "image/png": "[encoded data removed]"
          },
          "metadata": {}
        },
        {
          "output_type": "display_data",
          "data": {
            "text/plain": [
              "<Figure size 640x480 with 1 Axes>"
            ],
            "image/png": "[encoded data removed]"
          },
          "metadata": {}
        },
        {
          "output_type": "display_data",
          "data": {
            "text/plain": [
              "<Figure size 640x480 with 1 Axes>"
            ],
            "image/png": "[encoded data removed]"
          },
          "metadata": {}
        },
        {
          "output_type": "display_data",
          "data": {
            "text/plain": [
              "<Figure size 640x480 with 1 Axes>"
            ],
            "image/png": "[encoded data removed]"
          },
          "metadata": {}
        },
        {
          "output_type": "display_data",
          "data": {
            "text/plain": [
              "<Figure size 640x480 with 1 Axes>"
            ],
            "image/png": "[encoded data removed]"
          },
          "metadata": {}
        },
        {
          "output_type": "display_data",
          "data": {
            "text/plain": [
              "<Figure size 640x480 with 1 Axes>"
            ],
            "image/png": "[encoded data removed]"
          },
          "metadata": {}
        }
      ]
    },
    {
      "cell_type": "markdown",
      "source": [
        "#### Experiment with different activation functions (e.g., ReLU, LeakyReLU) and compare their performance."
      ],
      "metadata": {
        "id": "w3-IWcjNnXs-"
      },
      "id": "w3-IWcjNnXs-"
    },
    {
      "cell_type": "code",
      "source": [
        "class CNN_LeakyReLU(nn.Module):\n",
        "    def __init__(self):\n",
        "        super(CNN_LeakyReLU, self).__init__()\n",
        "        self.conv1 = nn.Conv2d(1, 32, kernel_size=3)\n",
        "        self.pool1 = nn.MaxPool2d(kernel_size=2, stride=2)\n",
        "        self.drop1 = nn.Dropout(0.25)\n",
        "\n",
        "        self.conv2 = nn.Conv2d(32, 64, kernel_size=3)\n",
        "        self.pool2 = nn.MaxPool2d(kernel_size=2, stride=2)\n",
        "        self.drop2 = nn.Dropout(0.25)\n",
        "\n",
        "        self.conv3 = nn.Conv2d(64, 128, kernel_size=3)\n",
        "        self.pool3 = nn.MaxPool2d(kernel_size=2, stride=2)\n",
        "        self.drop3 = nn.Dropout(0.25)\n",
        "\n",
        "        self.fc1 = nn.Linear(128, 128)\n",
        "        self.fc2 = nn.Linear(128, 10)\n",
        "        self.leaky_relu = nn.LeakyReLU(0.01)\n",
        "\n",
        "    def forward(self, x):\n",
        "        x = self.pool1(self.leaky_relu(self.conv1(x)))\n",
        "        x = self.drop1(x)\n",
        "        x = self.pool2(self.leaky_relu(self.conv2(x)))\n",
        "        x = self.drop2(x)\n",
        "        x = self.pool3(self.leaky_relu(self.conv3(x)))\n",
        "        x = self.drop3(x)\n",
        "        x = torch.flatten(x, 1)\n",
        "        x = self.leaky_relu(self.fc1(x))\n",
        "        x = self.fc2(x)\n",
        "        return x"
      ],
      "metadata": {
        "id": "R1CTKleWffYY"
      },
      "id": "R1CTKleWffYY",
      "execution_count": null,
      "outputs": []
    },
    {
      "cell_type": "code",
      "source": [
        "model_leaky = CNN_LeakyReLU().to(device)\n",
        "criterion = nn.CrossEntropyLoss()\n",
        "optimizer = optim.Adam(model_leaky.parameters(), lr=0.001)"
      ],
      "metadata": {
        "id": "Z2OouS45ffV3"
      },
      "id": "Z2OouS45ffV3",
      "execution_count": null,
      "outputs": []
    },
    {
      "cell_type": "code",
      "source": [
        "# Training loop\n",
        "num_epochs = 5\n",
        "for epoch in range(num_epochs):\n",
        "    model_leaky.train()\n",
        "    running_loss = 0.0\n",
        "    correct = 0\n",
        "    total = 0\n",
        "    for images, labels in train_loader:\n",
        "        images, labels = images.to(device), labels.to(device)\n",
        "\n",
        "        optimizer.zero_grad()              # Clear gradients\n",
        "        outputs = model_leaky(images)            # Forward pass\n",
        "        loss = criterion(outputs, labels)  # Compute loss\n",
        "        loss.backward()                    # Backpropagation\n",
        "        optimizer.step()                   # Update weights\n",
        "\n",
        "        running_loss += loss.item()\n",
        "        _, predicted = torch.max(outputs.data, 1)\n",
        "        total += labels.size(0)\n",
        "        correct += (predicted == labels).sum().item()\n",
        "\n",
        "    accuracy = 100 * correct / total\n",
        "    print(f\"Epoch [{epoch+1}/{num_epochs}], Loss: {running_loss:.4f}, Accuracy: {accuracy:.2f}%\")"
      ],
      "metadata": {
        "id": "KhbR_uEiffSU"
      },
      "id": "KhbR_uEiffSU",
      "execution_count": null,
      "outputs": []
    },
    {
      "cell_type": "markdown",
      "source": [
        "#### Extend the model to classify CIFAR-10 dataset images."
      ],
      "metadata": {
        "id": "SE4qANSXngBh"
      },
      "id": "SE4qANSXngBh"
    },
    {
      "cell_type": "code",
      "source": [
        "transform = transforms.Compose([\n",
        "    transforms.ToTensor(),\n",
        "    transforms.Normalize((0.5, 0.5, 0.5), (0.5, 0.5, 0.5))  # Normalize to [-1, 1]\n",
        "])\n",
        "\n",
        "trainset = torchvision.datasets.CIFAR10(root='./data', train=True,\n",
        "                                        download=True, transform=transform)\n",
        "trainloader = DataLoader(trainset, batch_size=64, shuffle=True)\n",
        "\n",
        "testset = torchvision.datasets.CIFAR10(root='./data', train=False,\n",
        "                                       download=True, transform=transform)\n",
        "testloader = DataLoader(testset, batch_size=64, shuffle=False)\n",
        "\n",
        "classes = trainset.classes"
      ],
      "metadata": {
        "id": "u57957peffOa"
      },
      "id": "u57957peffOa",
      "execution_count": null,
      "outputs": []
    },
    {
      "cell_type": "code",
      "source": [
        "class CIFAR10_CNN(nn.Module):\n",
        "    def __init__(self):\n",
        "        super(CIFAR10_CNN, self).__init__()\n",
        "        self.conv1 = nn.Conv2d(3, 32, 3, padding=1)\n",
        "        self.conv2 = nn.Conv2d(32, 64, 3, padding=1)\n",
        "        self.conv3 = nn.Conv2d(64, 128, 3, padding=1)\n",
        "\n",
        "        self.pool = nn.MaxPool2d(2, 2)\n",
        "        self.dropout = nn.Dropout(0.25)\n",
        "\n",
        "        self.fc1 = nn.Linear(128 * 4 * 4, 128)\n",
        "        self.fc2 = nn.Linear(128, 10)\n",
        "        self.relu = nn.ReLU()\n",
        "\n",
        "    def forward(self, x):\n",
        "        x = self.pool(self.relu(self.conv1(x)))\n",
        "        x = self.pool(self.relu(self.conv2(x)))\n",
        "        x = self.pool(self.relu(self.conv3(x)))\n",
        "        x = self.dropout(x)\n",
        "        x = torch.flatten(x, 1)\n",
        "        x = self.relu(self.fc1(x))\n",
        "        x = self.fc2(x)\n",
        "        return x"
      ],
      "metadata": {
        "id": "YWq849usffKq"
      },
      "id": "YWq849usffKq",
      "execution_count": null,
      "outputs": []
    },
    {
      "cell_type": "code",
      "source": [
        "model = CIFAR10_CNN().to(device)\n",
        "criterion = nn.CrossEntropyLoss()\n",
        "optimizer = optim.Adam(model.parameters(), lr=0.001)\n",
        "\n",
        "# Training loop\n",
        "epochs = 10\n",
        "for epoch in range(epochs):\n",
        "    running_loss = 0.0\n",
        "    model.train()\n",
        "    for inputs, labels in trainloader:\n",
        "        inputs, labels = inputs.to(device), labels.to(device)\n",
        "\n",
        "        optimizer.zero_grad()\n",
        "        outputs = model(inputs)\n",
        "        loss = criterion(outputs, labels)\n",
        "        loss.backward()\n",
        "        optimizer.step()\n",
        "\n",
        "        running_loss += loss.item()\n",
        "\n",
        "    print(f\"Epoch {epoch+1}/{epochs}, Loss: {running_loss/len(trainloader):.4f}\")\n"
      ],
      "metadata": {
        "id": "eA8XbTMjffHd"
      },
      "id": "eA8XbTMjffHd",
      "execution_count": null,
      "outputs": []
    },
    {
      "cell_type": "code",
      "source": [
        "correct = 0\n",
        "total = 0\n",
        "model.eval()\n",
        "\n",
        "with torch.no_grad():\n",
        "    for inputs, labels in testloader:\n",
        "        inputs, labels = inputs.to(device), labels.to(device)\n",
        "        outputs = model(inputs)\n",
        "        _, predicted = torch.max(outputs.data, 1)\n",
        "        total += labels.size(0)\n",
        "        correct += (predicted == labels).sum().item()\n",
        "\n",
        "print(f\"Test Accuracy: {100 * correct / total:.2f}%\")"
      ],
      "metadata": {
        "id": "A5BBrQB0lDI-"
      },
      "id": "A5BBrQB0lDI-",
      "execution_count": null,
      "outputs": []
    },
    {
      "cell_type": "code",
      "source": [
        "def imshow(img):\n",
        "    img = img / 2 + 0.5  # unnormalize\n",
        "    npimg = img.numpy()\n",
        "    plt.imshow(np.transpose(npimg, (1, 2, 0)))\n",
        "    plt.show()\n",
        "\n",
        "dataiter = iter(testloader)\n",
        "images, labels = next(dataiter)\n",
        "outputs = model(images.to(device))\n",
        "_, predicted = torch.max(outputs, 1)\n",
        "\n",
        "imshow(torchvision.utils.make_grid(images[:4]))\n",
        "print('GroundTruth:', ' '.join(classes[labels[j]] for j in range(4)))\n",
        "print('Predicted:', ' '.join(classes[predicted[j]] for j in range(4)))"
      ],
      "metadata": {
        "id": "AKtd4yBKlC-6"
      },
      "id": "AKtd4yBKlC-6",
      "execution_count": null,
      "outputs": []
    },
    {
      "cell_type": "markdown",
      "source": [
        "### **Questions:**"
      ],
      "metadata": {
        "id": "OzE3qdLOlxV9"
      },
      "id": "OzE3qdLOlxV9"
    },
    {
      "cell_type": "markdown",
      "source": [
        "#### How does the CNN classify different digits in the MNIST dataset?"
      ],
      "metadata": {
        "id": "wWTQAz92l3ez"
      },
      "id": "wWTQAz92l3ez"
    },
    {
      "cell_type": "code",
      "source": [
        "# Show what convolutional filters learn (early feature maps)\n",
        "import matplotlib.pyplot as plt\n",
        "\n",
        "def visualize_feature_maps(model, image):\n",
        "    model.eval()\n",
        "    image = image.unsqueeze(0).to(device)  # Add batch dimension\n",
        "    with torch.no_grad():\n",
        "        x = model_cnn.conv1(image)\n",
        "    fig, axes = plt.subplots(4, 8, figsize=(12, 6))\n",
        "    for i, ax in enumerate(axes.flat):\n",
        "        if i < x.shape[1]:\n",
        "            ax.imshow(x[0, i].cpu(), cmap='gray')\n",
        "            ax.axis('off')\n",
        "    plt.suptitle(\"Feature Maps After First Conv Layer\")\n",
        "    plt.tight_layout()\n",
        "    plt.show()\n",
        "\n",
        "# Pass a sample image to visualize filters\n",
        "sample_img, _ = test_dataset[0]\n",
        "visualize_feature_maps(model, sample_img)"
      ],
      "metadata": {
        "id": "Eb7ZN-FilC6x"
      },
      "id": "Eb7ZN-FilC6x",
      "execution_count": null,
      "outputs": []
    },
    {
      "cell_type": "markdown",
      "source": [
        "- Convolutional Neural Networks (CNNs) classify handwritten digits in the MNIST dataset through hierarchical feature extraction and probabilistic classification. The 28x28 grayscale images, normalized between 0 and 1, are reshaped for CNN input. Early convolutional layers apply small filters (e.g., 3x3 kernels) to detect simple features like edges and corners, visualized as feature maps highlighting key patterns. Deeper layers combine these into complex shapes such as curves and loops. ReLU activations introduce non-linearity for better modeling. Max-pooling layers reduce spatial dimensions, preserving important features and improving computational efficiency and spatial invariance. After convolution and pooling, feature maps are flattened and passed through fully connected layers, culminating in a softmax layer that outputs digit class probabilities. The network is trained using categorical cross-entropy loss and optimized by backpropagation, allowing it to learn filters that specialize in recognizing digit components, thus enabling accurate classification."
      ],
      "metadata": {
        "id": "JaUyIv9job_D"
      },
      "id": "JaUyIv9job_D"
    },
    {
      "cell_type": "markdown",
      "source": [
        "#### Compare ReLU and LeakyReLU activation functions. What are the advantages of LeakyReLU?"
      ],
      "metadata": {
        "id": "7sE16fwvpI8k"
      },
      "id": "7sE16fwvpI8k"
    },
    {
      "cell_type": "code",
      "source": [
        "import torch\n",
        "import torch.nn as nn\n",
        "\n",
        "# Sample input tensor with positive and negative values\n",
        "x = torch.tensor([-3.0, -1.0, 0.0, 1.0, 3.0], requires_grad=True)\n",
        "\n",
        "# Define ReLU and LeakyReLU activation functions\n",
        "relu = nn.ReLU()\n",
        "leaky_relu = nn.LeakyReLU(negative_slope=0.01)\n",
        "\n",
        "# Forward pass through ReLU\n",
        "y_relu = relu(x)\n",
        "print(\"ReLU output:\", y_relu)\n",
        "\n",
        "# Forward pass through LeakyReLU\n",
        "y_leaky = leaky_relu(x)\n",
        "print(\"LeakyReLU output:\", y_leaky)\n",
        "\n",
        "# Backward pass to check gradients\n",
        "y_relu.sum().backward(retain_graph=True)\n",
        "print(\"ReLU gradients:\", x.grad)\n",
        "\n",
        "# Reset gradients\n",
        "x.grad.zero_()\n",
        "\n",
        "y_leaky.sum().backward()\n",
        "print(\"LeakyReLU gradients:\", x.grad)"
      ],
      "metadata": {
        "id": "qi_9WKHvlC3W"
      },
      "id": "qi_9WKHvlC3W",
      "execution_count": null,
      "outputs": []
    },
    {
      "cell_type": "markdown",
      "source": [
        "- ReLU (Rectified Linear Unit) and LeakyReLU are popular activation functions used in neural networks, differing mainly in how they handle negative inputs. When tested on an input tensor with both negative and positive values, ReLU outputs zero for all negative inputs, effectively “turning off” those neurons. This is reflected in its gradient behavior as well—ReLU gradients are zero for negative inputs, which can lead to the problem of “dying neurons” that stop learning because their weights no longer get updated during backpropagation.\n",
        "- In contrast, LeakyReLU allows a small, non-zero output for negative inputs by multiplying them by a small slope (e.g., 0.01). This behavior is clearly seen in the outputs, where LeakyReLU produces small negative values instead of zero, and in its gradients, which remain non-zero for negative inputs. The advantage of LeakyReLU’s non-zero gradients is that it prevents neurons from dying and ensures continuous learning across the entire input range. This consistent gradient flow helps stabilize training, especially in deep networks, and can lead to better convergence and improved performance in certain scenarios compared to standard ReLU."
      ],
      "metadata": {
        "id": "L8tVxx1PpgsX"
      },
      "id": "L8tVxx1PpgsX"
    },
    {
      "cell_type": "markdown",
      "source": [
        "#### What is the role of MaxPooling layers in CNNs?\n",
        "\n",
        "- MaxPooling layers in Convolutional Neural Networks (CNNs) serve several important functions. Primarily, they reduce the spatial dimensions of feature maps by selecting the maximum value within small windows (e.g., 2x2), which decreases computational complexity and the number of parameters in later layers. This downsampling helps retain the strongest and most salient features while suppressing noise and less important details. MaxPooling also introduces a level of translation invariance, making the model more robust to small shifts or distortions in the input images. By focusing on key features and reducing information overload, MaxPooling layers contribute to improved generalization and help prevent overfitting, ultimately enhancing the CNN’s performance on image recognition tasks."
      ],
      "metadata": {
        "id": "6ICxrn7DpgpA"
      },
      "id": "6ICxrn7DpgpA"
    },
    {
      "cell_type": "markdown",
      "id": "3a07c914",
      "metadata": {
        "id": "3a07c914"
      },
      "source": [
        "#### How does dropout improve generalization in neural networks?\n",
        "\n",
        "- Dropout improves generalization in neural networks by preventing overfitting through randomly disabling a fraction of neurons during training. This forces the network to develop independent and redundant feature representations, reducing harmful co-adaptations between neurons. Dropout effectively creates an ensemble of many different subnetworks, which are averaged at test time, enhancing robustness. Additionally, it acts as noise injection that makes the model less sensitive to noisy or corrupted data, improving stability and reducing reliance on specific features. By promoting feature independence and reducing overfitting, dropout helps the network generalize better to unseen data, especially when applied to fully connected layers.\n",
        "\n"
      ]
    },
    {
      "cell_type": "markdown",
      "source": [
        "#### 5. What are the key differences when extending the model to classify CIFAR-10 images?\n",
        "\n",
        "- Extending a CNN model from MNIST to CIFAR-10 classification involves several key differences due to CIFAR-10's higher complexity. Unlike MNIST's 28x28 grayscale images, CIFAR-10 consists of 32x32 color images with three RGB channels, requiring the network to process more complex textures and color information. Architecturally, CIFAR-10 models often require deeper networks (5 to 20+ convolutional layers) with techniques like batch normalization and skip connections (e.g., ResNet) to effectively capture hierarchical features and avoid vanishing gradients. Data augmentation such as random flips, rotations, and shifts becomes essential to improve generalization and reduce overfitting on CIFAR-10’s more varied dataset. Training parameters also differ, typically involving smaller learning rates, longer training epochs, and optimizers like Adam or AdamW. Furthermore, CIFAR-10 models often employ stronger regularization strategies such as dropout and L2 weight decay. Finally, transfer learning from pre-trained networks on larger datasets can significantly boost performance, addressing CIFAR-10’s challenges in feature extraction and limited training data."
      ],
      "metadata": {
        "id": "1w0n4eNZqp9A"
      },
      "id": "1w0n4eNZqp9A"
    }
  ],
  "metadata": {
    "language_info": {
      "name": "python"
    },
    "colab": {
      "provenance": [],
      "gpuType": "T4",
      "include_colab_link": true
    },
    "kernelspec": {
      "name": "python3",
      "display_name": "Python 3"
    },
    "accelerator": "GPU"
  },
  "nbformat": 4,
  "nbformat_minor": 5
}