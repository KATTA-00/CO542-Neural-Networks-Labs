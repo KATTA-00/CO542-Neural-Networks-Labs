{
 "cells": [
  {
   "cell_type": "markdown",
   "id": "02cc1fab",
   "metadata": {},
   "source": [
    "# CO542 - Neural Networks and Fuzzy Systems\n",
    "## E/19/129 - K.H. Gunawardana\n",
    "\n",
    "### Lab 05: Convolutional Neural Networks (CNN)"
   ]
  },
  {
   "cell_type": "markdown",
   "id": "4c93cc7e",
   "metadata": {},
   "source": [
    "### **Installation and Creating a CNN Model**"
   ]
  },
  {
   "cell_type": "code",
   "execution_count": null,
   "id": "d2ef7120",
   "metadata": {},
   "outputs": [],
   "source": [
    "!pip install torch torchvision"
   ]
  },
  {
   "cell_type": "markdown",
   "id": "3a07c914",
   "metadata": {},
   "source": []
  }
 ],
 "metadata": {
  "language_info": {
   "name": "python"
  }
 },
 "nbformat": 4,
 "nbformat_minor": 5
}
